{
 "cells": [
  {
   "cell_type": "markdown",
   "metadata": {},
   "source": [
    "<div style=\"border:solid green 3px; padding: 20px\">\n",
    "\n",
    "<b>Привет!</b>\n",
    "\n",
    "Меня зовут Сороколетов Илья и я буду проверять твой проект. \n",
    "\n",
    "Предлагаю общаться на «**ты**», но если тебе будет комфортнее общаться на «**вы**», то сообщи об этом в комментариях)\n",
    "\n",
    "\n",
    "Для твоего удобства, я буду выделять свои комментарии следующим образом:\n",
    "\n",
    "<div class=\"alert alert-danger\">\n",
    "<b>❌ Комментарий ревьюера v1:</b> Самые важные замечания. Они указывают на ключевые моменты, которые влияют на конечный результат проекта. </div>\n",
    "\n",
    "<div class=\"alert alert-warning\">\n",
    "<b>⚠️ Комментарий ревьюера v1:</b> Советы или замечания, которые помогут сделать твою работу лучше, но необязательны к выполнению.\n",
    "\n",
    "</div>\n",
    "\n",
    "<div class=\"alert alert-success\">\n",
    "<b>✔️ Комментарий ревьюера v1:</b> Так я выделяю все остальные комментарии.</div>\n",
    "\n",
    "\n",
    "Пометками <b>v1-v2-v3-...</b> я буду отмечать версию проверки. Так ты сможешь быстро найти мои новые комментарии.\n",
    "\n",
    "Давай работать над проектом в диалоге: если ты что-то меняешь в проекте по моим рекомендациям — пиши об этом. Выбери для своих комментариев какой-то заметный цвет, так мне будет легче отследить изменения, например вот так:\n",
    "    \n",
    "<div class=\"alert alert-info\">\n",
    "<b>Комментарий студента:</b>\n",
    "<br>\n",
    "</div>\n",
    "\n",
    "<b>Пожалуйста, не перемещай, не изменяй и не удаляй мои комментарии.</b> Если ты оставляешь свои комментарии, то делай это под моими, чтобы сообщения были расположены в хронологическом порядке. Всё это поможет выполнить повторную проверку твоего проекта быстрее. \n",
    "\n",
    "Перед отправкой работы я рекомендую нажимать Kernel -> Restart & Run All. Это перезапустит ядро и по очереди выполнит все ячейки. Так ты сможешь проверить, что всё работает корректно. Кнопка Kernel находится в панели сверху\n",
    "\n",
    "Обязательно задавай вопросы если они возникнут, а я перехожу к проверке)\n",
    "\n",
    "P.S. На всякий случай, я оставлю пустой шаблон для твоих комментариев ниже. Кликни два раза на мой комментарий, скопируй последние четыре строчки кода и вставляй их в пустую ячейку там, где ты хочешь оставить комментарий. Не забудь только перед этим сменить тип ячейки на Markdown. Быстро это можно сделать так: кликнуть на ячейку - нажать ESC - нажать M. \n",
    "    \n",
    "    \n",
    "<div class=\"alert alert-info\">\n",
    "<b>Комментарий студента:</b>\n",
    "<br>Удали этот текст и вместо него напиши свой комментарий 🙂\n",
    "</div>"
   ]
  },
  {
   "cell_type": "markdown",
   "metadata": {},
   "source": [
    "# Исследование объявлений о продаже квартир\n",
    "\n",
    "В вашем распоряжении данные сервиса Яндекс.Недвижимость — архив объявлений о продаже квартир в Санкт-Петербурге и соседних населённых пунктов за несколько лет. Нужно научиться определять рыночную стоимость объектов недвижимости. Ваша задача — установить параметры. Это позволит построить автоматизированную систему: она отследит аномалии и мошенническую деятельность. \n",
    "\n",
    "По каждой квартире на продажу доступны два вида данных. Первые вписаны пользователем, вторые — получены автоматически на основе картографических данных. Например, расстояние до центра, аэропорта, ближайшего парка и водоёма. "
   ]
  },
  {
   "cell_type": "markdown",
   "metadata": {},
   "source": [
    "### Откройте файл с данными и изучите общую информацию. "
   ]
  },
  {
   "cell_type": "code",
   "execution_count": 1,
   "metadata": {},
   "outputs": [
    {
     "name": "stdout",
     "output_type": "stream",
     "text": [
      "<class 'pandas.core.frame.DataFrame'>\n",
      "RangeIndex: 23699 entries, 0 to 23698\n",
      "Data columns (total 22 columns):\n",
      " #   Column                Non-Null Count  Dtype  \n",
      "---  ------                --------------  -----  \n",
      " 0   total_images          23699 non-null  int64  \n",
      " 1   last_price            23699 non-null  float64\n",
      " 2   total_area            23699 non-null  float64\n",
      " 3   first_day_exposition  23699 non-null  object \n",
      " 4   rooms                 23699 non-null  int64  \n",
      " 5   ceiling_height        14504 non-null  float64\n",
      " 6   floors_total          23613 non-null  float64\n",
      " 7   living_area           21796 non-null  float64\n",
      " 8   floor                 23699 non-null  int64  \n",
      " 9   is_apartment          2775 non-null   object \n",
      " 10  studio                23699 non-null  bool   \n",
      " 11  open_plan             23699 non-null  bool   \n",
      " 12  kitchen_area          21421 non-null  float64\n",
      " 13  balcony               12180 non-null  float64\n",
      " 14  locality_name         23650 non-null  object \n",
      " 15  airports_nearest      18157 non-null  float64\n",
      " 16  cityCenters_nearest   18180 non-null  float64\n",
      " 17  parks_around3000      18181 non-null  float64\n",
      " 18  parks_nearest         8079 non-null   float64\n",
      " 19  ponds_around3000      18181 non-null  float64\n",
      " 20  ponds_nearest         9110 non-null   float64\n",
      " 21  days_exposition       20518 non-null  float64\n",
      "dtypes: bool(2), float64(14), int64(3), object(3)\n",
      "memory usage: 3.7+ MB\n",
      "None\n"
     ]
    },
    {
     "data": {
      "text/html": [
       "<div>\n",
       "<style scoped>\n",
       "    .dataframe tbody tr th:only-of-type {\n",
       "        vertical-align: middle;\n",
       "    }\n",
       "\n",
       "    .dataframe tbody tr th {\n",
       "        vertical-align: top;\n",
       "    }\n",
       "\n",
       "    .dataframe thead th {\n",
       "        text-align: right;\n",
       "    }\n",
       "</style>\n",
       "<table border=\"1\" class=\"dataframe\">\n",
       "  <thead>\n",
       "    <tr style=\"text-align: right;\">\n",
       "      <th></th>\n",
       "      <th>total_images</th>\n",
       "      <th>last_price</th>\n",
       "      <th>total_area</th>\n",
       "      <th>first_day_exposition</th>\n",
       "      <th>rooms</th>\n",
       "      <th>ceiling_height</th>\n",
       "      <th>floors_total</th>\n",
       "      <th>living_area</th>\n",
       "      <th>floor</th>\n",
       "      <th>is_apartment</th>\n",
       "      <th>...</th>\n",
       "      <th>kitchen_area</th>\n",
       "      <th>balcony</th>\n",
       "      <th>locality_name</th>\n",
       "      <th>airports_nearest</th>\n",
       "      <th>cityCenters_nearest</th>\n",
       "      <th>parks_around3000</th>\n",
       "      <th>parks_nearest</th>\n",
       "      <th>ponds_around3000</th>\n",
       "      <th>ponds_nearest</th>\n",
       "      <th>days_exposition</th>\n",
       "    </tr>\n",
       "  </thead>\n",
       "  <tbody>\n",
       "    <tr>\n",
       "      <th>0</th>\n",
       "      <td>20</td>\n",
       "      <td>13000000.0</td>\n",
       "      <td>108.0</td>\n",
       "      <td>2019-03-07T00:00:00</td>\n",
       "      <td>3</td>\n",
       "      <td>2.70</td>\n",
       "      <td>16.0</td>\n",
       "      <td>51.0</td>\n",
       "      <td>8</td>\n",
       "      <td>NaN</td>\n",
       "      <td>...</td>\n",
       "      <td>25.0</td>\n",
       "      <td>NaN</td>\n",
       "      <td>Санкт-Петербург</td>\n",
       "      <td>18863.0</td>\n",
       "      <td>16028.0</td>\n",
       "      <td>1.0</td>\n",
       "      <td>482.0</td>\n",
       "      <td>2.0</td>\n",
       "      <td>755.0</td>\n",
       "      <td>NaN</td>\n",
       "    </tr>\n",
       "    <tr>\n",
       "      <th>1</th>\n",
       "      <td>7</td>\n",
       "      <td>3350000.0</td>\n",
       "      <td>40.4</td>\n",
       "      <td>2018-12-04T00:00:00</td>\n",
       "      <td>1</td>\n",
       "      <td>NaN</td>\n",
       "      <td>11.0</td>\n",
       "      <td>18.6</td>\n",
       "      <td>1</td>\n",
       "      <td>NaN</td>\n",
       "      <td>...</td>\n",
       "      <td>11.0</td>\n",
       "      <td>2.0</td>\n",
       "      <td>посёлок Шушары</td>\n",
       "      <td>12817.0</td>\n",
       "      <td>18603.0</td>\n",
       "      <td>0.0</td>\n",
       "      <td>NaN</td>\n",
       "      <td>0.0</td>\n",
       "      <td>NaN</td>\n",
       "      <td>81.0</td>\n",
       "    </tr>\n",
       "    <tr>\n",
       "      <th>2</th>\n",
       "      <td>10</td>\n",
       "      <td>5196000.0</td>\n",
       "      <td>56.0</td>\n",
       "      <td>2015-08-20T00:00:00</td>\n",
       "      <td>2</td>\n",
       "      <td>NaN</td>\n",
       "      <td>5.0</td>\n",
       "      <td>34.3</td>\n",
       "      <td>4</td>\n",
       "      <td>NaN</td>\n",
       "      <td>...</td>\n",
       "      <td>8.3</td>\n",
       "      <td>0.0</td>\n",
       "      <td>Санкт-Петербург</td>\n",
       "      <td>21741.0</td>\n",
       "      <td>13933.0</td>\n",
       "      <td>1.0</td>\n",
       "      <td>90.0</td>\n",
       "      <td>2.0</td>\n",
       "      <td>574.0</td>\n",
       "      <td>558.0</td>\n",
       "    </tr>\n",
       "    <tr>\n",
       "      <th>3</th>\n",
       "      <td>0</td>\n",
       "      <td>64900000.0</td>\n",
       "      <td>159.0</td>\n",
       "      <td>2015-07-24T00:00:00</td>\n",
       "      <td>3</td>\n",
       "      <td>NaN</td>\n",
       "      <td>14.0</td>\n",
       "      <td>NaN</td>\n",
       "      <td>9</td>\n",
       "      <td>NaN</td>\n",
       "      <td>...</td>\n",
       "      <td>NaN</td>\n",
       "      <td>0.0</td>\n",
       "      <td>Санкт-Петербург</td>\n",
       "      <td>28098.0</td>\n",
       "      <td>6800.0</td>\n",
       "      <td>2.0</td>\n",
       "      <td>84.0</td>\n",
       "      <td>3.0</td>\n",
       "      <td>234.0</td>\n",
       "      <td>424.0</td>\n",
       "    </tr>\n",
       "    <tr>\n",
       "      <th>4</th>\n",
       "      <td>2</td>\n",
       "      <td>10000000.0</td>\n",
       "      <td>100.0</td>\n",
       "      <td>2018-06-19T00:00:00</td>\n",
       "      <td>2</td>\n",
       "      <td>3.03</td>\n",
       "      <td>14.0</td>\n",
       "      <td>32.0</td>\n",
       "      <td>13</td>\n",
       "      <td>NaN</td>\n",
       "      <td>...</td>\n",
       "      <td>41.0</td>\n",
       "      <td>NaN</td>\n",
       "      <td>Санкт-Петербург</td>\n",
       "      <td>31856.0</td>\n",
       "      <td>8098.0</td>\n",
       "      <td>2.0</td>\n",
       "      <td>112.0</td>\n",
       "      <td>1.0</td>\n",
       "      <td>48.0</td>\n",
       "      <td>121.0</td>\n",
       "    </tr>\n",
       "  </tbody>\n",
       "</table>\n",
       "<p>5 rows × 22 columns</p>\n",
       "</div>"
      ],
      "text/plain": [
       "   total_images  last_price  total_area first_day_exposition  rooms  \\\n",
       "0            20  13000000.0       108.0  2019-03-07T00:00:00      3   \n",
       "1             7   3350000.0        40.4  2018-12-04T00:00:00      1   \n",
       "2            10   5196000.0        56.0  2015-08-20T00:00:00      2   \n",
       "3             0  64900000.0       159.0  2015-07-24T00:00:00      3   \n",
       "4             2  10000000.0       100.0  2018-06-19T00:00:00      2   \n",
       "\n",
       "   ceiling_height  floors_total  living_area  floor is_apartment  ...  \\\n",
       "0            2.70          16.0         51.0      8          NaN  ...   \n",
       "1             NaN          11.0         18.6      1          NaN  ...   \n",
       "2             NaN           5.0         34.3      4          NaN  ...   \n",
       "3             NaN          14.0          NaN      9          NaN  ...   \n",
       "4            3.03          14.0         32.0     13          NaN  ...   \n",
       "\n",
       "   kitchen_area  balcony    locality_name  airports_nearest  \\\n",
       "0          25.0      NaN  Санкт-Петербург           18863.0   \n",
       "1          11.0      2.0   посёлок Шушары           12817.0   \n",
       "2           8.3      0.0  Санкт-Петербург           21741.0   \n",
       "3           NaN      0.0  Санкт-Петербург           28098.0   \n",
       "4          41.0      NaN  Санкт-Петербург           31856.0   \n",
       "\n",
       "  cityCenters_nearest  parks_around3000  parks_nearest  ponds_around3000  \\\n",
       "0             16028.0               1.0          482.0               2.0   \n",
       "1             18603.0               0.0            NaN               0.0   \n",
       "2             13933.0               1.0           90.0               2.0   \n",
       "3              6800.0               2.0           84.0               3.0   \n",
       "4              8098.0               2.0          112.0               1.0   \n",
       "\n",
       "   ponds_nearest  days_exposition  \n",
       "0          755.0              NaN  \n",
       "1            NaN             81.0  \n",
       "2          574.0            558.0  \n",
       "3          234.0            424.0  \n",
       "4           48.0            121.0  \n",
       "\n",
       "[5 rows x 22 columns]"
      ]
     },
     "metadata": {},
     "output_type": "display_data"
    },
    {
     "name": "stdout",
     "output_type": "stream",
     "text": [
      "Пропущенные значения:\n",
      "total_images                0\n",
      "last_price                  0\n",
      "total_area                  0\n",
      "first_day_exposition        0\n",
      "rooms                       0\n",
      "ceiling_height           9195\n",
      "floors_total               86\n",
      "living_area              1903\n",
      "floor                       0\n",
      "is_apartment            20924\n",
      "studio                      0\n",
      "open_plan                   0\n",
      "kitchen_area             2278\n",
      "balcony                 11519\n",
      "locality_name              49\n",
      "airports_nearest         5542\n",
      "cityCenters_nearest      5519\n",
      "parks_around3000         5518\n",
      "parks_nearest           15620\n",
      "ponds_around3000         5518\n",
      "ponds_nearest           14589\n",
      "days_exposition          3181\n",
      "dtype: int64\n"
     ]
    },
    {
     "data": {
      "text/html": [
       "<div>\n",
       "<style scoped>\n",
       "    .dataframe tbody tr th:only-of-type {\n",
       "        vertical-align: middle;\n",
       "    }\n",
       "\n",
       "    .dataframe tbody tr th {\n",
       "        vertical-align: top;\n",
       "    }\n",
       "\n",
       "    .dataframe thead th {\n",
       "        text-align: right;\n",
       "    }\n",
       "</style>\n",
       "<table border=\"1\" class=\"dataframe\">\n",
       "  <thead>\n",
       "    <tr style=\"text-align: right;\">\n",
       "      <th></th>\n",
       "      <th>total_images</th>\n",
       "      <th>last_price</th>\n",
       "      <th>total_area</th>\n",
       "      <th>rooms</th>\n",
       "      <th>ceiling_height</th>\n",
       "      <th>floors_total</th>\n",
       "      <th>living_area</th>\n",
       "      <th>floor</th>\n",
       "      <th>kitchen_area</th>\n",
       "      <th>balcony</th>\n",
       "      <th>airports_nearest</th>\n",
       "      <th>cityCenters_nearest</th>\n",
       "      <th>parks_around3000</th>\n",
       "      <th>parks_nearest</th>\n",
       "      <th>ponds_around3000</th>\n",
       "      <th>ponds_nearest</th>\n",
       "      <th>days_exposition</th>\n",
       "    </tr>\n",
       "  </thead>\n",
       "  <tbody>\n",
       "    <tr>\n",
       "      <th>count</th>\n",
       "      <td>23699.000000</td>\n",
       "      <td>2.369900e+04</td>\n",
       "      <td>23699.000000</td>\n",
       "      <td>23699.000000</td>\n",
       "      <td>14504.000000</td>\n",
       "      <td>23613.000000</td>\n",
       "      <td>21796.000000</td>\n",
       "      <td>23699.000000</td>\n",
       "      <td>21421.000000</td>\n",
       "      <td>12180.000000</td>\n",
       "      <td>18157.000000</td>\n",
       "      <td>18180.000000</td>\n",
       "      <td>18181.000000</td>\n",
       "      <td>8079.000000</td>\n",
       "      <td>18181.000000</td>\n",
       "      <td>9110.000000</td>\n",
       "      <td>20518.000000</td>\n",
       "    </tr>\n",
       "    <tr>\n",
       "      <th>mean</th>\n",
       "      <td>9.858475</td>\n",
       "      <td>6.541549e+06</td>\n",
       "      <td>60.348651</td>\n",
       "      <td>2.070636</td>\n",
       "      <td>2.771499</td>\n",
       "      <td>10.673824</td>\n",
       "      <td>34.457852</td>\n",
       "      <td>5.892358</td>\n",
       "      <td>10.569807</td>\n",
       "      <td>1.150082</td>\n",
       "      <td>28793.672193</td>\n",
       "      <td>14191.277833</td>\n",
       "      <td>0.611408</td>\n",
       "      <td>490.804555</td>\n",
       "      <td>0.770255</td>\n",
       "      <td>517.980900</td>\n",
       "      <td>180.888634</td>\n",
       "    </tr>\n",
       "    <tr>\n",
       "      <th>std</th>\n",
       "      <td>5.682529</td>\n",
       "      <td>1.088701e+07</td>\n",
       "      <td>35.654083</td>\n",
       "      <td>1.078405</td>\n",
       "      <td>1.261056</td>\n",
       "      <td>6.597173</td>\n",
       "      <td>22.030445</td>\n",
       "      <td>4.885249</td>\n",
       "      <td>5.905438</td>\n",
       "      <td>1.071300</td>\n",
       "      <td>12630.880622</td>\n",
       "      <td>8608.386210</td>\n",
       "      <td>0.802074</td>\n",
       "      <td>342.317995</td>\n",
       "      <td>0.938346</td>\n",
       "      <td>277.720643</td>\n",
       "      <td>219.727988</td>\n",
       "    </tr>\n",
       "    <tr>\n",
       "      <th>min</th>\n",
       "      <td>0.000000</td>\n",
       "      <td>1.219000e+04</td>\n",
       "      <td>12.000000</td>\n",
       "      <td>0.000000</td>\n",
       "      <td>1.000000</td>\n",
       "      <td>1.000000</td>\n",
       "      <td>2.000000</td>\n",
       "      <td>1.000000</td>\n",
       "      <td>1.300000</td>\n",
       "      <td>0.000000</td>\n",
       "      <td>0.000000</td>\n",
       "      <td>181.000000</td>\n",
       "      <td>0.000000</td>\n",
       "      <td>1.000000</td>\n",
       "      <td>0.000000</td>\n",
       "      <td>13.000000</td>\n",
       "      <td>1.000000</td>\n",
       "    </tr>\n",
       "    <tr>\n",
       "      <th>25%</th>\n",
       "      <td>6.000000</td>\n",
       "      <td>3.400000e+06</td>\n",
       "      <td>40.000000</td>\n",
       "      <td>1.000000</td>\n",
       "      <td>2.520000</td>\n",
       "      <td>5.000000</td>\n",
       "      <td>18.600000</td>\n",
       "      <td>2.000000</td>\n",
       "      <td>7.000000</td>\n",
       "      <td>0.000000</td>\n",
       "      <td>18585.000000</td>\n",
       "      <td>9238.000000</td>\n",
       "      <td>0.000000</td>\n",
       "      <td>288.000000</td>\n",
       "      <td>0.000000</td>\n",
       "      <td>294.000000</td>\n",
       "      <td>45.000000</td>\n",
       "    </tr>\n",
       "    <tr>\n",
       "      <th>50%</th>\n",
       "      <td>9.000000</td>\n",
       "      <td>4.650000e+06</td>\n",
       "      <td>52.000000</td>\n",
       "      <td>2.000000</td>\n",
       "      <td>2.650000</td>\n",
       "      <td>9.000000</td>\n",
       "      <td>30.000000</td>\n",
       "      <td>4.000000</td>\n",
       "      <td>9.100000</td>\n",
       "      <td>1.000000</td>\n",
       "      <td>26726.000000</td>\n",
       "      <td>13098.500000</td>\n",
       "      <td>0.000000</td>\n",
       "      <td>455.000000</td>\n",
       "      <td>1.000000</td>\n",
       "      <td>502.000000</td>\n",
       "      <td>95.000000</td>\n",
       "    </tr>\n",
       "    <tr>\n",
       "      <th>75%</th>\n",
       "      <td>14.000000</td>\n",
       "      <td>6.800000e+06</td>\n",
       "      <td>69.900000</td>\n",
       "      <td>3.000000</td>\n",
       "      <td>2.800000</td>\n",
       "      <td>16.000000</td>\n",
       "      <td>42.300000</td>\n",
       "      <td>8.000000</td>\n",
       "      <td>12.000000</td>\n",
       "      <td>2.000000</td>\n",
       "      <td>37273.000000</td>\n",
       "      <td>16293.000000</td>\n",
       "      <td>1.000000</td>\n",
       "      <td>612.000000</td>\n",
       "      <td>1.000000</td>\n",
       "      <td>729.000000</td>\n",
       "      <td>232.000000</td>\n",
       "    </tr>\n",
       "    <tr>\n",
       "      <th>max</th>\n",
       "      <td>50.000000</td>\n",
       "      <td>7.630000e+08</td>\n",
       "      <td>900.000000</td>\n",
       "      <td>19.000000</td>\n",
       "      <td>100.000000</td>\n",
       "      <td>60.000000</td>\n",
       "      <td>409.700000</td>\n",
       "      <td>33.000000</td>\n",
       "      <td>112.000000</td>\n",
       "      <td>5.000000</td>\n",
       "      <td>84869.000000</td>\n",
       "      <td>65968.000000</td>\n",
       "      <td>3.000000</td>\n",
       "      <td>3190.000000</td>\n",
       "      <td>3.000000</td>\n",
       "      <td>1344.000000</td>\n",
       "      <td>1580.000000</td>\n",
       "    </tr>\n",
       "  </tbody>\n",
       "</table>\n",
       "</div>"
      ],
      "text/plain": [
       "       total_images    last_price    total_area         rooms  ceiling_height  \\\n",
       "count  23699.000000  2.369900e+04  23699.000000  23699.000000    14504.000000   \n",
       "mean       9.858475  6.541549e+06     60.348651      2.070636        2.771499   \n",
       "std        5.682529  1.088701e+07     35.654083      1.078405        1.261056   \n",
       "min        0.000000  1.219000e+04     12.000000      0.000000        1.000000   \n",
       "25%        6.000000  3.400000e+06     40.000000      1.000000        2.520000   \n",
       "50%        9.000000  4.650000e+06     52.000000      2.000000        2.650000   \n",
       "75%       14.000000  6.800000e+06     69.900000      3.000000        2.800000   \n",
       "max       50.000000  7.630000e+08    900.000000     19.000000      100.000000   \n",
       "\n",
       "       floors_total   living_area         floor  kitchen_area       balcony  \\\n",
       "count  23613.000000  21796.000000  23699.000000  21421.000000  12180.000000   \n",
       "mean      10.673824     34.457852      5.892358     10.569807      1.150082   \n",
       "std        6.597173     22.030445      4.885249      5.905438      1.071300   \n",
       "min        1.000000      2.000000      1.000000      1.300000      0.000000   \n",
       "25%        5.000000     18.600000      2.000000      7.000000      0.000000   \n",
       "50%        9.000000     30.000000      4.000000      9.100000      1.000000   \n",
       "75%       16.000000     42.300000      8.000000     12.000000      2.000000   \n",
       "max       60.000000    409.700000     33.000000    112.000000      5.000000   \n",
       "\n",
       "       airports_nearest  cityCenters_nearest  parks_around3000  parks_nearest  \\\n",
       "count      18157.000000         18180.000000      18181.000000    8079.000000   \n",
       "mean       28793.672193         14191.277833          0.611408     490.804555   \n",
       "std        12630.880622          8608.386210          0.802074     342.317995   \n",
       "min            0.000000           181.000000          0.000000       1.000000   \n",
       "25%        18585.000000          9238.000000          0.000000     288.000000   \n",
       "50%        26726.000000         13098.500000          0.000000     455.000000   \n",
       "75%        37273.000000         16293.000000          1.000000     612.000000   \n",
       "max        84869.000000         65968.000000          3.000000    3190.000000   \n",
       "\n",
       "       ponds_around3000  ponds_nearest  days_exposition  \n",
       "count      18181.000000    9110.000000     20518.000000  \n",
       "mean           0.770255     517.980900       180.888634  \n",
       "std            0.938346     277.720643       219.727988  \n",
       "min            0.000000      13.000000         1.000000  \n",
       "25%            0.000000     294.000000        45.000000  \n",
       "50%            1.000000     502.000000        95.000000  \n",
       "75%            1.000000     729.000000       232.000000  \n",
       "max            3.000000    1344.000000      1580.000000  "
      ]
     },
     "metadata": {},
     "output_type": "display_data"
    }
   ],
   "source": [
    "import pandas as pd\n",
    "import numpy as np\n",
    "import matplotlib.pyplot as plt\n",
    "import seaborn as sns; sns.set()\n",
    "%matplotlib inline\n",
    "df = pd.read_csv('/datasets/real_estate_data.csv', sep='\\t')\n",
    "print(df.info())\n",
    "display(df.head())\n",
    "print('Пропущенные значения:')\n",
    "print(df.isna().sum())\n",
    "display(df.describe())"
   ]
  },
  {
   "cell_type": "markdown",
   "metadata": {},
   "source": [
    "<div class=\"alert alert-warning\">\n",
    "<b>⚠️ Комментарий ревьюера v1:</b> \n",
    "<br>Разбивай, пожалуйста, код на несколько ячеек, чтобы у тебя после стены кода не шла стена выводов. Так будет более наглядно и проще комментировать твой код\n",
    "</div>"
   ]
  },
  {
   "cell_type": "markdown",
   "metadata": {},
   "source": [
    "<div class=\"alert alert-warning\">\n",
    "<b>⚠️ Комментарий ревьюера v1:</b> \n",
    "<br>Все библиотеки лучше импортировать отдельно в первой ячейке. Это позволит тебе в любой момент добавить ещё одну библиотеку без перезаписи переменных.\n",
    "</div>"
   ]
  },
  {
   "cell_type": "markdown",
   "metadata": {},
   "source": [
    "<div class=\"alert alert-success\">\n",
    "<b>✔️ Комментарий ревьюера v1:</b> \n",
    "<br>Обрати внимание, что часть столбцов заменилась на \"...\". Чтобы это исправить, нужно увеличить максимальное количество отображающихся столбцов командой\n",
    "\n",
    "\tpd.set_option('display.max_columns', None)\n",
    "</div>"
   ]
  },
  {
   "cell_type": "code",
   "execution_count": 2,
   "metadata": {},
   "outputs": [
    {
     "data": {
      "text/html": [
       "<div>\n",
       "<style scoped>\n",
       "    .dataframe tbody tr th:only-of-type {\n",
       "        vertical-align: middle;\n",
       "    }\n",
       "\n",
       "    .dataframe tbody tr th {\n",
       "        vertical-align: top;\n",
       "    }\n",
       "\n",
       "    .dataframe thead th {\n",
       "        text-align: right;\n",
       "    }\n",
       "</style>\n",
       "<table border=\"1\" class=\"dataframe\">\n",
       "  <thead>\n",
       "    <tr style=\"text-align: right;\">\n",
       "      <th></th>\n",
       "      <th>total_images</th>\n",
       "      <th>last_price</th>\n",
       "      <th>total_area</th>\n",
       "      <th>first_day_exposition</th>\n",
       "      <th>rooms</th>\n",
       "      <th>ceiling_height</th>\n",
       "      <th>floors_total</th>\n",
       "      <th>living_area</th>\n",
       "      <th>floor</th>\n",
       "      <th>is_apartment</th>\n",
       "      <th>studio</th>\n",
       "      <th>open_plan</th>\n",
       "      <th>kitchen_area</th>\n",
       "      <th>balcony</th>\n",
       "      <th>locality_name</th>\n",
       "      <th>airports_nearest</th>\n",
       "      <th>cityCenters_nearest</th>\n",
       "      <th>parks_around3000</th>\n",
       "      <th>parks_nearest</th>\n",
       "      <th>ponds_around3000</th>\n",
       "      <th>ponds_nearest</th>\n",
       "      <th>days_exposition</th>\n",
       "    </tr>\n",
       "  </thead>\n",
       "  <tbody>\n",
       "    <tr>\n",
       "      <th>0</th>\n",
       "      <td>20</td>\n",
       "      <td>13000000.0</td>\n",
       "      <td>108.0</td>\n",
       "      <td>2019-03-07T00:00:00</td>\n",
       "      <td>3</td>\n",
       "      <td>2.70</td>\n",
       "      <td>16.0</td>\n",
       "      <td>51.0</td>\n",
       "      <td>8</td>\n",
       "      <td>NaN</td>\n",
       "      <td>False</td>\n",
       "      <td>False</td>\n",
       "      <td>25.0</td>\n",
       "      <td>NaN</td>\n",
       "      <td>Санкт-Петербург</td>\n",
       "      <td>18863.0</td>\n",
       "      <td>16028.0</td>\n",
       "      <td>1.0</td>\n",
       "      <td>482.0</td>\n",
       "      <td>2.0</td>\n",
       "      <td>755.0</td>\n",
       "      <td>NaN</td>\n",
       "    </tr>\n",
       "    <tr>\n",
       "      <th>1</th>\n",
       "      <td>7</td>\n",
       "      <td>3350000.0</td>\n",
       "      <td>40.4</td>\n",
       "      <td>2018-12-04T00:00:00</td>\n",
       "      <td>1</td>\n",
       "      <td>NaN</td>\n",
       "      <td>11.0</td>\n",
       "      <td>18.6</td>\n",
       "      <td>1</td>\n",
       "      <td>NaN</td>\n",
       "      <td>False</td>\n",
       "      <td>False</td>\n",
       "      <td>11.0</td>\n",
       "      <td>2.0</td>\n",
       "      <td>посёлок Шушары</td>\n",
       "      <td>12817.0</td>\n",
       "      <td>18603.0</td>\n",
       "      <td>0.0</td>\n",
       "      <td>NaN</td>\n",
       "      <td>0.0</td>\n",
       "      <td>NaN</td>\n",
       "      <td>81.0</td>\n",
       "    </tr>\n",
       "    <tr>\n",
       "      <th>2</th>\n",
       "      <td>10</td>\n",
       "      <td>5196000.0</td>\n",
       "      <td>56.0</td>\n",
       "      <td>2015-08-20T00:00:00</td>\n",
       "      <td>2</td>\n",
       "      <td>NaN</td>\n",
       "      <td>5.0</td>\n",
       "      <td>34.3</td>\n",
       "      <td>4</td>\n",
       "      <td>NaN</td>\n",
       "      <td>False</td>\n",
       "      <td>False</td>\n",
       "      <td>8.3</td>\n",
       "      <td>0.0</td>\n",
       "      <td>Санкт-Петербург</td>\n",
       "      <td>21741.0</td>\n",
       "      <td>13933.0</td>\n",
       "      <td>1.0</td>\n",
       "      <td>90.0</td>\n",
       "      <td>2.0</td>\n",
       "      <td>574.0</td>\n",
       "      <td>558.0</td>\n",
       "    </tr>\n",
       "    <tr>\n",
       "      <th>3</th>\n",
       "      <td>0</td>\n",
       "      <td>64900000.0</td>\n",
       "      <td>159.0</td>\n",
       "      <td>2015-07-24T00:00:00</td>\n",
       "      <td>3</td>\n",
       "      <td>NaN</td>\n",
       "      <td>14.0</td>\n",
       "      <td>NaN</td>\n",
       "      <td>9</td>\n",
       "      <td>NaN</td>\n",
       "      <td>False</td>\n",
       "      <td>False</td>\n",
       "      <td>NaN</td>\n",
       "      <td>0.0</td>\n",
       "      <td>Санкт-Петербург</td>\n",
       "      <td>28098.0</td>\n",
       "      <td>6800.0</td>\n",
       "      <td>2.0</td>\n",
       "      <td>84.0</td>\n",
       "      <td>3.0</td>\n",
       "      <td>234.0</td>\n",
       "      <td>424.0</td>\n",
       "    </tr>\n",
       "    <tr>\n",
       "      <th>4</th>\n",
       "      <td>2</td>\n",
       "      <td>10000000.0</td>\n",
       "      <td>100.0</td>\n",
       "      <td>2018-06-19T00:00:00</td>\n",
       "      <td>2</td>\n",
       "      <td>3.03</td>\n",
       "      <td>14.0</td>\n",
       "      <td>32.0</td>\n",
       "      <td>13</td>\n",
       "      <td>NaN</td>\n",
       "      <td>False</td>\n",
       "      <td>False</td>\n",
       "      <td>41.0</td>\n",
       "      <td>NaN</td>\n",
       "      <td>Санкт-Петербург</td>\n",
       "      <td>31856.0</td>\n",
       "      <td>8098.0</td>\n",
       "      <td>2.0</td>\n",
       "      <td>112.0</td>\n",
       "      <td>1.0</td>\n",
       "      <td>48.0</td>\n",
       "      <td>121.0</td>\n",
       "    </tr>\n",
       "  </tbody>\n",
       "</table>\n",
       "</div>"
      ],
      "text/plain": [
       "   total_images  last_price  total_area first_day_exposition  rooms  \\\n",
       "0            20  13000000.0       108.0  2019-03-07T00:00:00      3   \n",
       "1             7   3350000.0        40.4  2018-12-04T00:00:00      1   \n",
       "2            10   5196000.0        56.0  2015-08-20T00:00:00      2   \n",
       "3             0  64900000.0       159.0  2015-07-24T00:00:00      3   \n",
       "4             2  10000000.0       100.0  2018-06-19T00:00:00      2   \n",
       "\n",
       "   ceiling_height  floors_total  living_area  floor is_apartment  studio  \\\n",
       "0            2.70          16.0         51.0      8          NaN   False   \n",
       "1             NaN          11.0         18.6      1          NaN   False   \n",
       "2             NaN           5.0         34.3      4          NaN   False   \n",
       "3             NaN          14.0          NaN      9          NaN   False   \n",
       "4            3.03          14.0         32.0     13          NaN   False   \n",
       "\n",
       "   open_plan  kitchen_area  balcony    locality_name  airports_nearest  \\\n",
       "0      False          25.0      NaN  Санкт-Петербург           18863.0   \n",
       "1      False          11.0      2.0   посёлок Шушары           12817.0   \n",
       "2      False           8.3      0.0  Санкт-Петербург           21741.0   \n",
       "3      False           NaN      0.0  Санкт-Петербург           28098.0   \n",
       "4      False          41.0      NaN  Санкт-Петербург           31856.0   \n",
       "\n",
       "   cityCenters_nearest  parks_around3000  parks_nearest  ponds_around3000  \\\n",
       "0              16028.0               1.0          482.0               2.0   \n",
       "1              18603.0               0.0            NaN               0.0   \n",
       "2              13933.0               1.0           90.0               2.0   \n",
       "3               6800.0               2.0           84.0               3.0   \n",
       "4               8098.0               2.0          112.0               1.0   \n",
       "\n",
       "   ponds_nearest  days_exposition  \n",
       "0          755.0              NaN  \n",
       "1            NaN             81.0  \n",
       "2          574.0            558.0  \n",
       "3          234.0            424.0  \n",
       "4           48.0            121.0  "
      ]
     },
     "metadata": {},
     "output_type": "display_data"
    }
   ],
   "source": [
    "pd.set_option('display.max_columns', None)\n",
    "display(df.head())\n",
    "\n",
    "# Спасибо буду знать)"
   ]
  },
  {
   "cell_type": "code",
   "execution_count": 3,
   "metadata": {},
   "outputs": [
    {
     "data": {
      "image/png": "[encoded data removed]",
      "text/plain": [
       "<Figure size 1080x1440 with 20 Axes>"
      ]
     },
     "metadata": {
      "needs_background": "light"
     },
     "output_type": "display_data"
    }
   ],
   "source": [
    "df.hist(figsize=(15, 20));"
   ]
  },
  {
   "cell_type": "markdown",
   "metadata": {},
   "source": [
    "<div class=\"alert alert-success\">\n",
    "<b>✔️ Комментарий ревьюера v1:</b> \n",
    "<br>Графики построено верно! \n",
    "</div>\n",
    "\n",
    "<div class=\"alert alert-warning\">\n",
    "<b>⚠️ Комментарий ревьюера v1:</b> \n",
    "<br>Если после кода вызывающего график добавить \";\", то мы избавимся от строчки над графиком)\n",
    "</div>"
   ]
  },
  {
   "cell_type": "markdown",
   "metadata": {},
   "source": [
    "<div class=\"alert alert-block alert-info\">\n",
    "Спасибо за совет, переделал)"
   ]
  },
  {
   "cell_type": "markdown",
   "metadata": {},
   "source": [
    "<div class=\"alert alert-danger\">\n",
    "<b>❌ Комментарий ревьюера v1:</b> \n",
    "<br>Здесь необходимо написать короткий вывод о проблемах с данными (пропуски, дубликаты, неверный тип данных, странные значения и т.д.)\n",
    "</div>"
   ]
  },
  {
   "cell_type": "markdown",
   "metadata": {},
   "source": [
    "<div class=\"alert alert-block alert-info\">\n",
    "\n",
    "- Присутсвуют незаполненные значения в столбцах: total_images, last_price, total_area, rooms, floor, studio, open_plan, living_area.\n",
    "- Есть несоответствия в типах данных, например столбцы 'first_day_exposition', 'balcony'\n",
    "- Большое кол-во пропусков в столбце 'balcony'\n",
    "- Аномальные значения, например в столбце 'ceiling_height'\n",
    "   \n"
   ]
  },
  {
   "cell_type": "markdown",
   "metadata": {},
   "source": [
    "<div class=\"alert alert-block alert-info\">\n",
    "    <b> Из анализа полученных данных можно выделить несколько наблюдений:</b>\n",
    "\n",
    "- Всего в файле с данными - 23 669 строк.\n",
    "- Полностью заполнены данными столбцы total_images, last_price, total_area, rooms, floor, studio, open_plan, living_area. - Таким образом в данных столбцах отсутствуют пропуски данных.\n",
    "- В столбцах floors_total и locality_name заполнены данными более 98% строк, т.о. пропуски далее можно будет удалить в связи с малочисленностью.\n",
    "- В столбце balcony (балконы) пропусков - 11 519, скорее всего это означает что в квартире нет балкона и пропуски можно заменить на 0.\n",
    "- В столбцах таблицы соблюдается корректность типов данных.\n",
    "- У некоторых числовых полей есть тип данных float (например, ceiling_height) - т.к. в столбцах есть пропуски (NaN) и pandas такие столбцы автоматически назначает float, с ними можно выполнять математические операции, например вычислить среднее значение.\n",
    "- В некоторых столбцах тип данных - int64 (например, rooms), который не нужно преобразовывать."
   ]
  },
  {
   "cell_type": "markdown",
   "metadata": {},
   "source": [
    "<div class=\"alert alert-success\">\n",
    "<b>✔️ Комментарий ревьюера v2:</b> \n",
    "<br>Всё верно! Рекомендую создать универсальную функцию, которая будет на вход принимать датафрейм, а на выходе будет выводить все необходимые характеристики поочередно применяя методы head, describe, info, duplicated и т.п.\n",
    "</div>"
   ]
  },
  {
   "cell_type": "markdown",
   "metadata": {},
   "source": [
    "<div class=\"alert alert-block alert-info\">\n",
    "Покажи плиз"
   ]
  },
  {
   "cell_type": "markdown",
   "metadata": {},
   "source": [
    "<div class=\"alert alert-success\">\n",
    "<b>✔️ Комментарий ревьюера v3:</b> \n",
    "    \n",
    "    def show_info(df_name):\n",
    "        print(df_name.info)\n",
    "        print('----------')\n",
    "        display(df_name.head(10))\n",
    "</div>"
   ]
  },
  {
   "cell_type": "markdown",
   "metadata": {},
   "source": [
    "### Предобработка данных"
   ]
  },
  {
   "cell_type": "code",
   "execution_count": 4,
   "metadata": {},
   "outputs": [
    {
     "data": {
      "text/plain": [
       "0    15277\n",
       "1     4195\n",
       "2     3659\n",
       "5      304\n",
       "4      183\n",
       "3       81\n",
       "Name: balcony, dtype: int64"
      ]
     },
     "metadata": {},
     "output_type": "display_data"
    }
   ],
   "source": [
    "df['balcony'] = df['balcony'].fillna(0).astype(int)\n",
    "display(df['balcony'].value_counts())"
   ]
  },
  {
   "cell_type": "markdown",
   "metadata": {},
   "source": [
    "В столбце \"balcony\" в некоторых строках не указано число балконов — скорее всего, их нет. Такие пропуски правильно заменить на 0. Кроме того, преобразуем столбец к целочисленному типу данных (int)."
   ]
  },
  {
   "cell_type": "code",
   "execution_count": 5,
   "metadata": {},
   "outputs": [],
   "source": [
    "df = df.dropna(subset=['floors_total'])"
   ]
  },
  {
   "cell_type": "markdown",
   "metadata": {},
   "source": [
    "Удалим 86 строк, в которых не заполнено количество этажей."
   ]
  },
  {
   "cell_type": "code",
   "execution_count": 6,
   "metadata": {},
   "outputs": [
    {
     "name": "stdout",
     "output_type": "stream",
     "text": [
      "0\n"
     ]
    }
   ],
   "source": [
    "median_replace = df.groupby('floors_total')['ceiling_height'].median()\n",
    "for total in df['floors_total'].unique():\n",
    "    df.loc[(df['floors_total'] == total) & (df['ceiling_height'].isna()), 'ceiling_height'] = median_replace[total]\n",
    "\n",
    "df.loc[df['ceiling_height'] > 10,'ceiling_height'] = None\n",
    "df = df.dropna(subset=['ceiling_height'])\n",
    "print(df['ceiling_height'][df['ceiling_height'] > 10].count())\n",
    "# df.info()\n",
    "# display(df['ceiling_height'].unique())"
   ]
  },
  {
   "cell_type": "markdown",
   "metadata": {},
   "source": [
    "<div class=\"alert alert-success\">\n",
    "<b>✔️ Комментарий ревьюера v1:</b> \n",
    "<br>Согласен с таким решением, так как основная часть данных в этом столбце находится в небольшом диапазоне.\n",
    "</div>"
   ]
  },
  {
   "cell_type": "markdown",
   "metadata": {},
   "source": [
    "<div class=\"alert alert-danger\">\n",
    "<b>❌ Комментарий ревьюера v1:</b> \n",
    "<br>Давай изучим аномалии в других столбцах. Посмотри какие значения есть в столбцах со стоимостью квартиры, количеством комнат и общей площадью. Кажется, в них есть значения, которые сильно выделяются на общем фоне. Не забудь проверить какое количество данных мы в итоге отбрасываем. Это количество не должно превышать 10% от изначального объёма данных. C этим может помочь следующий код\n",
    "\n",
    "\tnew_data.shape[0] / old_data.shape[0]\n",
    "</div>"
   ]
  },
  {
   "cell_type": "markdown",
   "metadata": {},
   "source": [
    "<div class=\"alert alert-success\">\n",
    "<b>✔️ Комментарий ревьюера v2:</b>\n",
    "<br>Диапазоны для аномальных значений подобраны и удалены верно!\n",
    "</div>"
   ]
  },
  {
   "cell_type": "code",
   "execution_count": 7,
   "metadata": {},
   "outputs": [
    {
     "data": {
      "text/plain": [
       "array([ 3,  1,  2,  4,  5,  6,  0,  7, 11,  8, 14, 10, 15,  9, 19, 16, 12])"
      ]
     },
     "execution_count": 7,
     "metadata": {},
     "output_type": "execute_result"
    }
   ],
   "source": [
    "df['rooms'].unique()"
   ]
  },
  {
   "cell_type": "markdown",
   "metadata": {},
   "source": [
    "Обнаружено значение 0 в кол-ве комнат, остальные значения допустимы (хотя 19 комнат тоже выглядит странно, наверное в этой квартире есть аква-дискотека), все-таки для частоты эксперимента отфильтруем максимальное значение до 10 комнат"
   ]
  },
  {
   "cell_type": "code",
   "execution_count": 8,
   "metadata": {},
   "outputs": [
    {
     "data": {
      "text/plain": [
       "count    23586.000000\n",
       "mean         2.079496\n",
       "std          1.066576\n",
       "min          1.000000\n",
       "25%          1.000000\n",
       "50%          2.000000\n",
       "75%          3.000000\n",
       "max         19.000000\n",
       "Name: rooms, dtype: float64"
      ]
     },
     "execution_count": 8,
     "metadata": {},
     "output_type": "execute_result"
    }
   ],
   "source": [
    "# Заменим 0 на 1 в столбце 'rooms'\n",
    "df['rooms'] = df['rooms'].replace(0, 1)\n",
    "# Проверка данных по столбцу\n",
    "df['rooms'].describe()"
   ]
  },
  {
   "cell_type": "code",
   "execution_count": 9,
   "metadata": {},
   "outputs": [
    {
     "data": {
      "text/plain": [
       "count    23586.000000\n",
       "mean        60.346758\n",
       "std         35.661784\n",
       "min         12.000000\n",
       "25%         40.000000\n",
       "50%         52.000000\n",
       "75%         69.800000\n",
       "max        900.000000\n",
       "Name: total_area, dtype: float64"
      ]
     },
     "execution_count": 9,
     "metadata": {},
     "output_type": "execute_result"
    }
   ],
   "source": [
    "df['total_area'].describe()"
   ]
  },
  {
   "cell_type": "markdown",
   "metadata": {},
   "source": [
    "Самая большая квартира имеет S = 900 м², в тоже время самая маленькая всего лишь 12 м². Давайте остановимся на более реальных цифрах в пределах от 30 до 600 м²"
   ]
  },
  {
   "cell_type": "code",
   "execution_count": 10,
   "metadata": {},
   "outputs": [
    {
     "data": {
      "text/plain": [
       "count    2.358600e+04\n",
       "mean     6.542156e+06\n",
       "std      1.090742e+07\n",
       "min      1.219000e+04\n",
       "25%      3.400000e+06\n",
       "50%      4.650000e+06\n",
       "75%      6.799000e+06\n",
       "max      7.630000e+08\n",
       "Name: last_price, dtype: float64"
      ]
     },
     "execution_count": 10,
     "metadata": {},
     "output_type": "execute_result"
    }
   ],
   "source": [
    "df['last_price'].describe()"
   ]
  },
  {
   "cell_type": "markdown",
   "metadata": {},
   "source": [
    "Минимальная стоймость 430.000 ₽, на мой взгляд такая цена парадоксальна мала, лучше округлим эту сумму до 500.000 ₽. Максимальная стоймость равняется 76.000.000 ₽ (думаю смогу себе позволить такую, как стану аналитиком данных), считаю в этом случае цена может быть реальной."
   ]
  },
  {
   "cell_type": "code",
   "execution_count": 11,
   "metadata": {},
   "outputs": [],
   "source": [
    "df = df.query('last_price > 500000 & rooms <= 10 & (total_area > 30 | total_area < 600)')"
   ]
  },
  {
   "cell_type": "markdown",
   "metadata": {},
   "source": [
    "Применим все необходимые фильтры в нашей выборке"
   ]
  },
  {
   "cell_type": "code",
   "execution_count": 12,
   "metadata": {},
   "outputs": [],
   "source": [
    "for column in df.columns:\n",
    "    if column in ['ceiling_height', 'living_area', 'kitchen_area']:\n",
    "        df[column] = df[column].fillna(value=df[column].median())\n",
    "    elif column in ['is_apartment', 'balcony', 'airports_nearest',\n",
    "                    'parks_around_3000', 'ponds_around_3000',\n",
    "                    'parks_nearest', 'ponds_nearest','days_exposition']:\n",
    "        df[column] = df[column].fillna(value=0)\n",
    "    elif column == 'floors_total':\n",
    "        df[column] = df[column].where(~df[column].isna(), df['floor'])\n"
   ]
  },
  {
   "cell_type": "markdown",
   "metadata": {},
   "source": [
    "Далее исключим строки с высотой потолков более 10 м, как вероятные ошибки данных."
   ]
  },
  {
   "cell_type": "code",
   "execution_count": 13,
   "metadata": {},
   "outputs": [],
   "source": [
    "median_replace_kitchen = df.groupby('rooms')['kitchen_area'].median()\n",
    "for total in df['rooms'].unique():\n",
    "    df.loc[(df['rooms'] == total) & (df['kitchen_area'].isna()), 'kitchen_area'] = median_replace_kitchen[total]\n",
    "# display(df['kitchen_area'].value_counts())\n",
    "\n",
    "df.loc[df['kitchen_area'] == '  nan','kitchen_area'] = None\n",
    "df = df.dropna(subset=['kitchen_area'])\n",
    "# display(df['kitchen_area'].unique())"
   ]
  },
  {
   "cell_type": "markdown",
   "metadata": {},
   "source": [
    "Исключим 193 строки с записью \"  nan\", как вероятные ошибки данных."
   ]
  },
  {
   "cell_type": "code",
   "execution_count": 14,
   "metadata": {},
   "outputs": [],
   "source": [
    "median_replace_rooms = df.groupby('rooms')['living_area'].median()\n",
    "for total in df['rooms'].unique():\n",
    "    df.loc[(df['rooms'] == total) & (df['living_area'].isna()), 'living_area'] = median_replace_rooms[total]"
   ]
  },
  {
   "cell_type": "markdown",
   "metadata": {},
   "source": [
    "<div class=\"alert alert-success\">\n",
    "<b>✔️ Комментарий ревьюера v1:</b> \n",
    "<br>Прекрасный способ для замены! 👏🏻👏🏻👏🏻\n",
    "</div>"
   ]
  },
  {
   "cell_type": "markdown",
   "metadata": {},
   "source": [
    "Пропуски в столбце \"living_area\" заменим на медианы значений жилой площади по каждому значению кол-ва комнат столбца \"rooms\"."
   ]
  },
  {
   "cell_type": "code",
   "execution_count": 15,
   "metadata": {},
   "outputs": [],
   "source": [
    "df['floors_total'] = df['floors_total'].astype(int)\n",
    "# display(df['floors_total'].value_counts())"
   ]
  },
  {
   "cell_type": "markdown",
   "metadata": {},
   "source": [
    "Преобразуем столбец к целочисленному типу данных (int)."
   ]
  },
  {
   "cell_type": "code",
   "execution_count": 16,
   "metadata": {},
   "outputs": [],
   "source": [
    "df['is_apartment'] = df['is_apartment'].fillna(False)\n",
    "# display(df['is_apartment'].value_counts())"
   ]
  },
  {
   "cell_type": "markdown",
   "metadata": {},
   "source": [
    "В столбце \"is_apartment\" в некоторых строках есть пропуски, заменим такие пропуски на False."
   ]
  },
  {
   "cell_type": "code",
   "execution_count": 17,
   "metadata": {},
   "outputs": [],
   "source": [
    "df = df.dropna(subset=['locality_name'])"
   ]
  },
  {
   "cell_type": "markdown",
   "metadata": {},
   "source": [
    "Исключим пропуски в столбце \"locality_name\"."
   ]
  },
  {
   "cell_type": "markdown",
   "metadata": {},
   "source": [
    "<div class=\"alert alert-block alert-info\">\n",
    "    \n",
    "Подведем итоги предобработки данных:\n",
    "\n",
    "В первоначальном файле было 23 699 строк, в результате обработки и удаления вероятных ошибок данных осталось в датасете 23 345 строк, по которым заполнены все строки во всех значимых столбцах. В процессе обработки данных произведено следующее:\n",
    "\n",
    "- В столбце \"balcony\" пропуски были заменены на 0, также столбец преобразован к целочисленному типу данных.\n",
    "- Пропуски в столбце \"ceiling_height\" заменили на медианы значений высот потолков по каждому этажу.\n",
    "- Пропуски в столбце \"kitchen_area\" заменили на медианы значений площади кухни по каждому значению кол-ва комнат столбца \"rooms\".\n",
    "- Пропуски в столбце \"living_area\" заменили на медианы значений жилой площади по каждому значению кол-ва комнат столбца \"rooms\".\n",
    "- В столбце \"is_apartment\" пропуски заменили на False.\n",
    "- Исключили пропуски в столбце \"locality_name\", как вероятные ошибки. Значения в остальных столбцах предлагаю не обрабатывать как менее значимые для проведения данного исследования."
   ]
  },
  {
   "cell_type": "markdown",
   "metadata": {},
   "source": [
    "<div class=\"alert alert-success\">\n",
    "<b>✔️ Комментарий ревьюера v1:</b> \n",
    "<br>Отличная работа! Не забывай, что не всегда стоит делать замену, ради замены. Очень важно обоснование. Иногда пропуски можно удалить (если их мало), либо вообще не трогать, если у нас нет возможности подобрать аргументированный способ замены\n",
    "</div>"
   ]
  },
  {
   "cell_type": "markdown",
   "metadata": {},
   "source": [
    "<div class=\"alert alert-danger\">\n",
    "<b>❌ Комментарий ревьюера v1:</b> \n",
    "<br>Не выполнено задание 2.3\n",
    "</div>"
   ]
  },
  {
   "cell_type": "markdown",
   "metadata": {},
   "source": [
    "<div class=\"alert alert-block alert-info\">\n",
    "    \n",
    "Точно! Забыл... -_- \n",
    "Готово!"
   ]
  },
  {
   "cell_type": "code",
   "execution_count": 18,
   "metadata": {},
   "outputs": [],
   "source": [
    "df['locality_name'] = df['locality_name'].str.replace('ё','е')"
   ]
  },
  {
   "cell_type": "code",
   "execution_count": 19,
   "metadata": {},
   "outputs": [],
   "source": [
    "df['locality_name'] = df['locality_name'].str.replace('поселок городского типа','городской поселок')"
   ]
  },
  {
   "cell_type": "markdown",
   "metadata": {},
   "source": [
    "<div class=\"alert alert-success\">\n",
    "<b>✔️ Комментарий ревьюера v2:</b> \n",
    "<br>Супер! Здесь всё верно)\n",
    "</div>"
   ]
  },
  {
   "cell_type": "markdown",
   "metadata": {},
   "source": [
    "### Посчитайте и добавьте в таблицу новые столбцы"
   ]
  },
  {
   "cell_type": "code",
   "execution_count": 20,
   "metadata": {},
   "outputs": [],
   "source": [
    "df['price_area'] = df['last_price'] / df['total_area']"
   ]
  },
  {
   "cell_type": "markdown",
   "metadata": {},
   "source": [
    "Посчитаем и добавим в столбец \"price_area\" цену квадратного метра."
   ]
  },
  {
   "cell_type": "code",
   "execution_count": 21,
   "metadata": {},
   "outputs": [],
   "source": [
    "df['first_day_exposition'] = pd.to_datetime(df['first_day_exposition'], format='%Y-%m-%dT%H:%M:%S')"
   ]
  },
  {
   "cell_type": "markdown",
   "metadata": {},
   "source": [
    "Столбец \"first_day_exposition\" приведем к удобному виду, оставим только год, месяц, день."
   ]
  },
  {
   "cell_type": "code",
   "execution_count": 22,
   "metadata": {},
   "outputs": [],
   "source": [
    "df['day_weekday'] = df['first_day_exposition'].dt.weekday # День\n",
    "df['day_month'] = df['first_day_exposition'].dt.month     # Месяц\n",
    "df['day_year'] = df['first_day_exposition'].dt.year       # Год\n",
    "# df.head()"
   ]
  },
  {
   "cell_type": "code",
   "execution_count": 23,
   "metadata": {},
   "outputs": [],
   "source": [
    "def floor_category(row):\n",
    "    if row['floor'] == 1:\n",
    "        category = 'Первый'\n",
    "    elif (row['floor'] != 1) & (row['floor'] == row['floors_total']):\n",
    "        category = 'Последний'\n",
    "    else:\n",
    "        category = 'Другой'\n",
    "    return category"
   ]
  },
  {
   "cell_type": "code",
   "execution_count": 24,
   "metadata": {},
   "outputs": [],
   "source": [
    "df['floor_category'] = df.apply(floor_category, axis=1)"
   ]
  },
  {
   "cell_type": "markdown",
   "metadata": {},
   "source": [
    "Добавим в таблицу варианты этажа квартиры (первый, последний, другой)."
   ]
  },
  {
   "cell_type": "code",
   "execution_count": 25,
   "metadata": {},
   "outputs": [],
   "source": [
    "df['living_total'] = df['living_area'] / df['total_area']"
   ]
  },
  {
   "cell_type": "markdown",
   "metadata": {},
   "source": [
    "Также добавим в таблицу столбец \"living_total\" соотношение жилой и общей площади."
   ]
  },
  {
   "cell_type": "code",
   "execution_count": 26,
   "metadata": {},
   "outputs": [],
   "source": [
    "df['kitchen_total'] = df['kitchen_area'] / df['total_area']"
   ]
  },
  {
   "cell_type": "markdown",
   "metadata": {},
   "source": [
    "<div class=\"alert alert-warning\">\n",
    "<b>⚠️ Комментарий ревьюера v1:</b> \n",
    "<br>А зачем ты добавляешь эти столбцы? Ты же не взял эту часть из интернета?)))\n",
    "</div>"
   ]
  },
  {
   "cell_type": "markdown",
   "metadata": {},
   "source": [
    "<div class=\"alert alert-block alert-info\">\n",
    "Этот проект оказался выше моих сил, поэтому наша КОГОРТА синтезирует коды, как единый организм))\n",
    "\n",
    "P.S. Аве Цезарь!"
   ]
  },
  {
   "cell_type": "markdown",
   "metadata": {},
   "source": [
    "<div class=\"alert alert-success\">\n",
    "<b>✔️ Комментарий ревьюера v2:</b> \n",
    "<br>Нуууууууу ладно) Поверю\n",
    "</div>"
   ]
  },
  {
   "cell_type": "markdown",
   "metadata": {},
   "source": [
    "<div class=\"alert alert-block alert-info\">\n",
    "не ну Гитхаб тож смотрел конечн)))"
   ]
  },
  {
   "cell_type": "markdown",
   "metadata": {},
   "source": [
    "Кроме того, добавим в таблицу столбец \"kitchen_total\" отношение площади кухни к общей."
   ]
  },
  {
   "cell_type": "markdown",
   "metadata": {},
   "source": [
    "<div class=\"alert alert-block alert-info\">\n",
    "В данном разделе посчитали и добавили в исходную таблицу следующие столбцы:\n",
    "\n",
    "- цену квадратного метра;\n",
    "- день недели, месяц и год публикации объявления;\n",
    "- варианты этажности квартиры — первый, последний, другой;\n",
    "- соотношение жилой и общей площади;\n",
    "- отношение площади кухни к общей."
   ]
  },
  {
   "cell_type": "markdown",
   "metadata": {},
   "source": [
    "<div class=\"alert alert-danger\">\n",
    "<b>❌ Комментарий ревьюера v1:</b> \n",
    "<br>Тут нужна отдельная колонка для расстояния до центра в километрах\n",
    "</div>"
   ]
  },
  {
   "cell_type": "markdown",
   "metadata": {},
   "source": [
    "<div class=\"alert alert-block alert-info\">\n",
    "    \n",
    "Столбец построен!"
   ]
  },
  {
   "cell_type": "markdown",
   "metadata": {},
   "source": [
    "<div class=\"alert alert-success\">\n",
    "<b>✔️ Комментарий ревьюера v2:</b>\n",
    "<br>Правка выполнена 👍\n",
    "</div>"
   ]
  },
  {
   "cell_type": "code",
   "execution_count": 27,
   "metadata": {},
   "outputs": [
    {
     "data": {
      "text/html": [
       "<div>\n",
       "<style scoped>\n",
       "    .dataframe tbody tr th:only-of-type {\n",
       "        vertical-align: middle;\n",
       "    }\n",
       "\n",
       "    .dataframe tbody tr th {\n",
       "        vertical-align: top;\n",
       "    }\n",
       "\n",
       "    .dataframe thead th {\n",
       "        text-align: right;\n",
       "    }\n",
       "</style>\n",
       "<table border=\"1\" class=\"dataframe\">\n",
       "  <thead>\n",
       "    <tr style=\"text-align: right;\">\n",
       "      <th></th>\n",
       "      <th>total_images</th>\n",
       "      <th>last_price</th>\n",
       "      <th>total_area</th>\n",
       "      <th>first_day_exposition</th>\n",
       "      <th>rooms</th>\n",
       "      <th>ceiling_height</th>\n",
       "      <th>floors_total</th>\n",
       "      <th>living_area</th>\n",
       "      <th>floor</th>\n",
       "      <th>is_apartment</th>\n",
       "      <th>studio</th>\n",
       "      <th>open_plan</th>\n",
       "      <th>kitchen_area</th>\n",
       "      <th>balcony</th>\n",
       "      <th>locality_name</th>\n",
       "      <th>airports_nearest</th>\n",
       "      <th>cityCenters_nearest</th>\n",
       "      <th>parks_around3000</th>\n",
       "      <th>parks_nearest</th>\n",
       "      <th>ponds_around3000</th>\n",
       "      <th>ponds_nearest</th>\n",
       "      <th>days_exposition</th>\n",
       "      <th>price_area</th>\n",
       "      <th>day_weekday</th>\n",
       "      <th>day_month</th>\n",
       "      <th>day_year</th>\n",
       "      <th>floor_category</th>\n",
       "      <th>living_total</th>\n",
       "      <th>kitchen_total</th>\n",
       "      <th>cityCenters_nearest_interval</th>\n",
       "    </tr>\n",
       "  </thead>\n",
       "  <tbody>\n",
       "    <tr>\n",
       "      <th>0</th>\n",
       "      <td>20</td>\n",
       "      <td>13000000.0</td>\n",
       "      <td>108.00</td>\n",
       "      <td>2019-03-07</td>\n",
       "      <td>3</td>\n",
       "      <td>2.70</td>\n",
       "      <td>16</td>\n",
       "      <td>51.00</td>\n",
       "      <td>8</td>\n",
       "      <td>0</td>\n",
       "      <td>False</td>\n",
       "      <td>False</td>\n",
       "      <td>25.00</td>\n",
       "      <td>0</td>\n",
       "      <td>Санкт-Петербург</td>\n",
       "      <td>18863.0</td>\n",
       "      <td>16028.0</td>\n",
       "      <td>1.0</td>\n",
       "      <td>482.0</td>\n",
       "      <td>2.0</td>\n",
       "      <td>755.0</td>\n",
       "      <td>0.0</td>\n",
       "      <td>120370.370370</td>\n",
       "      <td>3</td>\n",
       "      <td>3</td>\n",
       "      <td>2019</td>\n",
       "      <td>Другой</td>\n",
       "      <td>0.472222</td>\n",
       "      <td>0.231481</td>\n",
       "      <td>16.0</td>\n",
       "    </tr>\n",
       "    <tr>\n",
       "      <th>1</th>\n",
       "      <td>7</td>\n",
       "      <td>3350000.0</td>\n",
       "      <td>40.40</td>\n",
       "      <td>2018-12-04</td>\n",
       "      <td>1</td>\n",
       "      <td>2.75</td>\n",
       "      <td>11</td>\n",
       "      <td>18.60</td>\n",
       "      <td>1</td>\n",
       "      <td>0</td>\n",
       "      <td>False</td>\n",
       "      <td>False</td>\n",
       "      <td>11.00</td>\n",
       "      <td>2</td>\n",
       "      <td>поселок Шушары</td>\n",
       "      <td>12817.0</td>\n",
       "      <td>18603.0</td>\n",
       "      <td>0.0</td>\n",
       "      <td>0.0</td>\n",
       "      <td>0.0</td>\n",
       "      <td>0.0</td>\n",
       "      <td>81.0</td>\n",
       "      <td>82920.792079</td>\n",
       "      <td>1</td>\n",
       "      <td>12</td>\n",
       "      <td>2018</td>\n",
       "      <td>Первый</td>\n",
       "      <td>0.460396</td>\n",
       "      <td>0.272277</td>\n",
       "      <td>19.0</td>\n",
       "    </tr>\n",
       "    <tr>\n",
       "      <th>2</th>\n",
       "      <td>10</td>\n",
       "      <td>5196000.0</td>\n",
       "      <td>56.00</td>\n",
       "      <td>2015-08-20</td>\n",
       "      <td>2</td>\n",
       "      <td>2.55</td>\n",
       "      <td>5</td>\n",
       "      <td>34.30</td>\n",
       "      <td>4</td>\n",
       "      <td>0</td>\n",
       "      <td>False</td>\n",
       "      <td>False</td>\n",
       "      <td>8.30</td>\n",
       "      <td>0</td>\n",
       "      <td>Санкт-Петербург</td>\n",
       "      <td>21741.0</td>\n",
       "      <td>13933.0</td>\n",
       "      <td>1.0</td>\n",
       "      <td>90.0</td>\n",
       "      <td>2.0</td>\n",
       "      <td>574.0</td>\n",
       "      <td>558.0</td>\n",
       "      <td>92785.714286</td>\n",
       "      <td>3</td>\n",
       "      <td>8</td>\n",
       "      <td>2015</td>\n",
       "      <td>Другой</td>\n",
       "      <td>0.612500</td>\n",
       "      <td>0.148214</td>\n",
       "      <td>14.0</td>\n",
       "    </tr>\n",
       "    <tr>\n",
       "      <th>3</th>\n",
       "      <td>0</td>\n",
       "      <td>64900000.0</td>\n",
       "      <td>159.00</td>\n",
       "      <td>2015-07-24</td>\n",
       "      <td>3</td>\n",
       "      <td>2.60</td>\n",
       "      <td>14</td>\n",
       "      <td>30.00</td>\n",
       "      <td>9</td>\n",
       "      <td>0</td>\n",
       "      <td>False</td>\n",
       "      <td>False</td>\n",
       "      <td>9.10</td>\n",
       "      <td>0</td>\n",
       "      <td>Санкт-Петербург</td>\n",
       "      <td>28098.0</td>\n",
       "      <td>6800.0</td>\n",
       "      <td>2.0</td>\n",
       "      <td>84.0</td>\n",
       "      <td>3.0</td>\n",
       "      <td>234.0</td>\n",
       "      <td>424.0</td>\n",
       "      <td>408176.100629</td>\n",
       "      <td>4</td>\n",
       "      <td>7</td>\n",
       "      <td>2015</td>\n",
       "      <td>Другой</td>\n",
       "      <td>0.188679</td>\n",
       "      <td>0.057233</td>\n",
       "      <td>7.0</td>\n",
       "    </tr>\n",
       "    <tr>\n",
       "      <th>4</th>\n",
       "      <td>2</td>\n",
       "      <td>10000000.0</td>\n",
       "      <td>100.00</td>\n",
       "      <td>2018-06-19</td>\n",
       "      <td>2</td>\n",
       "      <td>3.03</td>\n",
       "      <td>14</td>\n",
       "      <td>32.00</td>\n",
       "      <td>13</td>\n",
       "      <td>0</td>\n",
       "      <td>False</td>\n",
       "      <td>False</td>\n",
       "      <td>41.00</td>\n",
       "      <td>0</td>\n",
       "      <td>Санкт-Петербург</td>\n",
       "      <td>31856.0</td>\n",
       "      <td>8098.0</td>\n",
       "      <td>2.0</td>\n",
       "      <td>112.0</td>\n",
       "      <td>1.0</td>\n",
       "      <td>48.0</td>\n",
       "      <td>121.0</td>\n",
       "      <td>100000.000000</td>\n",
       "      <td>1</td>\n",
       "      <td>6</td>\n",
       "      <td>2018</td>\n",
       "      <td>Другой</td>\n",
       "      <td>0.320000</td>\n",
       "      <td>0.410000</td>\n",
       "      <td>8.0</td>\n",
       "    </tr>\n",
       "    <tr>\n",
       "      <th>5</th>\n",
       "      <td>10</td>\n",
       "      <td>2890000.0</td>\n",
       "      <td>30.40</td>\n",
       "      <td>2018-09-10</td>\n",
       "      <td>1</td>\n",
       "      <td>2.65</td>\n",
       "      <td>12</td>\n",
       "      <td>14.40</td>\n",
       "      <td>5</td>\n",
       "      <td>0</td>\n",
       "      <td>False</td>\n",
       "      <td>False</td>\n",
       "      <td>9.10</td>\n",
       "      <td>0</td>\n",
       "      <td>городской поселок Янино-1</td>\n",
       "      <td>0.0</td>\n",
       "      <td>NaN</td>\n",
       "      <td>NaN</td>\n",
       "      <td>0.0</td>\n",
       "      <td>NaN</td>\n",
       "      <td>0.0</td>\n",
       "      <td>55.0</td>\n",
       "      <td>95065.789474</td>\n",
       "      <td>0</td>\n",
       "      <td>9</td>\n",
       "      <td>2018</td>\n",
       "      <td>Другой</td>\n",
       "      <td>0.473684</td>\n",
       "      <td>0.299342</td>\n",
       "      <td>NaN</td>\n",
       "    </tr>\n",
       "    <tr>\n",
       "      <th>6</th>\n",
       "      <td>6</td>\n",
       "      <td>3700000.0</td>\n",
       "      <td>37.30</td>\n",
       "      <td>2017-11-02</td>\n",
       "      <td>1</td>\n",
       "      <td>2.66</td>\n",
       "      <td>26</td>\n",
       "      <td>10.60</td>\n",
       "      <td>6</td>\n",
       "      <td>0</td>\n",
       "      <td>False</td>\n",
       "      <td>False</td>\n",
       "      <td>14.40</td>\n",
       "      <td>1</td>\n",
       "      <td>поселок Парголово</td>\n",
       "      <td>52996.0</td>\n",
       "      <td>19143.0</td>\n",
       "      <td>0.0</td>\n",
       "      <td>0.0</td>\n",
       "      <td>0.0</td>\n",
       "      <td>0.0</td>\n",
       "      <td>155.0</td>\n",
       "      <td>99195.710456</td>\n",
       "      <td>3</td>\n",
       "      <td>11</td>\n",
       "      <td>2017</td>\n",
       "      <td>Другой</td>\n",
       "      <td>0.284182</td>\n",
       "      <td>0.386059</td>\n",
       "      <td>19.0</td>\n",
       "    </tr>\n",
       "    <tr>\n",
       "      <th>7</th>\n",
       "      <td>5</td>\n",
       "      <td>7915000.0</td>\n",
       "      <td>71.60</td>\n",
       "      <td>2019-04-18</td>\n",
       "      <td>2</td>\n",
       "      <td>2.75</td>\n",
       "      <td>24</td>\n",
       "      <td>30.00</td>\n",
       "      <td>22</td>\n",
       "      <td>0</td>\n",
       "      <td>False</td>\n",
       "      <td>False</td>\n",
       "      <td>18.90</td>\n",
       "      <td>2</td>\n",
       "      <td>Санкт-Петербург</td>\n",
       "      <td>23982.0</td>\n",
       "      <td>11634.0</td>\n",
       "      <td>0.0</td>\n",
       "      <td>0.0</td>\n",
       "      <td>0.0</td>\n",
       "      <td>0.0</td>\n",
       "      <td>0.0</td>\n",
       "      <td>110544.692737</td>\n",
       "      <td>3</td>\n",
       "      <td>4</td>\n",
       "      <td>2019</td>\n",
       "      <td>Другой</td>\n",
       "      <td>0.418994</td>\n",
       "      <td>0.263966</td>\n",
       "      <td>12.0</td>\n",
       "    </tr>\n",
       "    <tr>\n",
       "      <th>8</th>\n",
       "      <td>20</td>\n",
       "      <td>2900000.0</td>\n",
       "      <td>33.16</td>\n",
       "      <td>2018-05-23</td>\n",
       "      <td>1</td>\n",
       "      <td>2.70</td>\n",
       "      <td>27</td>\n",
       "      <td>15.43</td>\n",
       "      <td>26</td>\n",
       "      <td>0</td>\n",
       "      <td>False</td>\n",
       "      <td>False</td>\n",
       "      <td>8.81</td>\n",
       "      <td>0</td>\n",
       "      <td>поселок Мурино</td>\n",
       "      <td>0.0</td>\n",
       "      <td>NaN</td>\n",
       "      <td>NaN</td>\n",
       "      <td>0.0</td>\n",
       "      <td>NaN</td>\n",
       "      <td>0.0</td>\n",
       "      <td>189.0</td>\n",
       "      <td>87454.764777</td>\n",
       "      <td>2</td>\n",
       "      <td>5</td>\n",
       "      <td>2018</td>\n",
       "      <td>Другой</td>\n",
       "      <td>0.465320</td>\n",
       "      <td>0.265682</td>\n",
       "      <td>NaN</td>\n",
       "    </tr>\n",
       "    <tr>\n",
       "      <th>9</th>\n",
       "      <td>18</td>\n",
       "      <td>5400000.0</td>\n",
       "      <td>61.00</td>\n",
       "      <td>2017-02-26</td>\n",
       "      <td>3</td>\n",
       "      <td>2.50</td>\n",
       "      <td>9</td>\n",
       "      <td>43.60</td>\n",
       "      <td>7</td>\n",
       "      <td>0</td>\n",
       "      <td>False</td>\n",
       "      <td>False</td>\n",
       "      <td>6.50</td>\n",
       "      <td>2</td>\n",
       "      <td>Санкт-Петербург</td>\n",
       "      <td>50898.0</td>\n",
       "      <td>15008.0</td>\n",
       "      <td>0.0</td>\n",
       "      <td>0.0</td>\n",
       "      <td>0.0</td>\n",
       "      <td>0.0</td>\n",
       "      <td>289.0</td>\n",
       "      <td>88524.590164</td>\n",
       "      <td>6</td>\n",
       "      <td>2</td>\n",
       "      <td>2017</td>\n",
       "      <td>Другой</td>\n",
       "      <td>0.714754</td>\n",
       "      <td>0.106557</td>\n",
       "      <td>15.0</td>\n",
       "    </tr>\n",
       "  </tbody>\n",
       "</table>\n",
       "</div>"
      ],
      "text/plain": [
       "   total_images  last_price  total_area first_day_exposition  rooms  \\\n",
       "0            20  13000000.0      108.00           2019-03-07      3   \n",
       "1             7   3350000.0       40.40           2018-12-04      1   \n",
       "2            10   5196000.0       56.00           2015-08-20      2   \n",
       "3             0  64900000.0      159.00           2015-07-24      3   \n",
       "4             2  10000000.0      100.00           2018-06-19      2   \n",
       "5            10   2890000.0       30.40           2018-09-10      1   \n",
       "6             6   3700000.0       37.30           2017-11-02      1   \n",
       "7             5   7915000.0       71.60           2019-04-18      2   \n",
       "8            20   2900000.0       33.16           2018-05-23      1   \n",
       "9            18   5400000.0       61.00           2017-02-26      3   \n",
       "\n",
       "   ceiling_height  floors_total  living_area  floor is_apartment  studio  \\\n",
       "0            2.70            16        51.00      8            0   False   \n",
       "1            2.75            11        18.60      1            0   False   \n",
       "2            2.55             5        34.30      4            0   False   \n",
       "3            2.60            14        30.00      9            0   False   \n",
       "4            3.03            14        32.00     13            0   False   \n",
       "5            2.65            12        14.40      5            0   False   \n",
       "6            2.66            26        10.60      6            0   False   \n",
       "7            2.75            24        30.00     22            0   False   \n",
       "8            2.70            27        15.43     26            0   False   \n",
       "9            2.50             9        43.60      7            0   False   \n",
       "\n",
       "   open_plan  kitchen_area  balcony              locality_name  \\\n",
       "0      False         25.00        0            Санкт-Петербург   \n",
       "1      False         11.00        2             поселок Шушары   \n",
       "2      False          8.30        0            Санкт-Петербург   \n",
       "3      False          9.10        0            Санкт-Петербург   \n",
       "4      False         41.00        0            Санкт-Петербург   \n",
       "5      False          9.10        0  городской поселок Янино-1   \n",
       "6      False         14.40        1          поселок Парголово   \n",
       "7      False         18.90        2            Санкт-Петербург   \n",
       "8      False          8.81        0             поселок Мурино   \n",
       "9      False          6.50        2            Санкт-Петербург   \n",
       "\n",
       "   airports_nearest  cityCenters_nearest  parks_around3000  parks_nearest  \\\n",
       "0           18863.0              16028.0               1.0          482.0   \n",
       "1           12817.0              18603.0               0.0            0.0   \n",
       "2           21741.0              13933.0               1.0           90.0   \n",
       "3           28098.0               6800.0               2.0           84.0   \n",
       "4           31856.0               8098.0               2.0          112.0   \n",
       "5               0.0                  NaN               NaN            0.0   \n",
       "6           52996.0              19143.0               0.0            0.0   \n",
       "7           23982.0              11634.0               0.0            0.0   \n",
       "8               0.0                  NaN               NaN            0.0   \n",
       "9           50898.0              15008.0               0.0            0.0   \n",
       "\n",
       "   ponds_around3000  ponds_nearest  days_exposition     price_area  \\\n",
       "0               2.0          755.0              0.0  120370.370370   \n",
       "1               0.0            0.0             81.0   82920.792079   \n",
       "2               2.0          574.0            558.0   92785.714286   \n",
       "3               3.0          234.0            424.0  408176.100629   \n",
       "4               1.0           48.0            121.0  100000.000000   \n",
       "5               NaN            0.0             55.0   95065.789474   \n",
       "6               0.0            0.0            155.0   99195.710456   \n",
       "7               0.0            0.0              0.0  110544.692737   \n",
       "8               NaN            0.0            189.0   87454.764777   \n",
       "9               0.0            0.0            289.0   88524.590164   \n",
       "\n",
       "   day_weekday  day_month  day_year floor_category  living_total  \\\n",
       "0            3          3      2019         Другой      0.472222   \n",
       "1            1         12      2018         Первый      0.460396   \n",
       "2            3          8      2015         Другой      0.612500   \n",
       "3            4          7      2015         Другой      0.188679   \n",
       "4            1          6      2018         Другой      0.320000   \n",
       "5            0          9      2018         Другой      0.473684   \n",
       "6            3         11      2017         Другой      0.284182   \n",
       "7            3          4      2019         Другой      0.418994   \n",
       "8            2          5      2018         Другой      0.465320   \n",
       "9            6          2      2017         Другой      0.714754   \n",
       "\n",
       "   kitchen_total  cityCenters_nearest_interval  \n",
       "0       0.231481                          16.0  \n",
       "1       0.272277                          19.0  \n",
       "2       0.148214                          14.0  \n",
       "3       0.057233                           7.0  \n",
       "4       0.410000                           8.0  \n",
       "5       0.299342                           NaN  \n",
       "6       0.386059                          19.0  \n",
       "7       0.263966                          12.0  \n",
       "8       0.265682                           NaN  \n",
       "9       0.106557                          15.0  "
      ]
     },
     "execution_count": 27,
     "metadata": {},
     "output_type": "execute_result"
    }
   ],
   "source": [
    "df['cityCenters_nearest_interval'] = (df['cityCenters_nearest']/1000).round() # как же сложно придумывать имена переменным\n",
    "df.head(10)"
   ]
  },
  {
   "cell_type": "markdown",
   "metadata": {},
   "source": [
    "### Проведите исследовательский анализ данных"
   ]
  },
  {
   "cell_type": "markdown",
   "metadata": {},
   "source": [
    "<div class=\"alert alert-danger\">\n",
    "<b>❌ Комментарий ревьюера v1:</b> \n",
    "<br>Прочитай внимательно бриф (задание к проекту) и выполни все задание по нему в той же последовательности, которая там указано. Проверь чтобы были выполнены все пункты, построены все графики и написаны выводы после каждого раздела. Также выдели каждый раздел заголовком, чтобы в проекте соблюдалась структура\n",
    "</div>"
   ]
  },
  {
   "cell_type": "markdown",
   "metadata": {},
   "source": [
    "<div class=\"alert alert-block alert-info\">\n",
    "Готово!"
   ]
  },
  {
   "cell_type": "markdown",
   "metadata": {},
   "source": [
    "<b>Общая площадь</b>"
   ]
  },
  {
   "cell_type": "code",
   "execution_count": 28,
   "metadata": {},
   "outputs": [
    {
     "data": {
      "image/png": "[encoded data removed]",
      "text/plain": [
       "<Figure size 720x360 with 1 Axes>"
      ]
     },
     "metadata": {
      "needs_background": "light"
     },
     "output_type": "display_data"
    },
    {
     "name": "stdout",
     "output_type": "stream",
     "text": [
      "count    23512.000000\n",
      "mean        60.230038\n",
      "std         34.907338\n",
      "min         12.000000\n",
      "25%         40.000000\n",
      "50%         52.000000\n",
      "75%         69.700000\n",
      "max        631.200000\n",
      "Name: total_area, dtype: float64\n"
     ]
    }
   ],
   "source": [
    "df.hist('total_area', bins=75, figsize = (10,5), range=(10,200), color='#86bf91')\n",
    "plt.show()\n",
    "print(df['total_area'].describe())"
   ]
  },
  {
   "cell_type": "markdown",
   "metadata": {},
   "source": [
    "<div class=\"alert alert-block alert-info\">\n",
    "Гистограмма для столбца площади квартиры.\n",
    "Большой пик приходится на площадь от 25 до 50 квадратных метров. Наблюдается тенденция: чем больше площадь, тем меньше реже такие квартиры встречаются, что кажется вполне логичным."
   ]
  },
  {
   "cell_type": "markdown",
   "metadata": {},
   "source": [
    "<b>Жилая площадь</b>"
   ]
  },
  {
   "cell_type": "code",
   "execution_count": 29,
   "metadata": {},
   "outputs": [
    {
     "data": {
      "image/png": "[encoded data removed]",
      "text/plain": [
       "<Figure size 720x360 with 1 Axes>"
      ]
     },
     "metadata": {
      "needs_background": "light"
     },
     "output_type": "display_data"
    },
    {
     "name": "stdout",
     "output_type": "stream",
     "text": [
      "count    23512.000000\n",
      "mean        34.040436\n",
      "std         20.770283\n",
      "min          2.000000\n",
      "25%         19.000000\n",
      "50%         30.000000\n",
      "75%         41.100000\n",
      "max        347.500000\n",
      "Name: living_area, dtype: float64\n"
     ]
    }
   ],
   "source": [
    "df.hist('living_area', bins=50, figsize = (10,5), range=(5,120), color='#86bf91')\n",
    "plt.show()\n",
    "print(df['living_area'].describe())"
   ]
  },
  {
   "cell_type": "markdown",
   "metadata": {},
   "source": [
    "<div class=\"alert alert-block alert-info\">\n",
    "Гистограмма для столбца жилая площадь. Большинство квартир имеют жилую площадь около 20 и 35 м²"
   ]
  },
  {
   "cell_type": "markdown",
   "metadata": {},
   "source": [
    "<b>Площадь кухни</b>"
   ]
  },
  {
   "cell_type": "code",
   "execution_count": 30,
   "metadata": {},
   "outputs": [
    {
     "data": {
      "image/png": "[encoded data removed]",
      "text/plain": [
       "<Figure size 720x360 with 1 Axes>"
      ]
     },
     "metadata": {
      "needs_background": "light"
     },
     "output_type": "display_data"
    },
    {
     "name": "stdout",
     "output_type": "stream",
     "text": [
      "count    23512.000000\n",
      "mean        10.414167\n",
      "std          5.560843\n",
      "min          1.300000\n",
      "25%          7.300000\n",
      "50%          9.100000\n",
      "75%         11.402500\n",
      "max        107.000000\n",
      "Name: kitchen_area, dtype: float64\n"
     ]
    }
   ],
   "source": [
    "df.hist('kitchen_area', bins=50, figsize = (10,5), range=(3,40), color='#86bf91')\n",
    "plt.show()\n",
    "print(df['kitchen_area'].describe())"
   ]
  },
  {
   "cell_type": "markdown",
   "metadata": {},
   "source": [
    "<div class=\"alert alert-block alert-info\">\n",
    "Гистограмма для столбца площадь кухни. Большинство квартир имеют площадь кухни около 10 м²"
   ]
  },
  {
   "cell_type": "markdown",
   "metadata": {},
   "source": [
    "<b>Цена</b>"
   ]
  },
  {
   "cell_type": "code",
   "execution_count": 31,
   "metadata": {},
   "outputs": [
    {
     "data": {
      "image/png": "[encoded data removed]",
      "text/plain": [
       "<Figure size 1440x360 with 1 Axes>"
      ]
     },
     "metadata": {
      "needs_background": "light"
     },
     "output_type": "display_data"
    },
    {
     "name": "stdout",
     "output_type": "stream",
     "text": [
      "count    2.351200e+04\n",
      "mean     6.520915e+06\n",
      "std      1.057076e+07\n",
      "min      5.200000e+05\n",
      "25%      3.414500e+06\n",
      "50%      4.650000e+06\n",
      "75%      6.790000e+06\n",
      "max      7.630000e+08\n",
      "Name: last_price, dtype: float64\n"
     ]
    }
   ],
   "source": [
    "df.hist('last_price', bins=50, figsize = (20,5), range=(0,30000000), color='#86bf91')\n",
    "plt.show()\n",
    "print(df['last_price'].describe())"
   ]
  },
  {
   "cell_type": "markdown",
   "metadata": {},
   "source": [
    "<div class=\"alert alert-warning\">\n",
    "<b>⚠️ Комментарий ревьюера v2:</b> \n",
    "<br>Тут можно разделить все значения в столбце last_price на 1 млн, чтобы они пришли в более понятный вид)\n",
    "</div>"
   ]
  },
  {
   "cell_type": "markdown",
   "metadata": {},
   "source": [
    "<div class=\"alert alert-block alert-info\">\n",
    "Гистограмма для столбца цены. Чаще всего продаются квартиры за 3-4 миллиона ₽ "
   ]
  },
  {
   "cell_type": "markdown",
   "metadata": {},
   "source": [
    "<b>Количество комнат</b>"
   ]
  },
  {
   "cell_type": "code",
   "execution_count": 32,
   "metadata": {},
   "outputs": [
    {
     "data": {
      "image/png": "[encoded data removed]",
      "text/plain": [
       "<Figure size 720x360 with 1 Axes>"
      ]
     },
     "metadata": {
      "needs_background": "light"
     },
     "output_type": "display_data"
    },
    {
     "name": "stdout",
     "output_type": "stream",
     "text": [
      "count    23512.000000\n",
      "mean         2.075493\n",
      "std          1.043134\n",
      "min          1.000000\n",
      "25%          1.000000\n",
      "50%          2.000000\n",
      "75%          3.000000\n",
      "max         10.000000\n",
      "Name: rooms, dtype: float64\n"
     ]
    }
   ],
   "source": [
    "df.hist('rooms', bins = df['rooms'].max(), figsize = (10,5), range=(1,8), color='#86bf91')\n",
    "plt.show()\n",
    "print(df['rooms'].describe())"
   ]
  },
  {
   "cell_type": "markdown",
   "metadata": {},
   "source": [
    "<div class=\"alert alert-block alert-info\">\n",
    "Гистограмма для столбца количество комнат. Чаще всего встречаются квартиры с 1, 2 и 3 комнатами."
   ]
  },
  {
   "cell_type": "markdown",
   "metadata": {},
   "source": [
    "<div class=\"alert alert-warning\">\n",
    "<b>⚠️ Комментарий ревьюера v2:</b> \n",
    "<br>Для данного графика можно применить небольшую хитрость: количество корзин = максимальному числу комнат\n",
    "\n",
    "\tbins = data['rooms'].max()\n",
    "</div>"
   ]
  },
  {
   "cell_type": "markdown",
   "metadata": {},
   "source": [
    "<div class=\"alert alert-block alert-info\">\n",
    "хитрости такие хитрости)"
   ]
  },
  {
   "cell_type": "markdown",
   "metadata": {},
   "source": [
    "<b>Высота потолков</b>"
   ]
  },
  {
   "cell_type": "code",
   "execution_count": 33,
   "metadata": {},
   "outputs": [
    {
     "data": {
      "image/png": "[encoded data removed]",
      "text/plain": [
       "<Figure size 720x360 with 1 Axes>"
      ]
     },
     "metadata": {
      "needs_background": "light"
     },
     "output_type": "display_data"
    },
    {
     "name": "stdout",
     "output_type": "stream",
     "text": [
      "count    23512.000000\n",
      "mean         2.708320\n",
      "std          0.245734\n",
      "min          1.000000\n",
      "25%          2.550000\n",
      "50%          2.650000\n",
      "75%          2.750000\n",
      "max          8.300000\n",
      "Name: ceiling_height, dtype: float64\n"
     ]
    }
   ],
   "source": [
    "df.hist('ceiling_height', bins=10, figsize = (10,5), range=(2,4), color='#86bf91')\n",
    "plt.show()\n",
    "print(df['ceiling_height'].describe())"
   ]
  },
  {
   "cell_type": "markdown",
   "metadata": {},
   "source": [
    "<div class=\"alert alert-block alert-info\">\n",
    "Гистограмма для столбца высота потолка. Большинство квартир имеет высоту полотка чуть больше 2,5 метров."
   ]
  },
  {
   "cell_type": "markdown",
   "metadata": {},
   "source": [
    "<b>Этажи</b>"
   ]
  },
  {
   "cell_type": "code",
   "execution_count": 34,
   "metadata": {},
   "outputs": [
    {
     "data": {
      "image/png": "[encoded data removed]",
      "text/plain": [
       "<Figure size 720x360 with 1 Axes>"
      ]
     },
     "metadata": {
      "needs_background": "light"
     },
     "output_type": "display_data"
    },
    {
     "name": "stdout",
     "output_type": "stream",
     "text": [
      "count    23512.000000\n",
      "mean         5.877722\n",
      "std          4.864291\n",
      "min          1.000000\n",
      "25%          2.000000\n",
      "50%          4.000000\n",
      "75%          8.000000\n",
      "max         33.000000\n",
      "Name: floor, dtype: float64\n"
     ]
    }
   ],
   "source": [
    "df.hist('floor', bins=100, figsize = (10,5), range=(0,25), color='#86bf91')\n",
    "plt.show()\n",
    "print(df['floor'].describe())"
   ]
  },
  {
   "cell_type": "markdown",
   "metadata": {},
   "source": [
    "<div class=\"alert alert-block alert-info\">\n",
    "Гистограмма для столбца этажи. Большинство квартир продается в 5 этажных домах."
   ]
  },
  {
   "cell_type": "markdown",
   "metadata": {},
   "source": [
    "<b>Общее кол-во этажей в доме</b>"
   ]
  },
  {
   "cell_type": "code",
   "execution_count": 35,
   "metadata": {},
   "outputs": [
    {
     "data": {
      "image/png": "[encoded data removed]",
      "text/plain": [
       "<Figure size 720x360 with 1 Axes>"
      ]
     },
     "metadata": {
      "needs_background": "light"
     },
     "output_type": "display_data"
    },
    {
     "name": "stdout",
     "output_type": "stream",
     "text": [
      "count    23512.000000\n",
      "mean        10.680674\n",
      "std          6.587942\n",
      "min          1.000000\n",
      "25%          5.000000\n",
      "50%          9.000000\n",
      "75%         16.000000\n",
      "max         60.000000\n",
      "Name: floors_total, dtype: float64\n"
     ]
    }
   ],
   "source": [
    "df.hist('floors_total', bins=100, figsize = (10,5), range=(0,25), color='#86bf91')\n",
    "plt.show()\n",
    "print(df['floors_total'].describe())"
   ]
  },
  {
   "cell_type": "markdown",
   "metadata": {},
   "source": [
    "<div class=\"alert alert-block alert-info\">\n",
    "Гистограмма для столбца количества этажей. Больше всего объявлений приходится на дома в которых 5 и 9 этажей."
   ]
  },
  {
   "cell_type": "markdown",
   "metadata": {},
   "source": [
    "<b>Расстояние от центра города</b>"
   ]
  },
  {
   "cell_type": "code",
   "execution_count": 36,
   "metadata": {},
   "outputs": [
    {
     "data": {
      "image/png": "[encoded data removed]",
      "text/plain": [
       "<Figure size 720x360 with 1 Axes>"
      ]
     },
     "metadata": {
      "needs_background": "light"
     },
     "output_type": "display_data"
    },
    {
     "name": "stdout",
     "output_type": "stream",
     "text": [
      "count    18037.000000\n",
      "mean     14197.085934\n",
      "std       8611.165678\n",
      "min        181.000000\n",
      "25%       9241.000000\n",
      "50%      13101.000000\n",
      "75%      16293.000000\n",
      "max      65968.000000\n",
      "Name: cityCenters_nearest, dtype: float64\n"
     ]
    }
   ],
   "source": [
    "df.hist('cityCenters_nearest', bins=50, figsize = (10,5), range=(0,40000), color='#86bf91')\n",
    "plt.show()\n",
    "print(df['cityCenters_nearest'].describe())"
   ]
  },
  {
   "cell_type": "markdown",
   "metadata": {},
   "source": [
    "<div class=\"alert alert-block alert-info\">\n",
    "Гистограмма для столбца удаленность от центра города. Как можно заметить большинство квартир продается в диапозоне от 10 до 15 км."
   ]
  },
  {
   "cell_type": "markdown",
   "metadata": {},
   "source": [
    "<b>Расстояние от аэропорта</b>"
   ]
  },
  {
   "cell_type": "code",
   "execution_count": 37,
   "metadata": {},
   "outputs": [
    {
     "data": {
      "image/png": "[encoded data removed]",
      "text/plain": [
       "<Figure size 720x360 with 1 Axes>"
      ]
     },
     "metadata": {
      "needs_background": "light"
     },
     "output_type": "display_data"
    },
    {
     "name": "stdout",
     "output_type": "stream",
     "text": [
      "count    23512.000000\n",
      "mean     22065.486858\n",
      "std      16458.647165\n",
      "min          0.000000\n",
      "25%      10243.000000\n",
      "50%      21860.000000\n",
      "75%      34324.000000\n",
      "max      84869.000000\n",
      "Name: airports_nearest, dtype: float64\n"
     ]
    }
   ],
   "source": [
    "df.hist('airports_nearest', bins=50, figsize = (10,5), range=(0,70000), color='#86bf91')\n",
    "plt.show()\n",
    "print(df['airports_nearest'].describe())"
   ]
  },
  {
   "cell_type": "markdown",
   "metadata": {},
   "source": [
    "<div class=\"alert alert-block alert-info\">\n",
    "Гистограмма для столбца удаленность от аэропорта. Здесь можно разделить квартиры на 3 диапозона по удаленности от аэропорта: 12-25 км / 30-37 км / 40-50 км"
   ]
  },
  {
   "cell_type": "markdown",
   "metadata": {},
   "source": [
    "<b>Расстояние от парка</b>"
   ]
  },
  {
   "cell_type": "code",
   "execution_count": 38,
   "metadata": {},
   "outputs": [
    {
     "data": {
      "image/png": "[encoded data removed]",
      "text/plain": [
       "<Figure size 720x360 with 1 Axes>"
      ]
     },
     "metadata": {
      "needs_background": "light"
     },
     "output_type": "display_data"
    },
    {
     "name": "stdout",
     "output_type": "stream",
     "text": [
      "count    23512.000000\n",
      "mean       167.237964\n",
      "std        306.393671\n",
      "min          0.000000\n",
      "25%          0.000000\n",
      "50%          0.000000\n",
      "75%        301.000000\n",
      "max       3190.000000\n",
      "Name: parks_nearest, dtype: float64\n"
     ]
    }
   ],
   "source": [
    "df.hist('parks_nearest', bins=50, figsize = (10,5), range=(0,2500), color='#86bf91')\n",
    "plt.show()\n",
    "print(df['parks_nearest'].describe())"
   ]
  },
  {
   "cell_type": "markdown",
   "metadata": {},
   "source": [
    "<div class=\"alert alert-block alert-info\">\n",
    "Гистограмма для столбца расстояние до ближайшего парка. Северная столица богата на парковые зоны, поэтому от большинства квартир зеленые насаждения находятся в пешей доступности."
   ]
  },
  {
   "cell_type": "markdown",
   "metadata": {},
   "source": [
    "<div class=\"alert alert-danger\">\n",
    "<b>❌ Комментарий ревьюера v1:</b> \n",
    "<br>Тут необходимо изучить день и месяц отдельно. Мы как раз создали столбцы для них в предыдущем шаге\n",
    "</div>"
   ]
  },
  {
   "cell_type": "code",
   "execution_count": 39,
   "metadata": {},
   "outputs": [
    {
     "data": {
      "image/png": "[encoded data removed]",
      "text/plain": [
       "<Figure size 720x360 with 1 Axes>"
      ]
     },
     "metadata": {
      "needs_background": "light"
     },
     "output_type": "display_data"
    }
   ],
   "source": [
    "df.hist('day_weekday', bins=50, figsize = (10,5), range=(0,7), color='#86bf91')\n",
    "plt.show()"
   ]
  },
  {
   "cell_type": "markdown",
   "metadata": {},
   "source": [
    "<div class=\"alert alert-block alert-info\">\n",
    "Гистограмма для столбца дня недели. Как можем заметить в выходные дни люди предпочитают отдыхать."
   ]
  },
  {
   "cell_type": "code",
   "execution_count": 40,
   "metadata": {},
   "outputs": [
    {
     "data": {
      "image/png": "[encoded data removed]",
      "text/plain": [
       "<Figure size 720x360 with 1 Axes>"
      ]
     },
     "metadata": {
      "needs_background": "light"
     },
     "output_type": "display_data"
    }
   ],
   "source": [
    "df.hist('day_month', bins=50, figsize = (10,5), range=(0,12), color='#86bf91')\n",
    "plt.show()"
   ]
  },
  {
   "cell_type": "markdown",
   "metadata": {},
   "source": [
    "<div class=\"alert alert-block alert-info\">\n",
    "Гистограмма для столбца месяца. Весна и осень - пик продаж квартир."
   ]
  },
  {
   "cell_type": "markdown",
   "metadata": {},
   "source": [
    "<b>Дата публикации</b>"
   ]
  },
  {
   "cell_type": "code",
   "execution_count": 41,
   "metadata": {},
   "outputs": [
    {
     "data": {
      "image/png": "[encoded data removed]",
      "text/plain": [
       "<Figure size 720x360 with 1 Axes>"
      ]
     },
     "metadata": {
      "needs_background": "light"
     },
     "output_type": "display_data"
    },
    {
     "name": "stdout",
     "output_type": "stream",
     "text": [
      "count    23512.000000\n",
      "mean       156.414639\n",
      "std        213.412757\n",
      "min          0.000000\n",
      "25%         22.000000\n",
      "50%         73.000000\n",
      "75%        198.000000\n",
      "max       1580.000000\n",
      "Name: days_exposition, dtype: float64\n",
      "73.0\n"
     ]
    }
   ],
   "source": [
    "df.hist('days_exposition', bins=25, figsize = (10,5), range=(0,100), color='#86bf91')\n",
    "plt.show()\n",
    "print(df['days_exposition'].describe())\n",
    "print(df['days_exposition'].median())"
   ]
  },
  {
   "cell_type": "markdown",
   "metadata": {},
   "source": [
    "<div class=\"alert alert-block alert-info\">\n",
    "Гистограмма для столбца даты публикации. Подавляющие большинство объявлений было выложено около 6 недель назад."
   ]
  },
  {
   "cell_type": "markdown",
   "metadata": {},
   "source": [
    "<div class=\"alert alert-success\">\n",
    "<b>✔️ Комментарий ревьюера v2:</b> \n",
    "<br>Согласен! Если интересно, то можно посмотреть на диапазон от 0 до 100 дней. Там есть пики, которым можно найти очень логичное объяснение</div>\n",
    "</div>"
   ]
  },
  {
   "cell_type": "code",
   "execution_count": 42,
   "metadata": {},
   "outputs": [
    {
     "name": "stdout",
     "output_type": "stream",
     "text": [
      "3\n",
      "0\n"
     ]
    }
   ],
   "source": [
    "print(df['ceiling_height'][df['ceiling_height'] < 2].count())\n",
    "df.loc[df['ceiling_height'] < 2,'ceiling_height'] = None\n",
    "df = df.dropna(subset=['ceiling_height'])\n",
    "print(df['ceiling_height'][df['ceiling_height'] < 2].count())"
   ]
  },
  {
   "cell_type": "markdown",
   "metadata": {},
   "source": [
    "Удалим квартиры с высотой потолка менее 2м., их оказалось - 3."
   ]
  },
  {
   "cell_type": "code",
   "execution_count": 43,
   "metadata": {},
   "outputs": [
    {
     "data": {
      "text/plain": [
       "0"
      ]
     },
     "execution_count": 43,
     "metadata": {},
     "output_type": "execute_result"
    }
   ],
   "source": [
    "df['last_price'][df['last_price'] < 100000].count()\n",
    "df.loc[df['last_price'] < 100000,'last_price'] = None\n",
    "df = df.dropna(subset=['last_price'])\n",
    "df['last_price'][df['last_price'] < 100000].count() # проверка после удаления"
   ]
  },
  {
   "cell_type": "markdown",
   "metadata": {},
   "source": [
    "Также исключим значения с наименьшей ценой квартиры. Всего одна квартира с ценой менее 100000 рублей, ее цена - 12 190 руб."
   ]
  },
  {
   "cell_type": "code",
   "execution_count": 44,
   "metadata": {},
   "outputs": [
    {
     "name": "stdout",
     "output_type": "stream",
     "text": [
      "                              last_price  price_area\n",
      "total_images                    0.108845    0.133935\n",
      "last_price                      1.000000    0.751392\n",
      "total_area                      0.643671    0.303093\n",
      "rooms                           0.361054    0.055835\n",
      "ceiling_height                  0.293118    0.294619\n",
      "floors_total                   -0.010510    0.147571\n",
      "living_area                     0.532261    0.213373\n",
      "floor                           0.021362    0.128148\n",
      "studio                         -0.025780    0.015534\n",
      "open_plan                      -0.008799    0.008019\n",
      "kitchen_area                    0.426606    0.362488\n",
      "balcony                         0.009923    0.021496\n",
      "airports_nearest                0.110198    0.274291\n",
      "cityCenters_nearest            -0.211222   -0.318422\n",
      "parks_around3000                0.158100    0.186197\n",
      "parks_nearest                   0.121227    0.216195\n",
      "ponds_around3000                0.163685    0.190960\n",
      "ponds_nearest                   0.092090    0.174608\n",
      "days_exposition                 0.054864    0.019772\n",
      "price_area                      0.751392    1.000000\n",
      "day_weekday                     0.001638   -0.007066\n",
      "day_month                       0.000525   -0.002849\n",
      "day_year                       -0.043590    0.009383\n",
      "living_total                   -0.069857   -0.146308\n",
      "kitchen_total                  -0.122655    0.122038\n",
      "cityCenters_nearest_interval   -0.211543   -0.319168\n"
     ]
    }
   ],
   "source": [
    "print(df.corr()[['last_price', 'price_area']])"
   ]
  },
  {
   "cell_type": "markdown",
   "metadata": {},
   "source": [
    "Построим коэффициент корреляции."
   ]
  },
  {
   "cell_type": "code",
   "execution_count": 45,
   "metadata": {},
   "outputs": [
    {
     "data": {
      "image/png": "[encoded data removed]",
      "text/plain": [
       "<Figure size 432x288 with 1 Axes>"
      ]
     },
     "metadata": {
      "needs_background": "light"
     },
     "output_type": "display_data"
    }
   ],
   "source": [
    "df.query('total_area<200').pivot_table(index='total_area', values='price_area', aggfunc='median').plot(style='o');"
   ]
  },
  {
   "cell_type": "markdown",
   "metadata": {},
   "source": [
    "Оценим зависимость цены м2 от площади квартиры."
   ]
  },
  {
   "cell_type": "code",
   "execution_count": 46,
   "metadata": {},
   "outputs": [
    {
     "data": {
      "image/png": "[encoded data removed]",
      "text/plain": [
       "<Figure size 432x288 with 1 Axes>"
      ]
     },
     "metadata": {
      "needs_background": "light"
     },
     "output_type": "display_data"
    }
   ],
   "source": [
    "df.query('last_price<80000000').pivot_table(index='rooms', values='price_area', aggfunc='median').plot(style='o-', xlim=(0,10));"
   ]
  },
  {
   "cell_type": "markdown",
   "metadata": {},
   "source": [
    "Оценим зависимость цены м2 от числа комнат."
   ]
  },
  {
   "cell_type": "code",
   "execution_count": 47,
   "metadata": {},
   "outputs": [
    {
     "data": {
      "image/png": "[encoded data removed]",
      "text/plain": [
       "<Figure size 432x288 with 1 Axes>"
      ]
     },
     "metadata": {
      "needs_background": "light"
     },
     "output_type": "display_data"
    }
   ],
   "source": [
    "df.query('last_price<100000000').pivot_table(index='cityCenters_nearest', values='price_area', aggfunc='median').plot(style='o');"
   ]
  },
  {
   "cell_type": "markdown",
   "metadata": {},
   "source": [
    "Оценим зависимость цены м2 от удаленности от центра."
   ]
  },
  {
   "cell_type": "code",
   "execution_count": 48,
   "metadata": {},
   "outputs": [
    {
     "data": {
      "image/png": "[encoded data removed]",
      "text/plain": [
       "<Figure size 432x288 with 1 Axes>"
      ]
     },
     "metadata": {
      "needs_background": "light"
     },
     "output_type": "display_data"
    }
   ],
   "source": [
    "df.query('5<floors_total<25').pivot_table(index='floor_category', values='price_area', aggfunc='median').plot(style='o-');"
   ]
  },
  {
   "cell_type": "markdown",
   "metadata": {},
   "source": [
    "Оценим зависимость цены м2 от того, на каком этаже расположена квартира."
   ]
  },
  {
   "cell_type": "code",
   "execution_count": 49,
   "metadata": {},
   "outputs": [
    {
     "data": {
      "image/png": "[encoded data removed]",
      "text/plain": [
       "<Figure size 432x288 with 1 Axes>"
      ]
     },
     "metadata": {
      "needs_background": "light"
     },
     "output_type": "display_data"
    }
   ],
   "source": [
    "df.query('last_price<100000000').pivot_table(index='day_weekday', values='price_area', aggfunc='median').plot(style='o-');"
   ]
  },
  {
   "cell_type": "markdown",
   "metadata": {},
   "source": [
    "Оценим зависимость цены м2 от дня размещения объявления."
   ]
  },
  {
   "cell_type": "code",
   "execution_count": 50,
   "metadata": {},
   "outputs": [
    {
     "data": {
      "image/png": "[encoded data removed]",
      "text/plain": [
       "<Figure size 432x288 with 1 Axes>"
      ]
     },
     "metadata": {
      "needs_background": "light"
     },
     "output_type": "display_data"
    }
   ],
   "source": [
    "df.query('last_price<100000000').pivot_table(index='day_month', values='price_area', aggfunc='median').plot(style='o-');"
   ]
  },
  {
   "cell_type": "markdown",
   "metadata": {},
   "source": [
    "Оценим зависимость цены м2 от месяца размещения объявления."
   ]
  },
  {
   "cell_type": "code",
   "execution_count": 51,
   "metadata": {},
   "outputs": [
    {
     "data": {
      "image/png": "[encoded data removed]",
      "text/plain": [
       "<Figure size 432x288 with 1 Axes>"
      ]
     },
     "metadata": {
      "needs_background": "light"
     },
     "output_type": "display_data"
    }
   ],
   "source": [
    "df.query('last_price<100000000').pivot_table(index='day_year', values='price_area', aggfunc='median').plot(style='o-');"
   ]
  },
  {
   "cell_type": "markdown",
   "metadata": {},
   "source": [
    "Оценим зависимость цены м2 от года размещения объявления."
   ]
  },
  {
   "cell_type": "markdown",
   "metadata": {},
   "source": [
    "<div class=\"alert alert-danger\">\n",
    "<b>❌ Комментарий ревьюера v2:</b> \n",
    "<br>Не хватает изучения столбца с жилой площадью и площадью кухни\n",
    "</div>"
   ]
  },
  {
   "cell_type": "markdown",
   "metadata": {},
   "source": [
    "<div class=\"alert alert-block alert-info\">\n",
    "Готово!"
   ]
  },
  {
   "cell_type": "markdown",
   "metadata": {},
   "source": [
    "<div class=\"alert alert-success\">\n",
    "<b>✔️ Комментарий ревьюера v3:</b>\n",
    "<br>Правка выполнена 👍\n",
    "</div>"
   ]
  },
  {
   "cell_type": "code",
   "execution_count": 52,
   "metadata": {},
   "outputs": [
    {
     "data": {
      "image/png": "[encoded data removed]",
      "text/plain": [
       "<Figure size 432x288 with 1 Axes>"
      ]
     },
     "metadata": {
      "needs_background": "light"
     },
     "output_type": "display_data"
    }
   ],
   "source": [
    "df.query('last_price<100000000').pivot_table(index='living_area', values='price_area', aggfunc='median').plot(style='o');"
   ]
  },
  {
   "cell_type": "markdown",
   "metadata": {},
   "source": [
    "Оценим зависимость цены м2 от жилой площади."
   ]
  },
  {
   "cell_type": "code",
   "execution_count": 53,
   "metadata": {},
   "outputs": [
    {
     "data": {
      "image/png": "[encoded data removed]",
      "text/plain": [
       "<Figure size 432x288 with 1 Axes>"
      ]
     },
     "metadata": {
      "needs_background": "light"
     },
     "output_type": "display_data"
    }
   ],
   "source": [
    "df.query('last_price<100000000').pivot_table(index='kitchen_area', values='price_area', aggfunc='median').plot(style='o');"
   ]
  },
  {
   "cell_type": "markdown",
   "metadata": {},
   "source": [
    "Оценим зависимость цены м2 от площади кухни."
   ]
  },
  {
   "cell_type": "code",
   "execution_count": 54,
   "metadata": {},
   "outputs": [
    {
     "data": {
      "text/plain": [
       "Санкт-Петербург      15623\n",
       "поселок Мурино         550\n",
       "поселок Шушары         439\n",
       "Всеволожск             398\n",
       "Пушкин                 369\n",
       "Колпино                338\n",
       "поселок Парголово      327\n",
       "Гатчина                306\n",
       "деревня Кудрово        299\n",
       "Выборг                 237\n",
       "Name: locality_name, dtype: int64"
      ]
     },
     "metadata": {},
     "output_type": "display_data"
    }
   ],
   "source": [
    "locality=df['locality_name'].value_counts().sort_values(ascending=False).head(10)\n",
    "display(locality)"
   ]
  },
  {
   "cell_type": "markdown",
   "metadata": {},
   "source": [
    "Выберем 10 населённых пунктов с наибольшим числом объявлений."
   ]
  },
  {
   "cell_type": "code",
   "execution_count": 55,
   "metadata": {},
   "outputs": [
    {
     "data": {
      "image/png": "[encoded data removed]",
      "text/plain": [
       "<Figure size 432x288 with 1 Axes>"
      ]
     },
     "metadata": {
      "needs_background": "light"
     },
     "output_type": "display_data"
    }
   ],
   "source": [
    "df.query('locality_name in @locality.index').pivot_table(index='locality_name', values='price_area', aggfunc='median').sort_values('price_area').plot(kind='bar');"
   ]
  },
  {
   "cell_type": "markdown",
   "metadata": {},
   "source": [
    "<div class=\"alert alert-success\">\n",
    "<b>✔️ Комментарий ревьюера v2:</b> \n",
    "<br>Всё верно! Как вариант, тут вместо таблицы можно построить гистограмму, так будет более наглядно)\n",
    "</div>"
   ]
  },
  {
   "cell_type": "markdown",
   "metadata": {},
   "source": [
    "Посчитаем среднюю цену м2 в этих населённых пунктах, выделим пункты с самой высокой и низкой стоимостью жилья."
   ]
  },
  {
   "cell_type": "code",
   "execution_count": 56,
   "metadata": {},
   "outputs": [],
   "source": [
    "df['cityCenters'] = (df['cityCenters_nearest']/1000).dropna().astype(int)\n",
    "# df.head(10)"
   ]
  },
  {
   "cell_type": "markdown",
   "metadata": {},
   "source": [
    "Создадим в таблице столбец с расстоянием до центра в километрах, округлим его до целых значений."
   ]
  },
  {
   "cell_type": "code",
   "execution_count": 57,
   "metadata": {},
   "outputs": [
    {
     "data": {
      "text/html": [
       "<div>\n",
       "<style scoped>\n",
       "    .dataframe tbody tr th:only-of-type {\n",
       "        vertical-align: middle;\n",
       "    }\n",
       "\n",
       "    .dataframe tbody tr th {\n",
       "        vertical-align: top;\n",
       "    }\n",
       "\n",
       "    .dataframe thead th {\n",
       "        text-align: right;\n",
       "    }\n",
       "</style>\n",
       "<table border=\"1\" class=\"dataframe\">\n",
       "  <thead>\n",
       "    <tr style=\"text-align: right;\">\n",
       "      <th></th>\n",
       "      <th>total_images</th>\n",
       "      <th>last_price</th>\n",
       "      <th>total_area</th>\n",
       "      <th>first_day_exposition</th>\n",
       "      <th>rooms</th>\n",
       "      <th>ceiling_height</th>\n",
       "      <th>floors_total</th>\n",
       "      <th>living_area</th>\n",
       "      <th>floor</th>\n",
       "      <th>is_apartment</th>\n",
       "      <th>studio</th>\n",
       "      <th>open_plan</th>\n",
       "      <th>kitchen_area</th>\n",
       "      <th>balcony</th>\n",
       "      <th>locality_name</th>\n",
       "      <th>airports_nearest</th>\n",
       "      <th>cityCenters_nearest</th>\n",
       "      <th>parks_around3000</th>\n",
       "      <th>parks_nearest</th>\n",
       "      <th>ponds_around3000</th>\n",
       "      <th>ponds_nearest</th>\n",
       "      <th>days_exposition</th>\n",
       "      <th>price_area</th>\n",
       "      <th>day_weekday</th>\n",
       "      <th>day_month</th>\n",
       "      <th>day_year</th>\n",
       "      <th>floor_category</th>\n",
       "      <th>living_total</th>\n",
       "      <th>kitchen_total</th>\n",
       "      <th>cityCenters_nearest_interval</th>\n",
       "      <th>cityCenters</th>\n",
       "      <th>price_km</th>\n",
       "    </tr>\n",
       "  </thead>\n",
       "  <tbody>\n",
       "    <tr>\n",
       "      <th>0</th>\n",
       "      <td>20</td>\n",
       "      <td>13000000.0</td>\n",
       "      <td>108.00</td>\n",
       "      <td>2019-03-07</td>\n",
       "      <td>3</td>\n",
       "      <td>2.70</td>\n",
       "      <td>16</td>\n",
       "      <td>51.00</td>\n",
       "      <td>8</td>\n",
       "      <td>0</td>\n",
       "      <td>False</td>\n",
       "      <td>False</td>\n",
       "      <td>25.00</td>\n",
       "      <td>0</td>\n",
       "      <td>Санкт-Петербург</td>\n",
       "      <td>18863.0</td>\n",
       "      <td>16028.0</td>\n",
       "      <td>1.0</td>\n",
       "      <td>482.0</td>\n",
       "      <td>2.0</td>\n",
       "      <td>755.0</td>\n",
       "      <td>0.0</td>\n",
       "      <td>120370.370370</td>\n",
       "      <td>3</td>\n",
       "      <td>3</td>\n",
       "      <td>2019</td>\n",
       "      <td>Другой</td>\n",
       "      <td>0.472222</td>\n",
       "      <td>0.231481</td>\n",
       "      <td>16.0</td>\n",
       "      <td>16.0</td>\n",
       "      <td>8.125000e+05</td>\n",
       "    </tr>\n",
       "    <tr>\n",
       "      <th>1</th>\n",
       "      <td>7</td>\n",
       "      <td>3350000.0</td>\n",
       "      <td>40.40</td>\n",
       "      <td>2018-12-04</td>\n",
       "      <td>1</td>\n",
       "      <td>2.75</td>\n",
       "      <td>11</td>\n",
       "      <td>18.60</td>\n",
       "      <td>1</td>\n",
       "      <td>0</td>\n",
       "      <td>False</td>\n",
       "      <td>False</td>\n",
       "      <td>11.00</td>\n",
       "      <td>2</td>\n",
       "      <td>поселок Шушары</td>\n",
       "      <td>12817.0</td>\n",
       "      <td>18603.0</td>\n",
       "      <td>0.0</td>\n",
       "      <td>0.0</td>\n",
       "      <td>0.0</td>\n",
       "      <td>0.0</td>\n",
       "      <td>81.0</td>\n",
       "      <td>82920.792079</td>\n",
       "      <td>1</td>\n",
       "      <td>12</td>\n",
       "      <td>2018</td>\n",
       "      <td>Первый</td>\n",
       "      <td>0.460396</td>\n",
       "      <td>0.272277</td>\n",
       "      <td>19.0</td>\n",
       "      <td>18.0</td>\n",
       "      <td>1.861111e+05</td>\n",
       "    </tr>\n",
       "    <tr>\n",
       "      <th>2</th>\n",
       "      <td>10</td>\n",
       "      <td>5196000.0</td>\n",
       "      <td>56.00</td>\n",
       "      <td>2015-08-20</td>\n",
       "      <td>2</td>\n",
       "      <td>2.55</td>\n",
       "      <td>5</td>\n",
       "      <td>34.30</td>\n",
       "      <td>4</td>\n",
       "      <td>0</td>\n",
       "      <td>False</td>\n",
       "      <td>False</td>\n",
       "      <td>8.30</td>\n",
       "      <td>0</td>\n",
       "      <td>Санкт-Петербург</td>\n",
       "      <td>21741.0</td>\n",
       "      <td>13933.0</td>\n",
       "      <td>1.0</td>\n",
       "      <td>90.0</td>\n",
       "      <td>2.0</td>\n",
       "      <td>574.0</td>\n",
       "      <td>558.0</td>\n",
       "      <td>92785.714286</td>\n",
       "      <td>3</td>\n",
       "      <td>8</td>\n",
       "      <td>2015</td>\n",
       "      <td>Другой</td>\n",
       "      <td>0.612500</td>\n",
       "      <td>0.148214</td>\n",
       "      <td>14.0</td>\n",
       "      <td>13.0</td>\n",
       "      <td>3.996923e+05</td>\n",
       "    </tr>\n",
       "    <tr>\n",
       "      <th>3</th>\n",
       "      <td>0</td>\n",
       "      <td>64900000.0</td>\n",
       "      <td>159.00</td>\n",
       "      <td>2015-07-24</td>\n",
       "      <td>3</td>\n",
       "      <td>2.60</td>\n",
       "      <td>14</td>\n",
       "      <td>30.00</td>\n",
       "      <td>9</td>\n",
       "      <td>0</td>\n",
       "      <td>False</td>\n",
       "      <td>False</td>\n",
       "      <td>9.10</td>\n",
       "      <td>0</td>\n",
       "      <td>Санкт-Петербург</td>\n",
       "      <td>28098.0</td>\n",
       "      <td>6800.0</td>\n",
       "      <td>2.0</td>\n",
       "      <td>84.0</td>\n",
       "      <td>3.0</td>\n",
       "      <td>234.0</td>\n",
       "      <td>424.0</td>\n",
       "      <td>408176.100629</td>\n",
       "      <td>4</td>\n",
       "      <td>7</td>\n",
       "      <td>2015</td>\n",
       "      <td>Другой</td>\n",
       "      <td>0.188679</td>\n",
       "      <td>0.057233</td>\n",
       "      <td>7.0</td>\n",
       "      <td>6.0</td>\n",
       "      <td>1.081667e+07</td>\n",
       "    </tr>\n",
       "    <tr>\n",
       "      <th>4</th>\n",
       "      <td>2</td>\n",
       "      <td>10000000.0</td>\n",
       "      <td>100.00</td>\n",
       "      <td>2018-06-19</td>\n",
       "      <td>2</td>\n",
       "      <td>3.03</td>\n",
       "      <td>14</td>\n",
       "      <td>32.00</td>\n",
       "      <td>13</td>\n",
       "      <td>0</td>\n",
       "      <td>False</td>\n",
       "      <td>False</td>\n",
       "      <td>41.00</td>\n",
       "      <td>0</td>\n",
       "      <td>Санкт-Петербург</td>\n",
       "      <td>31856.0</td>\n",
       "      <td>8098.0</td>\n",
       "      <td>2.0</td>\n",
       "      <td>112.0</td>\n",
       "      <td>1.0</td>\n",
       "      <td>48.0</td>\n",
       "      <td>121.0</td>\n",
       "      <td>100000.000000</td>\n",
       "      <td>1</td>\n",
       "      <td>6</td>\n",
       "      <td>2018</td>\n",
       "      <td>Другой</td>\n",
       "      <td>0.320000</td>\n",
       "      <td>0.410000</td>\n",
       "      <td>8.0</td>\n",
       "      <td>8.0</td>\n",
       "      <td>1.250000e+06</td>\n",
       "    </tr>\n",
       "    <tr>\n",
       "      <th>5</th>\n",
       "      <td>10</td>\n",
       "      <td>2890000.0</td>\n",
       "      <td>30.40</td>\n",
       "      <td>2018-09-10</td>\n",
       "      <td>1</td>\n",
       "      <td>2.65</td>\n",
       "      <td>12</td>\n",
       "      <td>14.40</td>\n",
       "      <td>5</td>\n",
       "      <td>0</td>\n",
       "      <td>False</td>\n",
       "      <td>False</td>\n",
       "      <td>9.10</td>\n",
       "      <td>0</td>\n",
       "      <td>городской поселок Янино-1</td>\n",
       "      <td>0.0</td>\n",
       "      <td>NaN</td>\n",
       "      <td>NaN</td>\n",
       "      <td>0.0</td>\n",
       "      <td>NaN</td>\n",
       "      <td>0.0</td>\n",
       "      <td>55.0</td>\n",
       "      <td>95065.789474</td>\n",
       "      <td>0</td>\n",
       "      <td>9</td>\n",
       "      <td>2018</td>\n",
       "      <td>Другой</td>\n",
       "      <td>0.473684</td>\n",
       "      <td>0.299342</td>\n",
       "      <td>NaN</td>\n",
       "      <td>NaN</td>\n",
       "      <td>NaN</td>\n",
       "    </tr>\n",
       "    <tr>\n",
       "      <th>6</th>\n",
       "      <td>6</td>\n",
       "      <td>3700000.0</td>\n",
       "      <td>37.30</td>\n",
       "      <td>2017-11-02</td>\n",
       "      <td>1</td>\n",
       "      <td>2.66</td>\n",
       "      <td>26</td>\n",
       "      <td>10.60</td>\n",
       "      <td>6</td>\n",
       "      <td>0</td>\n",
       "      <td>False</td>\n",
       "      <td>False</td>\n",
       "      <td>14.40</td>\n",
       "      <td>1</td>\n",
       "      <td>поселок Парголово</td>\n",
       "      <td>52996.0</td>\n",
       "      <td>19143.0</td>\n",
       "      <td>0.0</td>\n",
       "      <td>0.0</td>\n",
       "      <td>0.0</td>\n",
       "      <td>0.0</td>\n",
       "      <td>155.0</td>\n",
       "      <td>99195.710456</td>\n",
       "      <td>3</td>\n",
       "      <td>11</td>\n",
       "      <td>2017</td>\n",
       "      <td>Другой</td>\n",
       "      <td>0.284182</td>\n",
       "      <td>0.386059</td>\n",
       "      <td>19.0</td>\n",
       "      <td>19.0</td>\n",
       "      <td>1.947368e+05</td>\n",
       "    </tr>\n",
       "    <tr>\n",
       "      <th>7</th>\n",
       "      <td>5</td>\n",
       "      <td>7915000.0</td>\n",
       "      <td>71.60</td>\n",
       "      <td>2019-04-18</td>\n",
       "      <td>2</td>\n",
       "      <td>2.75</td>\n",
       "      <td>24</td>\n",
       "      <td>30.00</td>\n",
       "      <td>22</td>\n",
       "      <td>0</td>\n",
       "      <td>False</td>\n",
       "      <td>False</td>\n",
       "      <td>18.90</td>\n",
       "      <td>2</td>\n",
       "      <td>Санкт-Петербург</td>\n",
       "      <td>23982.0</td>\n",
       "      <td>11634.0</td>\n",
       "      <td>0.0</td>\n",
       "      <td>0.0</td>\n",
       "      <td>0.0</td>\n",
       "      <td>0.0</td>\n",
       "      <td>0.0</td>\n",
       "      <td>110544.692737</td>\n",
       "      <td>3</td>\n",
       "      <td>4</td>\n",
       "      <td>2019</td>\n",
       "      <td>Другой</td>\n",
       "      <td>0.418994</td>\n",
       "      <td>0.263966</td>\n",
       "      <td>12.0</td>\n",
       "      <td>11.0</td>\n",
       "      <td>7.195455e+05</td>\n",
       "    </tr>\n",
       "    <tr>\n",
       "      <th>8</th>\n",
       "      <td>20</td>\n",
       "      <td>2900000.0</td>\n",
       "      <td>33.16</td>\n",
       "      <td>2018-05-23</td>\n",
       "      <td>1</td>\n",
       "      <td>2.70</td>\n",
       "      <td>27</td>\n",
       "      <td>15.43</td>\n",
       "      <td>26</td>\n",
       "      <td>0</td>\n",
       "      <td>False</td>\n",
       "      <td>False</td>\n",
       "      <td>8.81</td>\n",
       "      <td>0</td>\n",
       "      <td>поселок Мурино</td>\n",
       "      <td>0.0</td>\n",
       "      <td>NaN</td>\n",
       "      <td>NaN</td>\n",
       "      <td>0.0</td>\n",
       "      <td>NaN</td>\n",
       "      <td>0.0</td>\n",
       "      <td>189.0</td>\n",
       "      <td>87454.764777</td>\n",
       "      <td>2</td>\n",
       "      <td>5</td>\n",
       "      <td>2018</td>\n",
       "      <td>Другой</td>\n",
       "      <td>0.465320</td>\n",
       "      <td>0.265682</td>\n",
       "      <td>NaN</td>\n",
       "      <td>NaN</td>\n",
       "      <td>NaN</td>\n",
       "    </tr>\n",
       "    <tr>\n",
       "      <th>9</th>\n",
       "      <td>18</td>\n",
       "      <td>5400000.0</td>\n",
       "      <td>61.00</td>\n",
       "      <td>2017-02-26</td>\n",
       "      <td>3</td>\n",
       "      <td>2.50</td>\n",
       "      <td>9</td>\n",
       "      <td>43.60</td>\n",
       "      <td>7</td>\n",
       "      <td>0</td>\n",
       "      <td>False</td>\n",
       "      <td>False</td>\n",
       "      <td>6.50</td>\n",
       "      <td>2</td>\n",
       "      <td>Санкт-Петербург</td>\n",
       "      <td>50898.0</td>\n",
       "      <td>15008.0</td>\n",
       "      <td>0.0</td>\n",
       "      <td>0.0</td>\n",
       "      <td>0.0</td>\n",
       "      <td>0.0</td>\n",
       "      <td>289.0</td>\n",
       "      <td>88524.590164</td>\n",
       "      <td>6</td>\n",
       "      <td>2</td>\n",
       "      <td>2017</td>\n",
       "      <td>Другой</td>\n",
       "      <td>0.714754</td>\n",
       "      <td>0.106557</td>\n",
       "      <td>15.0</td>\n",
       "      <td>15.0</td>\n",
       "      <td>3.600000e+05</td>\n",
       "    </tr>\n",
       "  </tbody>\n",
       "</table>\n",
       "</div>"
      ],
      "text/plain": [
       "   total_images  last_price  total_area first_day_exposition  rooms  \\\n",
       "0            20  13000000.0      108.00           2019-03-07      3   \n",
       "1             7   3350000.0       40.40           2018-12-04      1   \n",
       "2            10   5196000.0       56.00           2015-08-20      2   \n",
       "3             0  64900000.0      159.00           2015-07-24      3   \n",
       "4             2  10000000.0      100.00           2018-06-19      2   \n",
       "5            10   2890000.0       30.40           2018-09-10      1   \n",
       "6             6   3700000.0       37.30           2017-11-02      1   \n",
       "7             5   7915000.0       71.60           2019-04-18      2   \n",
       "8            20   2900000.0       33.16           2018-05-23      1   \n",
       "9            18   5400000.0       61.00           2017-02-26      3   \n",
       "\n",
       "   ceiling_height  floors_total  living_area  floor is_apartment  studio  \\\n",
       "0            2.70            16        51.00      8            0   False   \n",
       "1            2.75            11        18.60      1            0   False   \n",
       "2            2.55             5        34.30      4            0   False   \n",
       "3            2.60            14        30.00      9            0   False   \n",
       "4            3.03            14        32.00     13            0   False   \n",
       "5            2.65            12        14.40      5            0   False   \n",
       "6            2.66            26        10.60      6            0   False   \n",
       "7            2.75            24        30.00     22            0   False   \n",
       "8            2.70            27        15.43     26            0   False   \n",
       "9            2.50             9        43.60      7            0   False   \n",
       "\n",
       "   open_plan  kitchen_area  balcony              locality_name  \\\n",
       "0      False         25.00        0            Санкт-Петербург   \n",
       "1      False         11.00        2             поселок Шушары   \n",
       "2      False          8.30        0            Санкт-Петербург   \n",
       "3      False          9.10        0            Санкт-Петербург   \n",
       "4      False         41.00        0            Санкт-Петербург   \n",
       "5      False          9.10        0  городской поселок Янино-1   \n",
       "6      False         14.40        1          поселок Парголово   \n",
       "7      False         18.90        2            Санкт-Петербург   \n",
       "8      False          8.81        0             поселок Мурино   \n",
       "9      False          6.50        2            Санкт-Петербург   \n",
       "\n",
       "   airports_nearest  cityCenters_nearest  parks_around3000  parks_nearest  \\\n",
       "0           18863.0              16028.0               1.0          482.0   \n",
       "1           12817.0              18603.0               0.0            0.0   \n",
       "2           21741.0              13933.0               1.0           90.0   \n",
       "3           28098.0               6800.0               2.0           84.0   \n",
       "4           31856.0               8098.0               2.0          112.0   \n",
       "5               0.0                  NaN               NaN            0.0   \n",
       "6           52996.0              19143.0               0.0            0.0   \n",
       "7           23982.0              11634.0               0.0            0.0   \n",
       "8               0.0                  NaN               NaN            0.0   \n",
       "9           50898.0              15008.0               0.0            0.0   \n",
       "\n",
       "   ponds_around3000  ponds_nearest  days_exposition     price_area  \\\n",
       "0               2.0          755.0              0.0  120370.370370   \n",
       "1               0.0            0.0             81.0   82920.792079   \n",
       "2               2.0          574.0            558.0   92785.714286   \n",
       "3               3.0          234.0            424.0  408176.100629   \n",
       "4               1.0           48.0            121.0  100000.000000   \n",
       "5               NaN            0.0             55.0   95065.789474   \n",
       "6               0.0            0.0            155.0   99195.710456   \n",
       "7               0.0            0.0              0.0  110544.692737   \n",
       "8               NaN            0.0            189.0   87454.764777   \n",
       "9               0.0            0.0            289.0   88524.590164   \n",
       "\n",
       "   day_weekday  day_month  day_year floor_category  living_total  \\\n",
       "0            3          3      2019         Другой      0.472222   \n",
       "1            1         12      2018         Первый      0.460396   \n",
       "2            3          8      2015         Другой      0.612500   \n",
       "3            4          7      2015         Другой      0.188679   \n",
       "4            1          6      2018         Другой      0.320000   \n",
       "5            0          9      2018         Другой      0.473684   \n",
       "6            3         11      2017         Другой      0.284182   \n",
       "7            3          4      2019         Другой      0.418994   \n",
       "8            2          5      2018         Другой      0.465320   \n",
       "9            6          2      2017         Другой      0.714754   \n",
       "\n",
       "   kitchen_total  cityCenters_nearest_interval  cityCenters      price_km  \n",
       "0       0.231481                          16.0         16.0  8.125000e+05  \n",
       "1       0.272277                          19.0         18.0  1.861111e+05  \n",
       "2       0.148214                          14.0         13.0  3.996923e+05  \n",
       "3       0.057233                           7.0          6.0  1.081667e+07  \n",
       "4       0.410000                           8.0          8.0  1.250000e+06  \n",
       "5       0.299342                           NaN          NaN           NaN  \n",
       "6       0.386059                          19.0         19.0  1.947368e+05  \n",
       "7       0.263966                          12.0         11.0  7.195455e+05  \n",
       "8       0.265682                           NaN          NaN           NaN  \n",
       "9       0.106557                          15.0         15.0  3.600000e+05  "
      ]
     },
     "execution_count": 57,
     "metadata": {},
     "output_type": "execute_result"
    }
   ],
   "source": [
    "df['price_km'] = df['last_price'] / df['cityCenters'].dropna().astype(int)\n",
    "df.head(10)"
   ]
  },
  {
   "cell_type": "markdown",
   "metadata": {},
   "source": [
    "Посчитаем среднюю цену для каждого километра."
   ]
  },
  {
   "cell_type": "code",
   "execution_count": 60,
   "metadata": {},
   "outputs": [
    {
     "data": {
      "image/png": "[encoded data removed]",
      "text/plain": [
       "<Figure size 720x432 with 1 Axes>"
      ]
     },
     "metadata": {
      "needs_background": "light"
     },
     "output_type": "display_data"
    }
   ],
   "source": [
    "import warnings\n",
    "warnings.filterwarnings(\"ignore\")\n",
    "df.query('cityCenters<40').boxplot('price_km', by='cityCenters', figsize=(10,6));"
   ]
  },
  {
   "cell_type": "markdown",
   "metadata": {},
   "source": [
    "Построим график зависимости средней цену километра от удалённости от центра."
   ]
  },
  {
   "cell_type": "code",
   "execution_count": 59,
   "metadata": {},
   "outputs": [
    {
     "name": "stderr",
     "output_type": "stream",
     "text": [
      "*c* argument looks like a single numeric RGB or RGBA sequence, which should be avoided as value-mapping will have precedence in case its length matches with *x* & *y*.  Please use the *color* keyword-argument or provide a 2-D array with a single row if you intend to specify the same RGB or RGBA value for all points.\n"
     ]
    },
    {
     "data": {
      "image/png": "[encoded data removed]",
      "text/plain": [
       "<Figure size 432x288 with 1 Axes>"
      ]
     },
     "metadata": {
      "needs_background": "light"
     },
     "output_type": "display_data"
    },
    {
     "name": "stderr",
     "output_type": "stream",
     "text": [
      "*c* argument looks like a single numeric RGB or RGBA sequence, which should be avoided as value-mapping will have precedence in case its length matches with *x* & *y*.  Please use the *color* keyword-argument or provide a 2-D array with a single row if you intend to specify the same RGB or RGBA value for all points.\n"
     ]
    },
    {
     "name": "stdout",
     "output_type": "stream",
     "text": [
      "count    23509.000000\n",
      "mean        60.231862\n",
      "std         34.909115\n",
      "min         12.000000\n",
      "25%         40.000000\n",
      "50%         52.000000\n",
      "75%         69.700000\n",
      "max        631.200000\n",
      "Name: total_area, dtype: float64\n"
     ]
    },
    {
     "data": {
      "image/png": "[encoded data removed]",
      "text/plain": [
       "<Figure size 432x288 with 1 Axes>"
      ]
     },
     "metadata": {
      "needs_background": "light"
     },
     "output_type": "display_data"
    },
    {
     "name": "stderr",
     "output_type": "stream",
     "text": [
      "*c* argument looks like a single numeric RGB or RGBA sequence, which should be avoided as value-mapping will have precedence in case its length matches with *x* & *y*.  Please use the *color* keyword-argument or provide a 2-D array with a single row if you intend to specify the same RGB or RGBA value for all points.\n"
     ]
    },
    {
     "name": "stdout",
     "output_type": "stream",
     "text": [
      "count    23509.000000\n",
      "mean         2.075546\n",
      "std          1.043177\n",
      "min          1.000000\n",
      "25%          1.000000\n",
      "50%          2.000000\n",
      "75%          3.000000\n",
      "max         10.000000\n",
      "Name: rooms, dtype: float64\n"
     ]
    },
    {
     "data": {
      "image/png": "[encoded data removed]",
      "text/plain": [
       "<Figure size 432x288 with 1 Axes>"
      ]
     },
     "metadata": {
      "needs_background": "light"
     },
     "output_type": "display_data"
    },
    {
     "name": "stdout",
     "output_type": "stream",
     "text": [
      "count    23509.000000\n",
      "mean         2.708497\n",
      "std          0.245220\n",
      "min          2.000000\n",
      "25%          2.550000\n",
      "50%          2.650000\n",
      "75%          2.750000\n",
      "max          8.300000\n",
      "Name: ceiling_height, dtype: float64\n"
     ]
    },
    {
     "name": "stderr",
     "output_type": "stream",
     "text": [
      "*c* argument looks like a single numeric RGB or RGBA sequence, which should be avoided as value-mapping will have precedence in case its length matches with *x* & *y*.  Please use the *color* keyword-argument or provide a 2-D array with a single row if you intend to specify the same RGB or RGBA value for all points.\n"
     ]
    },
    {
     "data": {
      "image/png": "[encoded data removed]",
      "text/plain": [
       "<Figure size 432x288 with 1 Axes>"
      ]
     },
     "metadata": {
      "needs_background": "light"
     },
     "output_type": "display_data"
    },
    {
     "name": "stderr",
     "output_type": "stream",
     "text": [
      "*c* argument looks like a single numeric RGB or RGBA sequence, which should be avoided as value-mapping will have precedence in case its length matches with *x* & *y*.  Please use the *color* keyword-argument or provide a 2-D array with a single row if you intend to specify the same RGB or RGBA value for all points.\n"
     ]
    },
    {
     "name": "stdout",
     "output_type": "stream",
     "text": [
      "count    23509.000000\n",
      "mean         5.877919\n",
      "std          4.864488\n",
      "min          1.000000\n",
      "25%          2.000000\n",
      "50%          4.000000\n",
      "75%          8.000000\n",
      "max         33.000000\n",
      "Name: floor, dtype: float64\n"
     ]
    },
    {
     "data": {
      "image/png": "[encoded data removed]",
      "text/plain": [
       "<Figure size 432x288 with 1 Axes>"
      ]
     },
     "metadata": {
      "needs_background": "light"
     },
     "output_type": "display_data"
    },
    {
     "name": "stdout",
     "output_type": "stream",
     "text": [
      "count    18035.000000\n",
      "mean        13.700194\n",
      "std          8.614802\n",
      "min          0.000000\n",
      "25%          9.000000\n",
      "50%         13.000000\n",
      "75%         16.000000\n",
      "max         65.000000\n",
      "Name: cityCenters, dtype: float64\n"
     ]
    },
    {
     "name": "stderr",
     "output_type": "stream",
     "text": [
      "*c* argument looks like a single numeric RGB or RGBA sequence, which should be avoided as value-mapping will have precedence in case its length matches with *x* & *y*.  Please use the *color* keyword-argument or provide a 2-D array with a single row if you intend to specify the same RGB or RGBA value for all points.\n"
     ]
    },
    {
     "data": {
      "image/png": "[encoded data removed]",
      "text/plain": [
       "<Figure size 432x288 with 1 Axes>"
      ]
     },
     "metadata": {
      "needs_background": "light"
     },
     "output_type": "display_data"
    },
    {
     "name": "stderr",
     "output_type": "stream",
     "text": [
      "*c* argument looks like a single numeric RGB or RGBA sequence, which should be avoided as value-mapping will have precedence in case its length matches with *x* & *y*.  Please use the *color* keyword-argument or provide a 2-D array with a single row if you intend to specify the same RGB or RGBA value for all points.\n"
     ]
    },
    {
     "name": "stdout",
     "output_type": "stream",
     "text": [
      "count    23509.000000\n",
      "mean         2.567740\n",
      "std          1.788162\n",
      "min          0.000000\n",
      "25%          1.000000\n",
      "50%          3.000000\n",
      "75%          4.000000\n",
      "max          6.000000\n",
      "Name: day_weekday, dtype: float64\n"
     ]
    },
    {
     "data": {
      "image/png": "[encoded data removed]",
      "text/plain": [
       "<Figure size 432x288 with 1 Axes>"
      ]
     },
     "metadata": {
      "needs_background": "light"
     },
     "output_type": "display_data"
    },
    {
     "name": "stdout",
     "output_type": "stream",
     "text": [
      "count    23509.000000\n",
      "mean         6.403207\n",
      "std          3.492980\n",
      "min          1.000000\n",
      "25%          3.000000\n",
      "50%          6.000000\n",
      "75%         10.000000\n",
      "max         12.000000\n",
      "Name: day_month, dtype: float64\n"
     ]
    },
    {
     "name": "stderr",
     "output_type": "stream",
     "text": [
      "*c* argument looks like a single numeric RGB or RGBA sequence, which should be avoided as value-mapping will have precedence in case its length matches with *x* & *y*.  Please use the *color* keyword-argument or provide a 2-D array with a single row if you intend to specify the same RGB or RGBA value for all points.\n"
     ]
    },
    {
     "data": {
      "image/png": "[encoded data removed]",
      "text/plain": [
       "<Figure size 432x288 with 1 Axes>"
      ]
     },
     "metadata": {
      "needs_background": "light"
     },
     "output_type": "display_data"
    },
    {
     "name": "stdout",
     "output_type": "stream",
     "text": [
      "count    23509.000000\n",
      "mean      2017.370284\n",
      "std          1.037367\n",
      "min       2014.000000\n",
      "25%       2017.000000\n",
      "50%       2017.000000\n",
      "75%       2018.000000\n",
      "max       2019.000000\n",
      "Name: day_year, dtype: float64\n"
     ]
    }
   ],
   "source": [
    "for column in ['total_area', 'rooms', 'ceiling_height', 'floor', 'cityCenters', 'day_weekday', 'day_month', 'day_year']:\n",
    "    df.query('cityCenters<10').plot(x=column, y='price_area', kind='scatter', alpha=0.15)\n",
    "    plt.show()\n",
    "    print(df[column].describe())"
   ]
  },
  {
   "cell_type": "markdown",
   "metadata": {},
   "source": [
    "Построим графики и вызовем таблицу describe для каждого параметра."
   ]
  },
  {
   "cell_type": "markdown",
   "metadata": {},
   "source": [
    "<div class=\"alert alert-block alert-info\">\n",
    "Выводы по данной категории:\n",
    "\n",
    "Подтверждается незначительное соответствие, чем больше площадь квартиры, тем меньше цена квадратного метра и квартиры в целом. Средняя площадь квартиры - 60м2.\n",
    "Цена квартир возрастает от 1 до 3 комнат, затем с увеличением кол-ва комнат от 4 - стоимость м2 снижается.\n",
    "Высота потолков является одним из основных факторов цены: высота от 2.7 до 3 м сильно влияет на цену, квартиры с высотой менее 2,7м стоят значительно ниже.\n",
    "Расстояние до центра напрямую влияет на стоимость квартиры, чем ближе к центру тем дороже. Средняя расстояние до центра - 13,7 км.\n",
    "Стоимость м2 постепенно расте до 7-8 этажа, после стоимость м2 снижается. Квартиры на первом и последнем этаже дешевле чем на других этажах. Также на первом этаже цена существенно ниже чем на последнем.\n",
    "Наибольшее значение цены м2 у объявлений, выставленных в середине недели, наименьшая - у объявлений выставленных в конце недели.\n",
    "Высокие цены у квартир, выставленных в апреле, августе и декабре, наименьшая - в мае\n",
    "Средняя цена растет с 2014 до 2017г"
   ]
  },
  {
   "cell_type": "markdown",
   "metadata": {},
   "source": [
    "<div class=\"alert alert-success\">\n",
    "<b>✔️ Комментарий ревьюера v2:</b>\n",
    "<br>Отличный анализ 👍\n",
    "</div>"
   ]
  },
  {
   "cell_type": "markdown",
   "metadata": {},
   "source": [
    "### Общий вывод"
   ]
  },
  {
   "cell_type": "markdown",
   "metadata": {},
   "source": [
    "<div class=\"alert alert-block alert-info\">\n",
    "\n",
    "Проведя исследовательскую работу по объявлениям о продаже квартир в Санкт-Петербурге и соседних населённых пунктах за несколько лет можно сделать следующие выводы:\n",
    "\n",
    "- Расстояние до центра напрямую влияет на стоимость квартиры, чем ближе к центру тем дороже. Средняя расстояние до центра - 13,7 км.\n",
    "- Высота потолков является одним из самых сильным фактором цены: высота от 2.7 до 3.0 прямо влияет на цену кв. метра. При высоте потолков ниже 2.7м цена кв. метра значительно уменьшается.\n",
    "- Первые и последние этажи во всех домах в среднем дешевле остальных этажей. Кроме того, цена квартиры на первом этаже существенно ниже чем на последнем.\n",
    "- При прочих равных цена квартир возрастает от 1 до 3 комнат, затем с увеличением кол-ва комнат от 4 - стоимость кв. метра снижается.\n",
    "В целом можно выделить незначительное соответствие, чем больше площадь квартиры, тем меньше цена кв. метра и квартиры в целом. Средняя площадь квартиры - 60м2.\n",
    "- Стоимость кв. метра постепенно растет до 7-8 этажа, после чего стоимость кв. метра снижается.\n",
    "- Парки и водоемы поблизости незначительно увеличивают стоимость кв. метра.\n",
    "- Самые высокие цены на квартиры, выставленных в апреле и августе, наименьшая - у объявлений выставленных в мае и июне.\n",
    "- Наибольшая средняя цена квартир выставленных на продажу в начале недели (понедельник, вторниа), наименьшая - у объявлений выставленных в конце недели (суббота, воскресенье). Средняя цена кв. метра растет до 2014, снижается до 2017г, а затем постепенно увеличивается до 2019г.\n",
    "- Обычно объявления размещаются на период до 3 месяцев, что можно считать достаточно быстрой продажей, но достаточно много объявлений \"висит\" более 7-8 месяцев. Среднее время продажи - 181 день."
   ]
  },
  {
   "cell_type": "markdown",
   "metadata": {},
   "source": [
    "<div class=\"alert alert-danger\">\n",
    "<b>❌ Комментарий ревьюера v1:</b> \n",
    "<br>После всех внесённых правок, обязательно перепроверь общий вывод и промежуточные выводы и поправь их по необходимости\n",
    "</div>"
   ]
  },
  {
   "cell_type": "markdown",
   "metadata": {},
   "source": [
    "<div class=\"alert alert-block alert-info\">\n",
    "Готово!"
   ]
  },
  {
   "cell_type": "markdown",
   "metadata": {},
   "source": [
    "<div class=\"alert alert-danger\">\n",
    "<b>❌ Итоговый комментарий ревьюера v1:</b> \n",
    "<br>Ты хорошо потрудился, большая часть работы сделана, но остаётся внести следующие правки:\n",
    "<br>- написать короткий вывод после первичного просмотра данных\n",
    "<br>- отбросить аномальные значения (площадь квартиры, стоимость, количество комнат)\n",
    "<br>- выполнить задание 2.3\n",
    "<br>- сделать отдельную колонку с расстоянием до центра в километрах\n",
    "<br>- внести вне необходимые правки в шаг 4\n",
    "<br>- поправить выводы там, где это необходимо\n",
    "</div>"
   ]
  },
  {
   "cell_type": "markdown",
   "metadata": {},
   "source": [
    "<div class=\"alert alert-danger\">\n",
    "<b>❌ Итоговый комментарий ревьюера v2:</b> \n",
    "<br>Остались две правки:\n",
    "<br>- изучить столбец с жилой площадью и площадью кухни\n",
    "<br>- поправить выводы там, где это необходимо\n",
    "</div>"
   ]
  },
  {
   "cell_type": "markdown",
   "metadata": {},
   "source": [
    "<div class=\"alert alert-success\">\n",
    "<b>✔️ Итоговый комментарий ревьюера v3:</b>\n",
    "<br>Все правки выполнены. Молодец!\n",
    "<br>Проделана огромная работа! У тебя подробные, понятные и логичные выводы, которые ты подкрепляешь фактами. Были использованы разные графики и способы, чтобы как можно более тщательно изучить данные и у тебя это получилось! \n",
    "<br>Я рад был поработать над проверкой твоей работы) В качестве дополнительного материала для изучения могу порекомендовать следующий ресурс:\n",
    "\n",
    "\thttps://www.python-graph-gallery.com/\n",
    "<br>В нем содержится большая библиотека графиков с готовым кодом, который можно использовать при работе.\n",
    "<br>Поздравляю со сдачей проекта и желаю удачи в дальнейшем обучении! 😉    \n",
    "</div>"
   ]
  },
  {
   "cell_type": "markdown",
   "metadata": {},
   "source": [
    "**Чек-лист готовности проекта**\n",
    "\n",
    "Поставьте 'x' в выполненных пунктах. Далее нажмите Shift+Enter."
   ]
  },
  {
   "cell_type": "markdown",
   "metadata": {},
   "source": [
    "- [x]  открыт файл\n",
    "- [x]  файлы изучены (выведены первые строки, метод `info()`, гистограммы и т.д.)\n",
    "- [x]  определены пропущенные значения\n",
    "- [x]  заполнены пропущенные значения там, где это возможно\n",
    "- [x]  есть пояснение, какие пропущенные значения обнаружены\n",
    "- [x]  изменены типы данных\n",
    "- [x]  есть пояснение, в каких столбцах изменены типы и почему\n",
    "- [x]  устранены неявные дубликаты в названиях населённых пунктов\n",
    "- [x]  устранены редкие и выбивающиеся значения (аномалии) во всех столбцах\n",
    "- [x]  посчитано и добавлено в таблицу: цена одного квадратного метра\n",
    "- [x]  посчитано и добавлено в таблицу: день публикации объявления (0 - понедельник, 1 - вторник и т.д.)\n",
    "- [x]  посчитано и добавлено в таблицу: месяц публикации объявления\n",
    "- [x]  посчитано и добавлено в таблицу: год публикации объявления\n",
    "- [x]  посчитано и добавлено в таблицу: тип этажа квартиры (значения — «первый», «последний», «другой»)\n",
    "- [x]  посчитано и добавлено в таблицу: расстояние в км до центра города\n",
    "- [x]  изучены и описаны следующие параметры:\n",
    "        - общая площадь;\n",
    "        - жилая площадь;\n",
    "        - площадь кухни;\n",
    "        - цена объекта;\n",
    "        - количество комнат;\n",
    "        - высота потолков;\n",
    "        - этаж квартиры;\n",
    "        - тип этажа квартиры («первый», «последний», «другой»);\n",
    "        - общее количество этажей в доме;\n",
    "        - расстояние до центра города в метрах;\n",
    "        - расстояние до ближайшего аэропорта;\n",
    "        - расстояние до ближайшего парка;\n",
    "        - день и месяц публикации объявления\n",
    "- [x]  построены гистограммы для каждого параметра\n",
    "- [x]  выполнено задание: \"Изучите, как быстро продавались квартиры (столбец days_exposition). Этот параметр показывает, сколько дней «висело» каждое объявление.\n",
    "    - Постройте гистограмму.\n",
    "    - Посчитайте среднее и медиану.\n",
    "    - В ячейке типа markdown опишите, сколько обычно занимает продажа. Какие продажи можно считать быстрыми, а какие — необычно долгими?\"\n",
    "- [x]  выполнено задание: \"Какие факторы больше всего влияют на общую (полную) стоимость объекта? Постройте графики, которые покажут зависимость цены от указанных ниже параметров. Для подготовки данных перед визуализацией вы можете использовать сводные таблицы.\"\n",
    "        - общей площади;\n",
    "        - жилой площади;\n",
    "        - площади кухни;\n",
    "        - количество комнат;\n",
    "        - типа этажа, на котором расположена квартира (первый, последний, другой);\n",
    "        - даты размещения (день недели, месяц, год);\n",
    "- [x]  выполнено задание: \"Посчитайте среднюю цену одного квадратного метра в 10 населённых пунктах с наибольшим числом объявлений. Выделите населённые пункты с самой высокой и низкой стоимостью квадратного метра. Эти данные можно найти по имени в столбце `locality_name`.\"\n",
    "- [x]  выполнено задание: \"Ранее вы посчитали расстояние до центра в километрах. Теперь выделите квартиры в Санкт-Петербурге с помощью столбца `locality_name` и вычислите среднюю цену каждого километра. Опишите, как стоимость объектов зависит от расстояния до центра города.\"\n",
    "- [x]  в каждом этапе есть промежуточные выводы\n",
    "- [x]  есть общий вывод"
   ]
  },
  {
   "cell_type": "code",
   "execution_count": null,
   "metadata": {},
   "outputs": [],
   "source": []
  }
 ],
 "metadata": {
  "ExecuteTimeLog": [
   {
    "duration": 567,
    "start_time": "2022-09-26T13:49:29.989Z"
   },
   {
    "duration": 91,
    "start_time": "2022-09-26T13:50:13.586Z"
   },
   {
    "duration": 153,
    "start_time": "2022-09-26T13:51:48.373Z"
   },
   {
    "duration": 112,
    "start_time": "2022-09-26T13:51:56.491Z"
   },
   {
    "duration": 104,
    "start_time": "2022-09-26T13:52:00.778Z"
   },
   {
    "duration": 91,
    "start_time": "2022-09-26T13:52:29.498Z"
   },
   {
    "duration": 525,
    "start_time": "2022-09-26T13:52:36.460Z"
   },
   {
    "duration": 107,
    "start_time": "2022-09-26T13:53:07.107Z"
   },
   {
    "duration": 720,
    "start_time": "2022-09-26T13:54:01.433Z"
   },
   {
    "duration": 98,
    "start_time": "2022-09-26T13:54:24.800Z"
   },
   {
    "duration": 13,
    "start_time": "2022-09-26T13:54:59.158Z"
   },
   {
    "duration": 84,
    "start_time": "2022-09-26T13:55:58.903Z"
   },
   {
    "duration": 92,
    "start_time": "2022-09-26T13:58:15.732Z"
   },
   {
    "duration": 13,
    "start_time": "2022-09-26T13:58:22.917Z"
   },
   {
    "duration": 103,
    "start_time": "2022-09-26T14:03:02.037Z"
   },
   {
    "duration": 8,
    "start_time": "2022-09-26T14:04:11.670Z"
   },
   {
    "duration": 75,
    "start_time": "2022-09-26T14:04:14.682Z"
   },
   {
    "duration": 90,
    "start_time": "2022-09-26T14:05:36.154Z"
   },
   {
    "duration": 43,
    "start_time": "2022-09-26T14:05:42.536Z"
   },
   {
    "duration": 19,
    "start_time": "2022-09-26T14:06:40.608Z"
   },
   {
    "duration": 2383,
    "start_time": "2022-09-26T14:30:36.293Z"
   },
   {
    "duration": 4,
    "start_time": "2022-09-26T14:58:49.059Z"
   },
   {
    "duration": 10,
    "start_time": "2022-09-26T15:34:48.225Z"
   },
   {
    "duration": 33,
    "start_time": "2022-09-26T15:35:08.222Z"
   },
   {
    "duration": 33,
    "start_time": "2022-09-26T15:35:57.286Z"
   },
   {
    "duration": 33,
    "start_time": "2022-09-26T15:36:22.591Z"
   },
   {
    "duration": 32,
    "start_time": "2022-09-26T15:36:36.159Z"
   },
   {
    "duration": 44,
    "start_time": "2022-09-26T15:36:48.510Z"
   },
   {
    "duration": 90,
    "start_time": "2022-09-26T15:38:31.289Z"
   },
   {
    "duration": 31,
    "start_time": "2022-09-26T16:12:12.907Z"
   },
   {
    "duration": 2120,
    "start_time": "2022-09-26T16:13:47.705Z"
   },
   {
    "duration": 9,
    "start_time": "2022-09-26T16:15:10.139Z"
   },
   {
    "duration": 50,
    "start_time": "2022-09-29T13:13:36.752Z"
   },
   {
    "duration": 570,
    "start_time": "2022-09-29T13:13:45.795Z"
   },
   {
    "duration": 46,
    "start_time": "2022-09-29T13:13:46.367Z"
   },
   {
    "duration": 16,
    "start_time": "2022-09-29T13:13:46.414Z"
   },
   {
    "duration": 4,
    "start_time": "2022-09-29T13:13:46.432Z"
   },
   {
    "duration": 33,
    "start_time": "2022-09-29T13:14:14.787Z"
   },
   {
    "duration": 5,
    "start_time": "2022-09-29T13:15:06.955Z"
   },
   {
    "duration": 36,
    "start_time": "2022-09-29T13:15:08.133Z"
   },
   {
    "duration": 11,
    "start_time": "2022-09-29T13:15:24.283Z"
   },
   {
    "duration": 2065,
    "start_time": "2022-09-29T13:16:04.497Z"
   },
   {
    "duration": 634,
    "start_time": "2022-09-29T13:16:06.564Z"
   },
   {
    "duration": 0,
    "start_time": "2022-09-29T13:16:07.200Z"
   },
   {
    "duration": 0,
    "start_time": "2022-09-29T13:16:07.202Z"
   },
   {
    "duration": 4,
    "start_time": "2022-09-29T13:16:07.519Z"
   },
   {
    "duration": 35,
    "start_time": "2022-09-29T13:16:09.337Z"
   },
   {
    "duration": 11,
    "start_time": "2022-09-29T13:16:10.053Z"
   },
   {
    "duration": 556,
    "start_time": "2022-09-29T13:16:27.584Z"
   },
   {
    "duration": 48,
    "start_time": "2022-09-29T13:16:28.142Z"
   },
   {
    "duration": 19,
    "start_time": "2022-09-29T13:16:28.192Z"
   },
   {
    "duration": 6,
    "start_time": "2022-09-29T13:16:28.213Z"
   },
   {
    "duration": 2320,
    "start_time": "2022-09-29T13:16:28.221Z"
   },
   {
    "duration": 689,
    "start_time": "2022-09-29T13:16:30.543Z"
   },
   {
    "duration": 0,
    "start_time": "2022-09-29T13:16:31.234Z"
   },
   {
    "duration": 0,
    "start_time": "2022-09-29T13:16:31.236Z"
   },
   {
    "duration": 0,
    "start_time": "2022-09-29T13:16:31.237Z"
   },
   {
    "duration": 0,
    "start_time": "2022-09-29T13:16:31.238Z"
   },
   {
    "duration": 0,
    "start_time": "2022-09-29T13:16:31.239Z"
   },
   {
    "duration": 723,
    "start_time": "2022-09-29T13:17:42.065Z"
   },
   {
    "duration": 8,
    "start_time": "2022-09-29T13:17:55.874Z"
   },
   {
    "duration": 32,
    "start_time": "2022-09-29T13:18:00.791Z"
   },
   {
    "duration": 9,
    "start_time": "2022-09-29T13:18:06.758Z"
   },
   {
    "duration": 4,
    "start_time": "2022-09-29T13:18:07.942Z"
   },
   {
    "duration": 36,
    "start_time": "2022-09-29T13:18:08.171Z"
   },
   {
    "duration": 12,
    "start_time": "2022-09-29T13:18:08.341Z"
   },
   {
    "duration": 32,
    "start_time": "2022-09-29T13:44:00.306Z"
   },
   {
    "duration": 607,
    "start_time": "2022-09-30T17:05:13.000Z"
   },
   {
    "duration": 48,
    "start_time": "2022-09-30T17:05:13.609Z"
   },
   {
    "duration": 15,
    "start_time": "2022-09-30T17:05:13.658Z"
   },
   {
    "duration": 6,
    "start_time": "2022-09-30T17:05:13.675Z"
   },
   {
    "duration": 2502,
    "start_time": "2022-09-30T17:05:13.682Z"
   },
   {
    "duration": 10,
    "start_time": "2022-09-30T17:05:16.186Z"
   },
   {
    "duration": 31,
    "start_time": "2022-09-30T17:05:16.198Z"
   },
   {
    "duration": 10,
    "start_time": "2022-09-30T17:05:16.232Z"
   },
   {
    "duration": 5,
    "start_time": "2022-09-30T17:05:16.244Z"
   },
   {
    "duration": 49,
    "start_time": "2022-09-30T17:05:16.251Z"
   },
   {
    "duration": 10,
    "start_time": "2022-09-30T17:05:16.302Z"
   },
   {
    "duration": 19,
    "start_time": "2022-09-30T17:05:16.314Z"
   },
   {
    "duration": 3,
    "start_time": "2022-09-30T17:05:16.336Z"
   },
   {
    "duration": 715,
    "start_time": "2022-10-02T17:28:14.120Z"
   },
   {
    "duration": 40,
    "start_time": "2022-10-02T17:28:14.837Z"
   },
   {
    "duration": 15,
    "start_time": "2022-10-02T17:28:14.879Z"
   },
   {
    "duration": 4,
    "start_time": "2022-10-02T17:28:14.897Z"
   },
   {
    "duration": 2174,
    "start_time": "2022-10-02T17:28:14.902Z"
   },
   {
    "duration": 11,
    "start_time": "2022-10-02T17:28:17.078Z"
   },
   {
    "duration": 24,
    "start_time": "2022-10-02T17:28:17.091Z"
   },
   {
    "duration": 10,
    "start_time": "2022-10-02T17:28:17.117Z"
   },
   {
    "duration": 8,
    "start_time": "2022-10-02T17:28:17.129Z"
   },
   {
    "duration": 23,
    "start_time": "2022-10-02T17:28:17.139Z"
   },
   {
    "duration": 8,
    "start_time": "2022-10-02T17:28:17.164Z"
   },
   {
    "duration": 19,
    "start_time": "2022-10-02T17:28:17.173Z"
   },
   {
    "duration": 4,
    "start_time": "2022-10-02T17:28:17.194Z"
   },
   {
    "duration": 181,
    "start_time": "2022-10-02T17:34:17.924Z"
   },
   {
    "duration": 86,
    "start_time": "2022-10-02T17:37:27.259Z"
   },
   {
    "duration": 8,
    "start_time": "2022-10-02T17:37:43.714Z"
   },
   {
    "duration": 9,
    "start_time": "2022-10-02T17:38:40.365Z"
   },
   {
    "duration": 21,
    "start_time": "2022-10-02T17:39:29.700Z"
   },
   {
    "duration": 33,
    "start_time": "2022-10-02T17:39:42.819Z"
   },
   {
    "duration": 13,
    "start_time": "2022-10-02T17:41:32.379Z"
   },
   {
    "duration": 18,
    "start_time": "2022-10-02T17:42:14.821Z"
   },
   {
    "duration": 3,
    "start_time": "2022-10-02T17:43:29.267Z"
   },
   {
    "duration": 3,
    "start_time": "2022-10-02T17:43:30.228Z"
   },
   {
    "duration": 11,
    "start_time": "2022-10-02T17:43:30.600Z"
   },
   {
    "duration": 12,
    "start_time": "2022-10-02T17:43:30.997Z"
   },
   {
    "duration": 8,
    "start_time": "2022-10-02T17:44:40.872Z"
   },
   {
    "duration": 7,
    "start_time": "2022-10-02T17:45:13.545Z"
   },
   {
    "duration": 8,
    "start_time": "2022-10-02T17:45:40.691Z"
   },
   {
    "duration": 148,
    "start_time": "2022-10-02T17:46:41.004Z"
   },
   {
    "duration": 185,
    "start_time": "2022-10-02T17:47:20.896Z"
   },
   {
    "duration": 1755,
    "start_time": "2022-10-02T17:47:26.675Z"
   },
   {
    "duration": 594,
    "start_time": "2022-10-02T17:47:38.421Z"
   },
   {
    "duration": 1955,
    "start_time": "2022-10-02T17:47:39.017Z"
   },
   {
    "duration": 6,
    "start_time": "2022-10-02T17:47:40.974Z"
   },
   {
    "duration": 5,
    "start_time": "2022-10-02T17:47:40.982Z"
   },
   {
    "duration": 7,
    "start_time": "2022-10-02T17:47:40.989Z"
   },
   {
    "duration": 15,
    "start_time": "2022-10-02T17:47:40.998Z"
   },
   {
    "duration": 13,
    "start_time": "2022-10-02T17:47:41.014Z"
   },
   {
    "duration": 9,
    "start_time": "2022-10-02T17:47:41.039Z"
   },
   {
    "duration": 4584,
    "start_time": "2022-10-02T17:47:41.050Z"
   },
   {
    "duration": 1563,
    "start_time": "2022-10-02T17:48:45.086Z"
   },
   {
    "duration": 1654,
    "start_time": "2022-10-02T17:48:55.478Z"
   },
   {
    "duration": 674,
    "start_time": "2022-10-02T17:58:20.722Z"
   },
   {
    "duration": 9,
    "start_time": "2022-10-02T17:58:53.288Z"
   },
   {
    "duration": 259,
    "start_time": "2022-10-02T18:04:44.036Z"
   },
   {
    "duration": 10,
    "start_time": "2022-10-02T18:05:14.929Z"
   },
   {
    "duration": 9,
    "start_time": "2022-10-02T18:05:43.101Z"
   },
   {
    "duration": 40,
    "start_time": "2022-10-02T18:06:48.204Z"
   },
   {
    "duration": 32,
    "start_time": "2022-10-02T18:07:36.410Z"
   },
   {
    "duration": 19,
    "start_time": "2022-10-02T18:08:11.165Z"
   },
   {
    "duration": 4,
    "start_time": "2022-10-02T18:08:30.968Z"
   },
   {
    "duration": 6,
    "start_time": "2022-10-02T18:08:49.821Z"
   },
   {
    "duration": 8,
    "start_time": "2022-10-02T18:09:08.819Z"
   },
   {
    "duration": 5,
    "start_time": "2022-10-02T18:12:11.835Z"
   },
   {
    "duration": 7,
    "start_time": "2022-10-02T18:12:12.128Z"
   },
   {
    "duration": 11,
    "start_time": "2022-10-02T18:12:12.313Z"
   },
   {
    "duration": 7,
    "start_time": "2022-10-02T18:12:12.510Z"
   },
   {
    "duration": 4,
    "start_time": "2022-10-02T18:12:12.847Z"
   },
   {
    "duration": 4,
    "start_time": "2022-10-02T18:12:13.677Z"
   },
   {
    "duration": 239,
    "start_time": "2022-10-02T18:12:39.206Z"
   },
   {
    "duration": 1170,
    "start_time": "2022-10-02T18:29:42.398Z"
   },
   {
    "duration": 0,
    "start_time": "2022-10-02T18:29:43.571Z"
   },
   {
    "duration": 0,
    "start_time": "2022-10-02T18:29:43.572Z"
   },
   {
    "duration": 0,
    "start_time": "2022-10-02T18:29:43.572Z"
   },
   {
    "duration": 0,
    "start_time": "2022-10-02T18:29:43.573Z"
   },
   {
    "duration": 0,
    "start_time": "2022-10-02T18:29:43.574Z"
   },
   {
    "duration": 0,
    "start_time": "2022-10-02T18:29:43.575Z"
   },
   {
    "duration": 0,
    "start_time": "2022-10-02T18:29:43.576Z"
   },
   {
    "duration": 0,
    "start_time": "2022-10-02T18:29:43.577Z"
   },
   {
    "duration": 0,
    "start_time": "2022-10-02T18:29:43.577Z"
   },
   {
    "duration": 0,
    "start_time": "2022-10-02T18:29:43.579Z"
   },
   {
    "duration": 0,
    "start_time": "2022-10-02T18:29:43.579Z"
   },
   {
    "duration": 0,
    "start_time": "2022-10-02T18:29:43.580Z"
   },
   {
    "duration": 0,
    "start_time": "2022-10-02T18:29:43.581Z"
   },
   {
    "duration": 0,
    "start_time": "2022-10-02T18:29:43.582Z"
   },
   {
    "duration": 0,
    "start_time": "2022-10-02T18:29:43.583Z"
   },
   {
    "duration": 0,
    "start_time": "2022-10-02T18:29:43.585Z"
   },
   {
    "duration": 0,
    "start_time": "2022-10-02T18:29:43.586Z"
   },
   {
    "duration": 0,
    "start_time": "2022-10-02T18:29:43.586Z"
   },
   {
    "duration": 0,
    "start_time": "2022-10-02T18:29:43.587Z"
   },
   {
    "duration": 0,
    "start_time": "2022-10-02T18:29:43.589Z"
   },
   {
    "duration": 0,
    "start_time": "2022-10-02T18:29:43.590Z"
   },
   {
    "duration": 0,
    "start_time": "2022-10-02T18:29:43.591Z"
   },
   {
    "duration": 0,
    "start_time": "2022-10-02T18:29:43.592Z"
   },
   {
    "duration": 0,
    "start_time": "2022-10-02T18:29:43.592Z"
   },
   {
    "duration": 0,
    "start_time": "2022-10-02T18:29:43.593Z"
   },
   {
    "duration": 0,
    "start_time": "2022-10-02T18:29:43.594Z"
   },
   {
    "duration": 0,
    "start_time": "2022-10-02T18:29:43.595Z"
   },
   {
    "duration": 0,
    "start_time": "2022-10-02T18:29:43.596Z"
   },
   {
    "duration": 0,
    "start_time": "2022-10-02T18:29:43.597Z"
   },
   {
    "duration": 0,
    "start_time": "2022-10-02T18:29:43.598Z"
   },
   {
    "duration": 0,
    "start_time": "2022-10-02T18:29:43.638Z"
   },
   {
    "duration": 0,
    "start_time": "2022-10-02T18:29:43.639Z"
   },
   {
    "duration": 0,
    "start_time": "2022-10-02T18:29:43.640Z"
   },
   {
    "duration": 0,
    "start_time": "2022-10-02T18:29:43.641Z"
   },
   {
    "duration": 0,
    "start_time": "2022-10-02T18:29:43.642Z"
   },
   {
    "duration": 0,
    "start_time": "2022-10-02T18:29:43.643Z"
   },
   {
    "duration": 196,
    "start_time": "2022-10-02T18:31:02.384Z"
   },
   {
    "duration": 1323,
    "start_time": "2022-10-02T18:31:13.236Z"
   },
   {
    "duration": 2198,
    "start_time": "2022-10-02T18:31:14.561Z"
   },
   {
    "duration": 8,
    "start_time": "2022-10-02T18:31:16.761Z"
   },
   {
    "duration": 11,
    "start_time": "2022-10-02T18:31:16.771Z"
   },
   {
    "duration": 39,
    "start_time": "2022-10-02T18:31:16.784Z"
   },
   {
    "duration": 22,
    "start_time": "2022-10-02T18:31:16.824Z"
   },
   {
    "duration": 16,
    "start_time": "2022-10-02T18:31:16.848Z"
   },
   {
    "duration": 3,
    "start_time": "2022-10-02T18:31:16.866Z"
   },
   {
    "duration": 8,
    "start_time": "2022-10-02T18:31:16.871Z"
   },
   {
    "duration": 9,
    "start_time": "2022-10-02T18:31:16.880Z"
   },
   {
    "duration": 3,
    "start_time": "2022-10-02T18:31:16.891Z"
   },
   {
    "duration": 7,
    "start_time": "2022-10-02T18:31:16.896Z"
   },
   {
    "duration": 35,
    "start_time": "2022-10-02T18:31:16.904Z"
   },
   {
    "duration": 7,
    "start_time": "2022-10-02T18:31:16.941Z"
   },
   {
    "duration": 3,
    "start_time": "2022-10-02T18:31:16.949Z"
   },
   {
    "duration": 4,
    "start_time": "2022-10-02T18:31:16.954Z"
   },
   {
    "duration": 341,
    "start_time": "2022-10-02T18:31:16.960Z"
   },
   {
    "duration": 306,
    "start_time": "2022-10-02T18:31:17.303Z"
   },
   {
    "duration": 276,
    "start_time": "2022-10-02T18:31:17.611Z"
   },
   {
    "duration": 233,
    "start_time": "2022-10-02T18:31:17.889Z"
   },
   {
    "duration": 246,
    "start_time": "2022-10-02T18:31:18.124Z"
   },
   {
    "duration": 10,
    "start_time": "2022-10-02T18:31:18.372Z"
   },
   {
    "duration": 21,
    "start_time": "2022-10-02T18:31:18.384Z"
   },
   {
    "duration": 56,
    "start_time": "2022-10-02T18:31:18.406Z"
   },
   {
    "duration": 211,
    "start_time": "2022-10-02T18:31:18.464Z"
   },
   {
    "duration": 263,
    "start_time": "2022-10-02T18:31:18.677Z"
   },
   {
    "duration": 179,
    "start_time": "2022-10-02T18:31:18.942Z"
   },
   {
    "duration": 159,
    "start_time": "2022-10-02T18:31:19.123Z"
   },
   {
    "duration": 167,
    "start_time": "2022-10-02T18:31:19.284Z"
   },
   {
    "duration": 183,
    "start_time": "2022-10-02T18:31:19.452Z"
   },
   {
    "duration": 176,
    "start_time": "2022-10-02T18:31:19.639Z"
   },
   {
    "duration": 11,
    "start_time": "2022-10-02T18:31:19.816Z"
   },
   {
    "duration": 197,
    "start_time": "2022-10-02T18:31:19.838Z"
   },
   {
    "duration": 6,
    "start_time": "2022-10-02T18:31:20.038Z"
   },
   {
    "duration": 29,
    "start_time": "2022-10-02T18:31:20.045Z"
   },
   {
    "duration": 629,
    "start_time": "2022-10-02T18:31:20.075Z"
   },
   {
    "duration": 1524,
    "start_time": "2022-10-02T18:31:20.706Z"
   },
   {
    "duration": 1233,
    "start_time": "2022-10-02T19:11:42.587Z"
   },
   {
    "duration": 2093,
    "start_time": "2022-10-02T19:11:43.822Z"
   },
   {
    "duration": 8,
    "start_time": "2022-10-02T19:11:45.917Z"
   },
   {
    "duration": 13,
    "start_time": "2022-10-02T19:11:45.927Z"
   },
   {
    "duration": 40,
    "start_time": "2022-10-02T19:11:45.941Z"
   },
   {
    "duration": 22,
    "start_time": "2022-10-02T19:11:45.982Z"
   },
   {
    "duration": 35,
    "start_time": "2022-10-02T19:11:46.005Z"
   },
   {
    "duration": 3,
    "start_time": "2022-10-02T19:11:46.041Z"
   },
   {
    "duration": 7,
    "start_time": "2022-10-02T19:11:46.046Z"
   },
   {
    "duration": 9,
    "start_time": "2022-10-02T19:11:46.055Z"
   },
   {
    "duration": 4,
    "start_time": "2022-10-02T19:11:46.065Z"
   },
   {
    "duration": 9,
    "start_time": "2022-10-02T19:11:46.070Z"
   },
   {
    "duration": 12,
    "start_time": "2022-10-02T19:11:46.080Z"
   },
   {
    "duration": 6,
    "start_time": "2022-10-02T19:11:46.095Z"
   },
   {
    "duration": 5,
    "start_time": "2022-10-02T19:11:46.102Z"
   },
   {
    "duration": 32,
    "start_time": "2022-10-02T19:11:46.108Z"
   },
   {
    "duration": 243,
    "start_time": "2022-10-02T19:11:46.141Z"
   },
   {
    "duration": 272,
    "start_time": "2022-10-02T19:11:46.385Z"
   },
   {
    "duration": 270,
    "start_time": "2022-10-02T19:11:46.659Z"
   },
   {
    "duration": 223,
    "start_time": "2022-10-02T19:11:46.930Z"
   },
   {
    "duration": 273,
    "start_time": "2022-10-02T19:11:47.154Z"
   },
   {
    "duration": 21,
    "start_time": "2022-10-02T19:11:47.429Z"
   },
   {
    "duration": 29,
    "start_time": "2022-10-02T19:11:47.452Z"
   },
   {
    "duration": 71,
    "start_time": "2022-10-02T19:11:47.483Z"
   },
   {
    "duration": 168,
    "start_time": "2022-10-02T19:11:47.556Z"
   },
   {
    "duration": 256,
    "start_time": "2022-10-02T19:11:47.726Z"
   },
   {
    "duration": 178,
    "start_time": "2022-10-02T19:11:47.983Z"
   },
   {
    "duration": 156,
    "start_time": "2022-10-02T19:11:48.162Z"
   },
   {
    "duration": 165,
    "start_time": "2022-10-02T19:11:48.320Z"
   },
   {
    "duration": 194,
    "start_time": "2022-10-02T19:11:48.487Z"
   },
   {
    "duration": 172,
    "start_time": "2022-10-02T19:11:48.683Z"
   },
   {
    "duration": 7,
    "start_time": "2022-10-02T19:11:48.856Z"
   },
   {
    "duration": 198,
    "start_time": "2022-10-02T19:11:48.865Z"
   },
   {
    "duration": 6,
    "start_time": "2022-10-02T19:11:49.064Z"
   },
   {
    "duration": 62,
    "start_time": "2022-10-02T19:11:49.071Z"
   },
   {
    "duration": 653,
    "start_time": "2022-10-02T19:11:49.134Z"
   },
   {
    "duration": 1513,
    "start_time": "2022-10-02T19:11:49.789Z"
   },
   {
    "duration": 2022,
    "start_time": "2022-10-03T04:30:18.940Z"
   },
   {
    "duration": 2240,
    "start_time": "2022-10-03T04:30:20.965Z"
   },
   {
    "duration": 8,
    "start_time": "2022-10-03T04:30:23.206Z"
   },
   {
    "duration": 12,
    "start_time": "2022-10-03T04:30:23.216Z"
   },
   {
    "duration": 40,
    "start_time": "2022-10-03T04:30:23.230Z"
   },
   {
    "duration": 22,
    "start_time": "2022-10-03T04:30:23.272Z"
   },
   {
    "duration": 19,
    "start_time": "2022-10-03T04:30:23.295Z"
   },
   {
    "duration": 3,
    "start_time": "2022-10-03T04:30:23.333Z"
   },
   {
    "duration": 7,
    "start_time": "2022-10-03T04:30:23.338Z"
   },
   {
    "duration": 10,
    "start_time": "2022-10-03T04:30:23.346Z"
   },
   {
    "duration": 4,
    "start_time": "2022-10-03T04:30:23.357Z"
   },
   {
    "duration": 9,
    "start_time": "2022-10-03T04:30:23.362Z"
   },
   {
    "duration": 13,
    "start_time": "2022-10-03T04:30:23.373Z"
   },
   {
    "duration": 7,
    "start_time": "2022-10-03T04:30:23.389Z"
   },
   {
    "duration": 3,
    "start_time": "2022-10-03T04:30:23.397Z"
   },
   {
    "duration": 31,
    "start_time": "2022-10-03T04:30:23.402Z"
   },
   {
    "duration": 248,
    "start_time": "2022-10-03T04:30:23.434Z"
   },
   {
    "duration": 278,
    "start_time": "2022-10-03T04:30:23.683Z"
   },
   {
    "duration": 283,
    "start_time": "2022-10-03T04:30:23.963Z"
   },
   {
    "duration": 238,
    "start_time": "2022-10-03T04:30:24.247Z"
   },
   {
    "duration": 241,
    "start_time": "2022-10-03T04:30:24.487Z"
   },
   {
    "duration": 11,
    "start_time": "2022-10-03T04:30:24.730Z"
   },
   {
    "duration": 11,
    "start_time": "2022-10-03T04:30:24.742Z"
   },
   {
    "duration": 45,
    "start_time": "2022-10-03T04:30:24.754Z"
   },
   {
    "duration": 308,
    "start_time": "2022-10-03T04:30:24.800Z"
   },
   {
    "duration": 257,
    "start_time": "2022-10-03T04:30:25.110Z"
   },
   {
    "duration": 310,
    "start_time": "2022-10-03T04:30:25.368Z"
   },
   {
    "duration": 312,
    "start_time": "2022-10-03T04:30:25.733Z"
   },
   {
    "duration": 327,
    "start_time": "2022-10-03T04:30:26.046Z"
   },
   {
    "duration": 265,
    "start_time": "2022-10-03T04:30:26.376Z"
   },
   {
    "duration": 210,
    "start_time": "2022-10-03T04:30:26.642Z"
   },
   {
    "duration": 8,
    "start_time": "2022-10-03T04:30:26.853Z"
   },
   {
    "duration": 578,
    "start_time": "2022-10-03T04:30:26.862Z"
   },
   {
    "duration": 7,
    "start_time": "2022-10-03T04:30:27.441Z"
   },
   {
    "duration": 90,
    "start_time": "2022-10-03T04:30:27.449Z"
   },
   {
    "duration": 1694,
    "start_time": "2022-10-03T04:30:27.541Z"
   },
   {
    "duration": 3025,
    "start_time": "2022-10-03T04:30:29.236Z"
   },
   {
    "duration": 91,
    "start_time": "2022-10-03T04:33:07.704Z"
   },
   {
    "duration": 15,
    "start_time": "2022-10-03T04:33:13.036Z"
   },
   {
    "duration": 89,
    "start_time": "2022-10-03T04:33:17.136Z"
   },
   {
    "duration": 50,
    "start_time": "2022-10-03T18:58:12.561Z"
   },
   {
    "duration": 1796,
    "start_time": "2022-10-03T18:58:29.766Z"
   },
   {
    "duration": 137,
    "start_time": "2022-10-03T18:58:31.565Z"
   },
   {
    "duration": 0,
    "start_time": "2022-10-03T18:58:31.705Z"
   },
   {
    "duration": 0,
    "start_time": "2022-10-03T18:58:31.707Z"
   },
   {
    "duration": 0,
    "start_time": "2022-10-03T18:58:31.708Z"
   },
   {
    "duration": 0,
    "start_time": "2022-10-03T18:58:31.709Z"
   },
   {
    "duration": 0,
    "start_time": "2022-10-03T18:58:31.710Z"
   },
   {
    "duration": 0,
    "start_time": "2022-10-03T18:58:31.711Z"
   },
   {
    "duration": 0,
    "start_time": "2022-10-03T18:58:31.713Z"
   },
   {
    "duration": 0,
    "start_time": "2022-10-03T18:58:31.714Z"
   },
   {
    "duration": 0,
    "start_time": "2022-10-03T18:58:31.716Z"
   },
   {
    "duration": 0,
    "start_time": "2022-10-03T18:58:31.717Z"
   },
   {
    "duration": 0,
    "start_time": "2022-10-03T18:58:31.718Z"
   },
   {
    "duration": 0,
    "start_time": "2022-10-03T18:58:31.719Z"
   },
   {
    "duration": 0,
    "start_time": "2022-10-03T18:58:31.720Z"
   },
   {
    "duration": 0,
    "start_time": "2022-10-03T18:58:31.721Z"
   },
   {
    "duration": 0,
    "start_time": "2022-10-03T18:58:31.723Z"
   },
   {
    "duration": 0,
    "start_time": "2022-10-03T18:58:31.757Z"
   },
   {
    "duration": 0,
    "start_time": "2022-10-03T18:58:31.758Z"
   },
   {
    "duration": 0,
    "start_time": "2022-10-03T18:58:31.761Z"
   },
   {
    "duration": 0,
    "start_time": "2022-10-03T18:58:31.762Z"
   },
   {
    "duration": 0,
    "start_time": "2022-10-03T18:58:31.765Z"
   },
   {
    "duration": 0,
    "start_time": "2022-10-03T18:58:31.766Z"
   },
   {
    "duration": 0,
    "start_time": "2022-10-03T18:58:31.768Z"
   },
   {
    "duration": 0,
    "start_time": "2022-10-03T18:58:31.769Z"
   },
   {
    "duration": 0,
    "start_time": "2022-10-03T18:58:31.772Z"
   },
   {
    "duration": 0,
    "start_time": "2022-10-03T18:58:31.774Z"
   },
   {
    "duration": 0,
    "start_time": "2022-10-03T18:58:31.775Z"
   },
   {
    "duration": 0,
    "start_time": "2022-10-03T18:58:31.776Z"
   },
   {
    "duration": 0,
    "start_time": "2022-10-03T18:58:31.777Z"
   },
   {
    "duration": 0,
    "start_time": "2022-10-03T18:58:31.777Z"
   },
   {
    "duration": 0,
    "start_time": "2022-10-03T18:58:31.778Z"
   },
   {
    "duration": 0,
    "start_time": "2022-10-03T18:58:31.779Z"
   },
   {
    "duration": 0,
    "start_time": "2022-10-03T18:58:31.780Z"
   },
   {
    "duration": 0,
    "start_time": "2022-10-03T18:58:31.784Z"
   },
   {
    "duration": 0,
    "start_time": "2022-10-03T18:58:31.785Z"
   },
   {
    "duration": 0,
    "start_time": "2022-10-03T18:58:31.786Z"
   },
   {
    "duration": 0,
    "start_time": "2022-10-03T18:58:31.787Z"
   },
   {
    "duration": 19,
    "start_time": "2022-10-03T18:58:51.796Z"
   },
   {
    "duration": 25,
    "start_time": "2022-10-03T18:59:17.536Z"
   },
   {
    "duration": 2446,
    "start_time": "2022-10-03T19:00:37.087Z"
   },
   {
    "duration": 16,
    "start_time": "2022-10-03T19:15:37.172Z"
   },
   {
    "duration": 1511,
    "start_time": "2022-10-03T20:00:03.530Z"
   },
   {
    "duration": 75,
    "start_time": "2022-10-03T20:00:05.043Z"
   },
   {
    "duration": 0,
    "start_time": "2022-10-03T20:00:05.121Z"
   },
   {
    "duration": 0,
    "start_time": "2022-10-03T20:00:05.122Z"
   },
   {
    "duration": 0,
    "start_time": "2022-10-03T20:00:05.123Z"
   },
   {
    "duration": 0,
    "start_time": "2022-10-03T20:00:05.124Z"
   },
   {
    "duration": 0,
    "start_time": "2022-10-03T20:00:05.125Z"
   },
   {
    "duration": 0,
    "start_time": "2022-10-03T20:00:05.127Z"
   },
   {
    "duration": 0,
    "start_time": "2022-10-03T20:00:05.128Z"
   },
   {
    "duration": 0,
    "start_time": "2022-10-03T20:00:05.128Z"
   },
   {
    "duration": 0,
    "start_time": "2022-10-03T20:00:05.129Z"
   },
   {
    "duration": 0,
    "start_time": "2022-10-03T20:00:05.130Z"
   },
   {
    "duration": 0,
    "start_time": "2022-10-03T20:00:05.131Z"
   },
   {
    "duration": 0,
    "start_time": "2022-10-03T20:00:05.132Z"
   },
   {
    "duration": 0,
    "start_time": "2022-10-03T20:00:05.133Z"
   },
   {
    "duration": 0,
    "start_time": "2022-10-03T20:00:05.134Z"
   },
   {
    "duration": 0,
    "start_time": "2022-10-03T20:00:05.136Z"
   },
   {
    "duration": 0,
    "start_time": "2022-10-03T20:00:05.137Z"
   },
   {
    "duration": 0,
    "start_time": "2022-10-03T20:00:05.138Z"
   },
   {
    "duration": 0,
    "start_time": "2022-10-03T20:00:05.139Z"
   },
   {
    "duration": 0,
    "start_time": "2022-10-03T20:00:05.140Z"
   },
   {
    "duration": 0,
    "start_time": "2022-10-03T20:00:05.141Z"
   },
   {
    "duration": 0,
    "start_time": "2022-10-03T20:00:05.142Z"
   },
   {
    "duration": 0,
    "start_time": "2022-10-03T20:00:05.143Z"
   },
   {
    "duration": 0,
    "start_time": "2022-10-03T20:00:05.144Z"
   },
   {
    "duration": 0,
    "start_time": "2022-10-03T20:00:05.145Z"
   },
   {
    "duration": 0,
    "start_time": "2022-10-03T20:00:05.146Z"
   },
   {
    "duration": 0,
    "start_time": "2022-10-03T20:00:05.147Z"
   },
   {
    "duration": 0,
    "start_time": "2022-10-03T20:00:05.148Z"
   },
   {
    "duration": 0,
    "start_time": "2022-10-03T20:00:05.149Z"
   },
   {
    "duration": 0,
    "start_time": "2022-10-03T20:00:05.150Z"
   },
   {
    "duration": 0,
    "start_time": "2022-10-03T20:00:05.152Z"
   },
   {
    "duration": 0,
    "start_time": "2022-10-03T20:00:05.153Z"
   },
   {
    "duration": 0,
    "start_time": "2022-10-03T20:00:05.166Z"
   },
   {
    "duration": 0,
    "start_time": "2022-10-03T20:00:05.167Z"
   },
   {
    "duration": 0,
    "start_time": "2022-10-03T20:00:05.167Z"
   },
   {
    "duration": 0,
    "start_time": "2022-10-03T20:00:05.168Z"
   },
   {
    "duration": 0,
    "start_time": "2022-10-03T20:00:05.168Z"
   },
   {
    "duration": 0,
    "start_time": "2022-10-03T20:00:05.169Z"
   },
   {
    "duration": 0,
    "start_time": "2022-10-03T20:00:05.170Z"
   },
   {
    "duration": 30,
    "start_time": "2022-10-03T20:00:48.534Z"
   },
   {
    "duration": 1525,
    "start_time": "2022-10-03T20:00:56.313Z"
   },
   {
    "duration": 35,
    "start_time": "2022-10-03T20:00:57.841Z"
   },
   {
    "duration": 2827,
    "start_time": "2022-10-03T20:00:57.878Z"
   },
   {
    "duration": 9,
    "start_time": "2022-10-03T20:01:00.708Z"
   },
   {
    "duration": 26,
    "start_time": "2022-10-03T20:01:00.719Z"
   },
   {
    "duration": 75,
    "start_time": "2022-10-03T20:01:00.747Z"
   },
   {
    "duration": 27,
    "start_time": "2022-10-03T20:01:00.824Z"
   },
   {
    "duration": 37,
    "start_time": "2022-10-03T20:01:00.853Z"
   },
   {
    "duration": 19,
    "start_time": "2022-10-03T20:01:00.892Z"
   },
   {
    "duration": 33,
    "start_time": "2022-10-03T20:01:00.914Z"
   },
   {
    "duration": 47,
    "start_time": "2022-10-03T20:01:00.949Z"
   },
   {
    "duration": 28,
    "start_time": "2022-10-03T20:01:00.998Z"
   },
   {
    "duration": 47,
    "start_time": "2022-10-03T20:01:01.028Z"
   },
   {
    "duration": 66,
    "start_time": "2022-10-03T20:01:01.077Z"
   },
   {
    "duration": 147,
    "start_time": "2022-10-03T20:01:01.145Z"
   },
   {
    "duration": 37,
    "start_time": "2022-10-03T20:01:01.294Z"
   },
   {
    "duration": 24,
    "start_time": "2022-10-03T20:01:01.333Z"
   },
   {
    "duration": 72,
    "start_time": "2022-10-03T20:01:01.367Z"
   },
   {
    "duration": 54,
    "start_time": "2022-10-03T20:01:01.442Z"
   },
   {
    "duration": 424,
    "start_time": "2022-10-03T20:01:01.498Z"
   },
   {
    "duration": 371,
    "start_time": "2022-10-03T20:01:01.924Z"
   },
   {
    "duration": 390,
    "start_time": "2022-10-03T20:01:02.297Z"
   },
   {
    "duration": 288,
    "start_time": "2022-10-03T20:01:02.689Z"
   },
   {
    "duration": 288,
    "start_time": "2022-10-03T20:01:02.979Z"
   },
   {
    "duration": 15,
    "start_time": "2022-10-03T20:01:03.271Z"
   },
   {
    "duration": 18,
    "start_time": "2022-10-03T20:01:03.288Z"
   },
   {
    "duration": 74,
    "start_time": "2022-10-03T20:01:03.307Z"
   },
   {
    "duration": 221,
    "start_time": "2022-10-03T20:01:03.385Z"
   },
   {
    "duration": 381,
    "start_time": "2022-10-03T20:01:03.608Z"
   },
   {
    "duration": 226,
    "start_time": "2022-10-03T20:01:03.991Z"
   },
   {
    "duration": 211,
    "start_time": "2022-10-03T20:01:04.219Z"
   },
   {
    "duration": 243,
    "start_time": "2022-10-03T20:01:04.432Z"
   },
   {
    "duration": 213,
    "start_time": "2022-10-03T20:01:04.677Z"
   },
   {
    "duration": 221,
    "start_time": "2022-10-03T20:01:04.892Z"
   },
   {
    "duration": 9,
    "start_time": "2022-10-03T20:01:05.115Z"
   },
   {
    "duration": 273,
    "start_time": "2022-10-03T20:01:05.126Z"
   },
   {
    "duration": 7,
    "start_time": "2022-10-03T20:01:05.401Z"
   },
   {
    "duration": 50,
    "start_time": "2022-10-03T20:01:05.410Z"
   },
   {
    "duration": 832,
    "start_time": "2022-10-03T20:01:05.465Z"
   },
   {
    "duration": 1947,
    "start_time": "2022-10-03T20:01:06.299Z"
   },
   {
    "duration": 35,
    "start_time": "2022-10-03T20:20:02.212Z"
   },
   {
    "duration": 45,
    "start_time": "2022-10-04T16:20:20.942Z"
   },
   {
    "duration": 2021,
    "start_time": "2022-10-04T16:20:31.203Z"
   },
   {
    "duration": 20,
    "start_time": "2022-10-04T16:20:33.226Z"
   },
   {
    "duration": 2335,
    "start_time": "2022-10-04T16:20:33.248Z"
   },
   {
    "duration": 8,
    "start_time": "2022-10-04T16:20:35.586Z"
   },
   {
    "duration": 12,
    "start_time": "2022-10-04T16:20:35.595Z"
   },
   {
    "duration": 41,
    "start_time": "2022-10-04T16:20:35.608Z"
   },
   {
    "duration": 25,
    "start_time": "2022-10-04T16:20:35.651Z"
   },
   {
    "duration": 39,
    "start_time": "2022-10-04T16:20:35.678Z"
   },
   {
    "duration": 4,
    "start_time": "2022-10-04T16:20:35.719Z"
   },
   {
    "duration": 9,
    "start_time": "2022-10-04T16:20:35.727Z"
   },
   {
    "duration": 9,
    "start_time": "2022-10-04T16:20:35.738Z"
   },
   {
    "duration": 11,
    "start_time": "2022-10-04T16:20:35.748Z"
   },
   {
    "duration": 40,
    "start_time": "2022-10-04T16:20:35.761Z"
   },
   {
    "duration": 7,
    "start_time": "2022-10-04T16:20:35.804Z"
   },
   {
    "duration": 11,
    "start_time": "2022-10-04T16:20:35.813Z"
   },
   {
    "duration": 17,
    "start_time": "2022-10-04T16:20:35.825Z"
   },
   {
    "duration": 11,
    "start_time": "2022-10-04T16:20:35.844Z"
   },
   {
    "duration": 4,
    "start_time": "2022-10-04T16:20:35.857Z"
   },
   {
    "duration": 12,
    "start_time": "2022-10-04T16:20:35.862Z"
   },
   {
    "duration": 47,
    "start_time": "2022-10-04T16:20:35.876Z"
   },
   {
    "duration": 278,
    "start_time": "2022-10-04T16:20:35.925Z"
   },
   {
    "duration": 286,
    "start_time": "2022-10-04T16:20:36.205Z"
   },
   {
    "duration": 289,
    "start_time": "2022-10-04T16:20:36.493Z"
   },
   {
    "duration": 224,
    "start_time": "2022-10-04T16:20:36.784Z"
   },
   {
    "duration": 236,
    "start_time": "2022-10-04T16:20:37.009Z"
   },
   {
    "duration": 10,
    "start_time": "2022-10-04T16:20:37.247Z"
   },
   {
    "duration": 20,
    "start_time": "2022-10-04T16:20:37.258Z"
   },
   {
    "duration": 69,
    "start_time": "2022-10-04T16:20:37.281Z"
   },
   {
    "duration": 199,
    "start_time": "2022-10-04T16:20:37.351Z"
   },
   {
    "duration": 295,
    "start_time": "2022-10-04T16:20:37.552Z"
   },
   {
    "duration": 194,
    "start_time": "2022-10-04T16:20:37.849Z"
   },
   {
    "duration": 163,
    "start_time": "2022-10-04T16:20:38.045Z"
   },
   {
    "duration": 168,
    "start_time": "2022-10-04T16:20:38.210Z"
   },
   {
    "duration": 176,
    "start_time": "2022-10-04T16:20:38.380Z"
   },
   {
    "duration": 195,
    "start_time": "2022-10-04T16:20:38.557Z"
   },
   {
    "duration": 8,
    "start_time": "2022-10-04T16:20:38.755Z"
   },
   {
    "duration": 207,
    "start_time": "2022-10-04T16:20:38.764Z"
   },
   {
    "duration": 6,
    "start_time": "2022-10-04T16:20:38.973Z"
   },
   {
    "duration": 62,
    "start_time": "2022-10-04T16:20:38.980Z"
   },
   {
    "duration": 664,
    "start_time": "2022-10-04T16:20:39.043Z"
   },
   {
    "duration": 1514,
    "start_time": "2022-10-04T16:20:39.709Z"
   },
   {
    "duration": 267,
    "start_time": "2022-10-04T16:20:51.614Z"
   },
   {
    "duration": 257,
    "start_time": "2022-10-04T16:26:29.839Z"
   },
   {
    "duration": 319,
    "start_time": "2022-10-04T16:30:01.467Z"
   },
   {
    "duration": 7,
    "start_time": "2022-10-04T16:32:57.846Z"
   },
   {
    "duration": 1320,
    "start_time": "2022-10-04T16:33:08.763Z"
   },
   {
    "duration": 27,
    "start_time": "2022-10-04T16:33:10.085Z"
   },
   {
    "duration": 2241,
    "start_time": "2022-10-04T16:33:10.114Z"
   },
   {
    "duration": 7,
    "start_time": "2022-10-04T16:33:12.357Z"
   },
   {
    "duration": 13,
    "start_time": "2022-10-04T16:33:12.366Z"
   },
   {
    "duration": 42,
    "start_time": "2022-10-04T16:33:12.380Z"
   },
   {
    "duration": 24,
    "start_time": "2022-10-04T16:33:12.423Z"
   },
   {
    "duration": 19,
    "start_time": "2022-10-04T16:33:12.449Z"
   },
   {
    "duration": 4,
    "start_time": "2022-10-04T16:33:12.469Z"
   },
   {
    "duration": 26,
    "start_time": "2022-10-04T16:33:12.476Z"
   },
   {
    "duration": 8,
    "start_time": "2022-10-04T16:33:12.503Z"
   },
   {
    "duration": 11,
    "start_time": "2022-10-04T16:33:12.513Z"
   },
   {
    "duration": 15,
    "start_time": "2022-10-04T16:33:12.525Z"
   },
   {
    "duration": 4,
    "start_time": "2022-10-04T16:33:12.541Z"
   },
   {
    "duration": 11,
    "start_time": "2022-10-04T16:33:12.547Z"
   },
   {
    "duration": 13,
    "start_time": "2022-10-04T16:33:12.560Z"
   },
   {
    "duration": 31,
    "start_time": "2022-10-04T16:33:12.574Z"
   },
   {
    "duration": 8,
    "start_time": "2022-10-04T16:33:12.606Z"
   },
   {
    "duration": 5,
    "start_time": "2022-10-04T16:33:12.616Z"
   },
   {
    "duration": 29,
    "start_time": "2022-10-04T16:33:12.623Z"
   },
   {
    "duration": 294,
    "start_time": "2022-10-04T16:33:12.653Z"
   },
   {
    "duration": 283,
    "start_time": "2022-10-04T16:33:12.949Z"
   },
   {
    "duration": 292,
    "start_time": "2022-10-04T16:33:13.234Z"
   },
   {
    "duration": 319,
    "start_time": "2022-10-04T16:33:13.529Z"
   },
   {
    "duration": 237,
    "start_time": "2022-10-04T16:33:13.850Z"
   },
   {
    "duration": 20,
    "start_time": "2022-10-04T16:33:14.090Z"
   },
   {
    "duration": 13,
    "start_time": "2022-10-04T16:33:14.112Z"
   },
   {
    "duration": 75,
    "start_time": "2022-10-04T16:33:14.128Z"
   },
   {
    "duration": 402,
    "start_time": "2022-10-04T16:33:14.205Z"
   },
   {
    "duration": 159,
    "start_time": "2022-10-04T16:33:14.609Z"
   },
   {
    "duration": 195,
    "start_time": "2022-10-04T16:33:14.770Z"
   },
   {
    "duration": 162,
    "start_time": "2022-10-04T16:33:14.966Z"
   },
   {
    "duration": 170,
    "start_time": "2022-10-04T16:33:15.130Z"
   },
   {
    "duration": 189,
    "start_time": "2022-10-04T16:33:15.302Z"
   },
   {
    "duration": 179,
    "start_time": "2022-10-04T16:33:15.492Z"
   },
   {
    "duration": 7,
    "start_time": "2022-10-04T16:33:15.672Z"
   },
   {
    "duration": 203,
    "start_time": "2022-10-04T16:33:15.680Z"
   },
   {
    "duration": 5,
    "start_time": "2022-10-04T16:33:15.885Z"
   },
   {
    "duration": 51,
    "start_time": "2022-10-04T16:33:15.892Z"
   },
   {
    "duration": 742,
    "start_time": "2022-10-04T16:33:15.945Z"
   },
   {
    "duration": 1472,
    "start_time": "2022-10-04T16:33:16.688Z"
   },
   {
    "duration": 370,
    "start_time": "2022-10-04T16:36:08.145Z"
   },
   {
    "duration": 394,
    "start_time": "2022-10-04T16:36:26.834Z"
   },
   {
    "duration": 277,
    "start_time": "2022-10-04T16:44:29.397Z"
   },
   {
    "duration": 202,
    "start_time": "2022-10-04T16:44:55.941Z"
   },
   {
    "duration": 211,
    "start_time": "2022-10-04T16:45:27.443Z"
   },
   {
    "duration": 211,
    "start_time": "2022-10-04T16:46:37.377Z"
   },
   {
    "duration": 246,
    "start_time": "2022-10-04T16:47:57.333Z"
   },
   {
    "duration": 252,
    "start_time": "2022-10-04T16:51:21.231Z"
   },
   {
    "duration": 218,
    "start_time": "2022-10-04T16:51:39.448Z"
   },
   {
    "duration": 217,
    "start_time": "2022-10-04T16:52:00.145Z"
   },
   {
    "duration": 400,
    "start_time": "2022-10-04T17:10:26.025Z"
   },
   {
    "duration": 281,
    "start_time": "2022-10-04T17:12:36.126Z"
   },
   {
    "duration": 256,
    "start_time": "2022-10-04T17:12:49.077Z"
   },
   {
    "duration": 1323,
    "start_time": "2022-10-04T17:36:24.971Z"
   },
   {
    "duration": 21,
    "start_time": "2022-10-04T17:36:26.299Z"
   },
   {
    "duration": 2226,
    "start_time": "2022-10-04T17:36:26.321Z"
   },
   {
    "duration": 8,
    "start_time": "2022-10-04T17:36:28.549Z"
   },
   {
    "duration": 9,
    "start_time": "2022-10-04T17:36:28.558Z"
   },
   {
    "duration": 42,
    "start_time": "2022-10-04T17:36:28.568Z"
   },
   {
    "duration": 23,
    "start_time": "2022-10-04T17:36:28.611Z"
   },
   {
    "duration": 19,
    "start_time": "2022-10-04T17:36:28.636Z"
   },
   {
    "duration": 4,
    "start_time": "2022-10-04T17:36:28.656Z"
   },
   {
    "duration": 5,
    "start_time": "2022-10-04T17:36:28.663Z"
   },
   {
    "duration": 36,
    "start_time": "2022-10-04T17:36:28.670Z"
   },
   {
    "duration": 11,
    "start_time": "2022-10-04T17:36:28.707Z"
   },
   {
    "duration": 25,
    "start_time": "2022-10-04T17:36:28.720Z"
   },
   {
    "duration": 5,
    "start_time": "2022-10-04T17:36:28.747Z"
   },
   {
    "duration": 8,
    "start_time": "2022-10-04T17:36:28.754Z"
   },
   {
    "duration": 19,
    "start_time": "2022-10-04T17:36:28.763Z"
   },
   {
    "duration": 22,
    "start_time": "2022-10-04T17:36:28.783Z"
   },
   {
    "duration": 7,
    "start_time": "2022-10-04T17:36:28.807Z"
   },
   {
    "duration": 5,
    "start_time": "2022-10-04T17:36:28.815Z"
   },
   {
    "duration": 28,
    "start_time": "2022-10-04T17:36:28.822Z"
   },
   {
    "duration": 313,
    "start_time": "2022-10-04T17:36:28.852Z"
   },
   {
    "duration": 253,
    "start_time": "2022-10-04T17:36:29.167Z"
   },
   {
    "duration": 251,
    "start_time": "2022-10-04T17:36:29.422Z"
   },
   {
    "duration": 313,
    "start_time": "2022-10-04T17:36:29.675Z"
   },
   {
    "duration": 275,
    "start_time": "2022-10-04T17:36:29.990Z"
   },
   {
    "duration": 410,
    "start_time": "2022-10-04T17:36:30.267Z"
   },
   {
    "duration": 272,
    "start_time": "2022-10-04T17:36:30.679Z"
   },
   {
    "duration": 247,
    "start_time": "2022-10-04T17:36:30.955Z"
   },
   {
    "duration": 11,
    "start_time": "2022-10-04T17:36:31.204Z"
   },
   {
    "duration": 20,
    "start_time": "2022-10-04T17:36:31.216Z"
   },
   {
    "duration": 77,
    "start_time": "2022-10-04T17:36:31.237Z"
   },
   {
    "duration": 184,
    "start_time": "2022-10-04T17:36:31.316Z"
   },
   {
    "duration": 160,
    "start_time": "2022-10-04T17:36:31.502Z"
   },
   {
    "duration": 186,
    "start_time": "2022-10-04T17:36:31.664Z"
   },
   {
    "duration": 168,
    "start_time": "2022-10-04T17:36:31.851Z"
   },
   {
    "duration": 179,
    "start_time": "2022-10-04T17:36:32.021Z"
   },
   {
    "duration": 176,
    "start_time": "2022-10-04T17:36:32.202Z"
   },
   {
    "duration": 252,
    "start_time": "2022-10-04T17:36:32.379Z"
   },
   {
    "duration": 8,
    "start_time": "2022-10-04T17:36:32.632Z"
   },
   {
    "duration": 203,
    "start_time": "2022-10-04T17:36:32.641Z"
   },
   {
    "duration": 6,
    "start_time": "2022-10-04T17:36:32.845Z"
   },
   {
    "duration": 37,
    "start_time": "2022-10-04T17:36:32.852Z"
   },
   {
    "duration": 702,
    "start_time": "2022-10-04T17:36:32.891Z"
   },
   {
    "duration": 1601,
    "start_time": "2022-10-04T17:36:33.599Z"
   },
   {
    "duration": 100,
    "start_time": "2022-10-04T17:39:41.844Z"
   },
   {
    "duration": 18,
    "start_time": "2022-10-04T17:40:39.648Z"
   },
   {
    "duration": 11,
    "start_time": "2022-10-04T17:49:11.559Z"
   },
   {
    "duration": 151,
    "start_time": "2022-10-04T17:49:21.328Z"
   },
   {
    "duration": 257,
    "start_time": "2022-10-04T17:54:30.448Z"
   },
   {
    "duration": 328,
    "start_time": "2022-10-04T17:55:44.345Z"
   },
   {
    "duration": 247,
    "start_time": "2022-10-04T17:55:54.632Z"
   },
   {
    "duration": 268,
    "start_time": "2022-10-04T17:56:01.490Z"
   },
   {
    "duration": 375,
    "start_time": "2022-10-04T17:59:57.095Z"
   },
   {
    "duration": 246,
    "start_time": "2022-10-04T18:00:30.359Z"
   },
   {
    "duration": 256,
    "start_time": "2022-10-04T18:00:50.433Z"
   },
   {
    "duration": 264,
    "start_time": "2022-10-04T18:00:57.624Z"
   },
   {
    "duration": 255,
    "start_time": "2022-10-04T18:01:06.136Z"
   },
   {
    "duration": 380,
    "start_time": "2022-10-04T18:01:19.487Z"
   },
   {
    "duration": 210,
    "start_time": "2022-10-04T18:01:32.722Z"
   },
   {
    "duration": 254,
    "start_time": "2022-10-04T18:04:24.440Z"
   },
   {
    "duration": 228,
    "start_time": "2022-10-04T18:04:31.451Z"
   },
   {
    "duration": 207,
    "start_time": "2022-10-04T18:04:40.461Z"
   },
   {
    "duration": 231,
    "start_time": "2022-10-04T18:09:45.299Z"
   },
   {
    "duration": 212,
    "start_time": "2022-10-04T18:09:54.967Z"
   },
   {
    "duration": 217,
    "start_time": "2022-10-04T18:10:05.779Z"
   },
   {
    "duration": 212,
    "start_time": "2022-10-04T18:12:47.355Z"
   },
   {
    "duration": 162,
    "start_time": "2022-10-04T18:13:12.402Z"
   },
   {
    "duration": 201,
    "start_time": "2022-10-04T18:13:43.125Z"
   },
   {
    "duration": 411,
    "start_time": "2022-10-04T18:17:00.646Z"
   },
   {
    "duration": 173,
    "start_time": "2022-10-04T18:17:08.294Z"
   },
   {
    "duration": 179,
    "start_time": "2022-10-04T18:17:40.474Z"
   },
   {
    "duration": 206,
    "start_time": "2022-10-04T18:18:06.239Z"
   },
   {
    "duration": 205,
    "start_time": "2022-10-04T18:18:26.869Z"
   },
   {
    "duration": 252,
    "start_time": "2022-10-04T18:18:56.260Z"
   },
   {
    "duration": 4,
    "start_time": "2022-10-04T19:09:07.207Z"
   },
   {
    "duration": 1717,
    "start_time": "2022-10-05T15:40:08.796Z"
   },
   {
    "duration": 23,
    "start_time": "2022-10-05T15:40:10.514Z"
   },
   {
    "duration": 2515,
    "start_time": "2022-10-05T15:40:10.538Z"
   },
   {
    "duration": 9,
    "start_time": "2022-10-05T15:40:13.056Z"
   },
   {
    "duration": 15,
    "start_time": "2022-10-05T15:40:13.066Z"
   },
   {
    "duration": 52,
    "start_time": "2022-10-05T15:40:13.083Z"
   },
   {
    "duration": 5,
    "start_time": "2022-10-05T15:40:13.137Z"
   },
   {
    "duration": 29,
    "start_time": "2022-10-05T15:40:13.144Z"
   },
   {
    "duration": 36,
    "start_time": "2022-10-05T15:40:13.175Z"
   },
   {
    "duration": 4,
    "start_time": "2022-10-05T15:40:13.214Z"
   },
   {
    "duration": 8,
    "start_time": "2022-10-05T15:40:13.219Z"
   },
   {
    "duration": 12,
    "start_time": "2022-10-05T15:40:13.229Z"
   },
   {
    "duration": 11,
    "start_time": "2022-10-05T15:40:13.243Z"
   },
   {
    "duration": 38,
    "start_time": "2022-10-05T15:40:13.256Z"
   },
   {
    "duration": 8,
    "start_time": "2022-10-05T15:40:13.296Z"
   },
   {
    "duration": 9,
    "start_time": "2022-10-05T15:40:13.306Z"
   },
   {
    "duration": 14,
    "start_time": "2022-10-05T15:40:13.317Z"
   },
   {
    "duration": 2,
    "start_time": "2022-10-05T15:40:13.333Z"
   },
   {
    "duration": 5,
    "start_time": "2022-10-05T15:40:13.337Z"
   },
   {
    "duration": 444,
    "start_time": "2022-10-05T15:40:13.343Z"
   },
   {
    "duration": 4,
    "start_time": "2022-10-05T15:40:13.789Z"
   },
   {
    "duration": 7,
    "start_time": "2022-10-05T15:40:13.794Z"
   },
   {
    "duration": 33,
    "start_time": "2022-10-05T15:40:13.803Z"
   },
   {
    "duration": 297,
    "start_time": "2022-10-05T15:40:13.838Z"
   },
   {
    "duration": 257,
    "start_time": "2022-10-05T15:40:14.137Z"
   },
   {
    "duration": 250,
    "start_time": "2022-10-05T15:40:14.396Z"
   },
   {
    "duration": 464,
    "start_time": "2022-10-05T15:40:14.648Z"
   },
   {
    "duration": 219,
    "start_time": "2022-10-05T15:40:15.117Z"
   },
   {
    "duration": 227,
    "start_time": "2022-10-05T15:40:15.338Z"
   },
   {
    "duration": 324,
    "start_time": "2022-10-05T15:40:15.567Z"
   },
   {
    "duration": 303,
    "start_time": "2022-10-05T15:40:15.892Z"
   },
   {
    "duration": 268,
    "start_time": "2022-10-05T15:40:16.197Z"
   },
   {
    "duration": 251,
    "start_time": "2022-10-05T15:40:16.467Z"
   },
   {
    "duration": 246,
    "start_time": "2022-10-05T15:40:16.720Z"
   },
   {
    "duration": 248,
    "start_time": "2022-10-05T15:40:16.968Z"
   },
   {
    "duration": 15,
    "start_time": "2022-10-05T15:40:17.218Z"
   },
   {
    "duration": 14,
    "start_time": "2022-10-05T15:40:17.235Z"
   },
   {
    "duration": 81,
    "start_time": "2022-10-05T15:40:17.250Z"
   },
   {
    "duration": 307,
    "start_time": "2022-10-05T15:40:17.333Z"
   },
   {
    "duration": 172,
    "start_time": "2022-10-05T15:40:17.642Z"
   },
   {
    "duration": 189,
    "start_time": "2022-10-05T15:40:17.816Z"
   },
   {
    "duration": 120,
    "start_time": "2022-10-05T15:40:18.006Z"
   },
   {
    "duration": 0,
    "start_time": "2022-10-05T15:40:18.127Z"
   },
   {
    "duration": 0,
    "start_time": "2022-10-05T15:40:18.128Z"
   },
   {
    "duration": 0,
    "start_time": "2022-10-05T15:40:18.129Z"
   },
   {
    "duration": 0,
    "start_time": "2022-10-05T15:40:18.130Z"
   },
   {
    "duration": 0,
    "start_time": "2022-10-05T15:40:18.131Z"
   },
   {
    "duration": 0,
    "start_time": "2022-10-05T15:40:18.132Z"
   },
   {
    "duration": 0,
    "start_time": "2022-10-05T15:40:18.133Z"
   },
   {
    "duration": 0,
    "start_time": "2022-10-05T15:40:18.134Z"
   },
   {
    "duration": 0,
    "start_time": "2022-10-05T15:40:18.135Z"
   },
   {
    "duration": 18,
    "start_time": "2022-10-05T15:42:41.552Z"
   },
   {
    "duration": 153,
    "start_time": "2022-10-05T15:45:43.745Z"
   },
   {
    "duration": 222,
    "start_time": "2022-10-05T15:50:01.770Z"
   },
   {
    "duration": 184,
    "start_time": "2022-10-05T15:50:14.338Z"
   },
   {
    "duration": 202,
    "start_time": "2022-10-05T15:50:14.654Z"
   },
   {
    "duration": 219,
    "start_time": "2022-10-05T15:50:14.966Z"
   },
   {
    "duration": 10,
    "start_time": "2022-10-05T15:50:15.287Z"
   },
   {
    "duration": 231,
    "start_time": "2022-10-05T15:50:15.599Z"
   },
   {
    "duration": 6,
    "start_time": "2022-10-05T15:50:15.885Z"
   },
   {
    "duration": 1559,
    "start_time": "2022-10-05T15:50:21.355Z"
   },
   {
    "duration": 36,
    "start_time": "2022-10-05T15:50:22.916Z"
   },
   {
    "duration": 2490,
    "start_time": "2022-10-05T15:50:22.955Z"
   },
   {
    "duration": 10,
    "start_time": "2022-10-05T15:50:25.447Z"
   },
   {
    "duration": 16,
    "start_time": "2022-10-05T15:50:25.459Z"
   },
   {
    "duration": 45,
    "start_time": "2022-10-05T15:50:25.477Z"
   },
   {
    "duration": 5,
    "start_time": "2022-10-05T15:50:25.524Z"
   },
   {
    "duration": 25,
    "start_time": "2022-10-05T15:50:25.531Z"
   },
   {
    "duration": 40,
    "start_time": "2022-10-05T15:50:25.558Z"
   },
   {
    "duration": 5,
    "start_time": "2022-10-05T15:50:25.601Z"
   },
   {
    "duration": 7,
    "start_time": "2022-10-05T15:50:25.608Z"
   },
   {
    "duration": 12,
    "start_time": "2022-10-05T15:50:25.617Z"
   },
   {
    "duration": 11,
    "start_time": "2022-10-05T15:50:25.631Z"
   },
   {
    "duration": 45,
    "start_time": "2022-10-05T15:50:25.644Z"
   },
   {
    "duration": 8,
    "start_time": "2022-10-05T15:50:25.691Z"
   },
   {
    "duration": 11,
    "start_time": "2022-10-05T15:50:25.700Z"
   },
   {
    "duration": 15,
    "start_time": "2022-10-05T15:50:25.713Z"
   },
   {
    "duration": 2,
    "start_time": "2022-10-05T15:50:25.730Z"
   },
   {
    "duration": 11,
    "start_time": "2022-10-05T15:50:25.734Z"
   },
   {
    "duration": 406,
    "start_time": "2022-10-05T15:50:25.747Z"
   },
   {
    "duration": 4,
    "start_time": "2022-10-05T15:50:26.155Z"
   },
   {
    "duration": 11,
    "start_time": "2022-10-05T15:50:26.161Z"
   },
   {
    "duration": 41,
    "start_time": "2022-10-05T15:50:26.174Z"
   },
   {
    "duration": 279,
    "start_time": "2022-10-05T15:50:26.217Z"
   },
   {
    "duration": 262,
    "start_time": "2022-10-05T15:50:26.498Z"
   },
   {
    "duration": 263,
    "start_time": "2022-10-05T15:50:26.761Z"
   },
   {
    "duration": 365,
    "start_time": "2022-10-05T15:50:27.026Z"
   },
   {
    "duration": 356,
    "start_time": "2022-10-05T15:50:27.397Z"
   },
   {
    "duration": 206,
    "start_time": "2022-10-05T15:50:27.755Z"
   },
   {
    "duration": 365,
    "start_time": "2022-10-05T15:50:27.963Z"
   },
   {
    "duration": 313,
    "start_time": "2022-10-05T15:50:28.330Z"
   },
   {
    "duration": 269,
    "start_time": "2022-10-05T15:50:28.645Z"
   },
   {
    "duration": 242,
    "start_time": "2022-10-05T15:50:28.916Z"
   },
   {
    "duration": 248,
    "start_time": "2022-10-05T15:50:29.160Z"
   },
   {
    "duration": 228,
    "start_time": "2022-10-05T15:50:29.410Z"
   },
   {
    "duration": 14,
    "start_time": "2022-10-05T15:50:29.640Z"
   },
   {
    "duration": 34,
    "start_time": "2022-10-05T15:50:29.655Z"
   },
   {
    "duration": 53,
    "start_time": "2022-10-05T15:50:29.691Z"
   },
   {
    "duration": 205,
    "start_time": "2022-10-05T15:50:29.746Z"
   },
   {
    "duration": 318,
    "start_time": "2022-10-05T15:50:29.953Z"
   },
   {
    "duration": 212,
    "start_time": "2022-10-05T15:50:30.274Z"
   },
   {
    "duration": 170,
    "start_time": "2022-10-05T15:50:30.489Z"
   },
   {
    "duration": 201,
    "start_time": "2022-10-05T15:50:30.661Z"
   },
   {
    "duration": 203,
    "start_time": "2022-10-05T15:50:30.864Z"
   },
   {
    "duration": 222,
    "start_time": "2022-10-05T15:50:31.069Z"
   },
   {
    "duration": 9,
    "start_time": "2022-10-05T15:50:31.293Z"
   },
   {
    "duration": 270,
    "start_time": "2022-10-05T15:50:31.304Z"
   },
   {
    "duration": 17,
    "start_time": "2022-10-05T15:50:31.575Z"
   },
   {
    "duration": 37,
    "start_time": "2022-10-05T15:50:31.594Z"
   },
   {
    "duration": 866,
    "start_time": "2022-10-05T15:50:31.633Z"
   },
   {
    "duration": 1688,
    "start_time": "2022-10-05T15:50:32.501Z"
   },
   {
    "duration": 4,
    "start_time": "2022-10-05T16:19:28.725Z"
   },
   {
    "duration": 101,
    "start_time": "2022-10-05T16:24:30.853Z"
   },
   {
    "duration": 5,
    "start_time": "2022-10-05T16:25:48.110Z"
   },
   {
    "duration": 6,
    "start_time": "2022-10-05T16:30:26.288Z"
   },
   {
    "duration": 6,
    "start_time": "2022-10-05T16:30:43.020Z"
   },
   {
    "duration": 7,
    "start_time": "2022-10-05T16:31:34.982Z"
   },
   {
    "duration": 10,
    "start_time": "2022-10-05T16:32:20.940Z"
   },
   {
    "duration": 10,
    "start_time": "2022-10-05T16:32:37.556Z"
   },
   {
    "duration": 13,
    "start_time": "2022-10-05T16:33:31.912Z"
   },
   {
    "duration": 4,
    "start_time": "2022-10-05T16:33:57.621Z"
   },
   {
    "duration": 4,
    "start_time": "2022-10-05T16:34:17.584Z"
   },
   {
    "duration": 6,
    "start_time": "2022-10-05T16:44:24.539Z"
   },
   {
    "duration": 5,
    "start_time": "2022-10-05T16:44:46.043Z"
   },
   {
    "duration": 1428,
    "start_time": "2022-10-05T16:45:06.892Z"
   },
   {
    "duration": 21,
    "start_time": "2022-10-05T16:45:08.322Z"
   },
   {
    "duration": 2404,
    "start_time": "2022-10-05T16:45:08.345Z"
   },
   {
    "duration": 10,
    "start_time": "2022-10-05T16:45:10.751Z"
   },
   {
    "duration": 18,
    "start_time": "2022-10-05T16:45:10.762Z"
   },
   {
    "duration": 65,
    "start_time": "2022-10-05T16:45:10.782Z"
   },
   {
    "duration": 12,
    "start_time": "2022-10-05T16:45:10.849Z"
   },
   {
    "duration": 38,
    "start_time": "2022-10-05T16:45:10.863Z"
   },
   {
    "duration": 15,
    "start_time": "2022-10-05T16:45:10.903Z"
   },
   {
    "duration": 4,
    "start_time": "2022-10-05T16:45:10.921Z"
   },
   {
    "duration": 7,
    "start_time": "2022-10-05T16:45:10.927Z"
   },
   {
    "duration": 12,
    "start_time": "2022-10-05T16:45:10.936Z"
   },
   {
    "duration": 12,
    "start_time": "2022-10-05T16:45:10.950Z"
   },
   {
    "duration": 22,
    "start_time": "2022-10-05T16:45:10.991Z"
   },
   {
    "duration": 11,
    "start_time": "2022-10-05T16:45:11.015Z"
   },
   {
    "duration": 12,
    "start_time": "2022-10-05T16:45:11.028Z"
   },
   {
    "duration": 17,
    "start_time": "2022-10-05T16:45:11.042Z"
   },
   {
    "duration": 3,
    "start_time": "2022-10-05T16:45:11.060Z"
   },
   {
    "duration": 7,
    "start_time": "2022-10-05T16:45:11.065Z"
   },
   {
    "duration": 391,
    "start_time": "2022-10-05T16:45:11.074Z"
   },
   {
    "duration": 5,
    "start_time": "2022-10-05T16:45:11.467Z"
   },
   {
    "duration": 16,
    "start_time": "2022-10-05T16:45:11.474Z"
   },
   {
    "duration": 30,
    "start_time": "2022-10-05T16:45:11.492Z"
   },
   {
    "duration": 404,
    "start_time": "2022-10-05T16:45:11.523Z"
   },
   {
    "duration": 342,
    "start_time": "2022-10-05T16:45:11.929Z"
   },
   {
    "duration": 264,
    "start_time": "2022-10-05T16:45:12.272Z"
   },
   {
    "duration": 343,
    "start_time": "2022-10-05T16:45:12.539Z"
   },
   {
    "duration": 369,
    "start_time": "2022-10-05T16:45:12.891Z"
   },
   {
    "duration": 228,
    "start_time": "2022-10-05T16:45:13.262Z"
   },
   {
    "duration": 299,
    "start_time": "2022-10-05T16:45:13.492Z"
   },
   {
    "duration": 303,
    "start_time": "2022-10-05T16:45:13.793Z"
   },
   {
    "duration": 293,
    "start_time": "2022-10-05T16:45:14.098Z"
   },
   {
    "duration": 245,
    "start_time": "2022-10-05T16:45:14.393Z"
   },
   {
    "duration": 253,
    "start_time": "2022-10-05T16:45:14.640Z"
   },
   {
    "duration": 245,
    "start_time": "2022-10-05T16:45:14.895Z"
   },
   {
    "duration": 16,
    "start_time": "2022-10-05T16:45:15.142Z"
   },
   {
    "duration": 37,
    "start_time": "2022-10-05T16:45:15.160Z"
   },
   {
    "duration": 75,
    "start_time": "2022-10-05T16:45:15.199Z"
   },
   {
    "duration": 239,
    "start_time": "2022-10-05T16:45:15.288Z"
   },
   {
    "duration": 280,
    "start_time": "2022-10-05T16:45:15.529Z"
   },
   {
    "duration": 214,
    "start_time": "2022-10-05T16:45:15.811Z"
   },
   {
    "duration": 202,
    "start_time": "2022-10-05T16:45:16.027Z"
   },
   {
    "duration": 233,
    "start_time": "2022-10-05T16:45:16.231Z"
   },
   {
    "duration": 198,
    "start_time": "2022-10-05T16:45:16.465Z"
   },
   {
    "duration": 209,
    "start_time": "2022-10-05T16:45:16.665Z"
   },
   {
    "duration": 16,
    "start_time": "2022-10-05T16:45:16.875Z"
   },
   {
    "duration": 258,
    "start_time": "2022-10-05T16:45:16.893Z"
   },
   {
    "duration": 7,
    "start_time": "2022-10-05T16:45:17.153Z"
   },
   {
    "duration": 53,
    "start_time": "2022-10-05T16:45:17.161Z"
   },
   {
    "duration": 712,
    "start_time": "2022-10-05T16:45:17.216Z"
   },
   {
    "duration": 1710,
    "start_time": "2022-10-05T16:45:17.930Z"
   },
   {
    "duration": 12,
    "start_time": "2022-10-05T16:47:33.205Z"
   },
   {
    "duration": 4,
    "start_time": "2022-10-05T16:47:57.428Z"
   },
   {
    "duration": 4,
    "start_time": "2022-10-05T16:48:16.916Z"
   },
   {
    "duration": 12,
    "start_time": "2022-10-05T16:48:30.702Z"
   },
   {
    "duration": 4,
    "start_time": "2022-10-05T16:48:33.060Z"
   },
   {
    "duration": 10,
    "start_time": "2022-10-05T16:55:08.513Z"
   },
   {
    "duration": 12,
    "start_time": "2022-10-05T16:56:08.707Z"
   },
   {
    "duration": 10,
    "start_time": "2022-10-05T16:56:21.429Z"
   },
   {
    "duration": 4,
    "start_time": "2022-10-05T16:59:04.720Z"
   },
   {
    "duration": 5,
    "start_time": "2022-10-05T16:59:16.906Z"
   },
   {
    "duration": 20,
    "start_time": "2022-10-05T17:03:25.353Z"
   },
   {
    "duration": 7,
    "start_time": "2022-10-05T17:03:53.758Z"
   },
   {
    "duration": 7,
    "start_time": "2022-10-05T17:03:57.958Z"
   },
   {
    "duration": 10,
    "start_time": "2022-10-05T17:04:21.803Z"
   },
   {
    "duration": 5,
    "start_time": "2022-10-05T17:04:44.959Z"
   },
   {
    "duration": 102,
    "start_time": "2022-10-05T17:05:03.113Z"
   },
   {
    "duration": 14,
    "start_time": "2022-10-05T17:05:16.080Z"
   },
   {
    "duration": 1307,
    "start_time": "2022-10-05T17:05:47.521Z"
   },
   {
    "duration": 19,
    "start_time": "2022-10-05T17:05:48.830Z"
   },
   {
    "duration": 2383,
    "start_time": "2022-10-05T17:05:48.850Z"
   },
   {
    "duration": 9,
    "start_time": "2022-10-05T17:05:51.234Z"
   },
   {
    "duration": 10,
    "start_time": "2022-10-05T17:05:51.246Z"
   },
   {
    "duration": 42,
    "start_time": "2022-10-05T17:05:51.257Z"
   },
   {
    "duration": 4,
    "start_time": "2022-10-05T17:05:51.301Z"
   },
   {
    "duration": 7,
    "start_time": "2022-10-05T17:05:51.306Z"
   },
   {
    "duration": 9,
    "start_time": "2022-10-05T17:05:51.314Z"
   },
   {
    "duration": 8,
    "start_time": "2022-10-05T17:05:51.325Z"
   },
   {
    "duration": 9,
    "start_time": "2022-10-05T17:05:51.335Z"
   },
   {
    "duration": 4,
    "start_time": "2022-10-05T17:05:51.345Z"
   },
   {
    "duration": 54,
    "start_time": "2022-10-05T17:05:51.351Z"
   },
   {
    "duration": 10,
    "start_time": "2022-10-05T17:05:51.409Z"
   },
   {
    "duration": 5,
    "start_time": "2022-10-05T17:05:51.420Z"
   },
   {
    "duration": 20,
    "start_time": "2022-10-05T17:05:51.427Z"
   },
   {
    "duration": 41,
    "start_time": "2022-10-05T17:05:51.448Z"
   },
   {
    "duration": 5,
    "start_time": "2022-10-05T17:05:51.490Z"
   },
   {
    "duration": 13,
    "start_time": "2022-10-05T17:05:51.496Z"
   },
   {
    "duration": 10,
    "start_time": "2022-10-05T17:05:51.510Z"
   },
   {
    "duration": 11,
    "start_time": "2022-10-05T17:05:51.522Z"
   },
   {
    "duration": 17,
    "start_time": "2022-10-05T17:05:51.534Z"
   },
   {
    "duration": 4,
    "start_time": "2022-10-05T17:05:51.553Z"
   },
   {
    "duration": 31,
    "start_time": "2022-10-05T17:05:51.559Z"
   },
   {
    "duration": 13,
    "start_time": "2022-10-05T17:05:51.592Z"
   },
   {
    "duration": 3,
    "start_time": "2022-10-05T17:05:51.606Z"
   },
   {
    "duration": 416,
    "start_time": "2022-10-05T17:05:51.611Z"
   },
   {
    "duration": 5,
    "start_time": "2022-10-05T17:05:52.030Z"
   },
   {
    "duration": 17,
    "start_time": "2022-10-05T17:05:52.037Z"
   },
   {
    "duration": 47,
    "start_time": "2022-10-05T17:05:52.056Z"
   },
   {
    "duration": 259,
    "start_time": "2022-10-05T17:05:52.104Z"
   },
   {
    "duration": 238,
    "start_time": "2022-10-05T17:05:52.365Z"
   },
   {
    "duration": 262,
    "start_time": "2022-10-05T17:05:52.604Z"
   },
   {
    "duration": 322,
    "start_time": "2022-10-05T17:05:52.868Z"
   },
   {
    "duration": 311,
    "start_time": "2022-10-05T17:05:53.192Z"
   },
   {
    "duration": 184,
    "start_time": "2022-10-05T17:05:53.505Z"
   },
   {
    "duration": 291,
    "start_time": "2022-10-05T17:05:53.691Z"
   },
   {
    "duration": 301,
    "start_time": "2022-10-05T17:05:53.988Z"
   },
   {
    "duration": 240,
    "start_time": "2022-10-05T17:05:54.290Z"
   },
   {
    "duration": 230,
    "start_time": "2022-10-05T17:05:54.531Z"
   },
   {
    "duration": 227,
    "start_time": "2022-10-05T17:05:54.765Z"
   },
   {
    "duration": 233,
    "start_time": "2022-10-05T17:05:54.994Z"
   },
   {
    "duration": 14,
    "start_time": "2022-10-05T17:05:55.229Z"
   },
   {
    "duration": 13,
    "start_time": "2022-10-05T17:05:55.245Z"
   },
   {
    "duration": 65,
    "start_time": "2022-10-05T17:05:55.260Z"
   },
   {
    "duration": 195,
    "start_time": "2022-10-05T17:05:55.327Z"
   },
   {
    "duration": 272,
    "start_time": "2022-10-05T17:05:55.524Z"
   },
   {
    "duration": 209,
    "start_time": "2022-10-05T17:05:55.798Z"
   },
   {
    "duration": 182,
    "start_time": "2022-10-05T17:05:56.009Z"
   },
   {
    "duration": 197,
    "start_time": "2022-10-05T17:05:56.192Z"
   },
   {
    "duration": 187,
    "start_time": "2022-10-05T17:05:56.390Z"
   },
   {
    "duration": 192,
    "start_time": "2022-10-05T17:05:56.578Z"
   },
   {
    "duration": 18,
    "start_time": "2022-10-05T17:05:56.771Z"
   },
   {
    "duration": 222,
    "start_time": "2022-10-05T17:05:56.791Z"
   },
   {
    "duration": 6,
    "start_time": "2022-10-05T17:05:57.015Z"
   },
   {
    "duration": 34,
    "start_time": "2022-10-05T17:05:57.023Z"
   },
   {
    "duration": 706,
    "start_time": "2022-10-05T17:05:57.058Z"
   },
   {
    "duration": 1695,
    "start_time": "2022-10-05T17:05:57.766Z"
   },
   {
    "duration": 6,
    "start_time": "2022-10-05T17:10:19.990Z"
   },
   {
    "duration": 264,
    "start_time": "2022-10-05T17:14:54.204Z"
   },
   {
    "duration": 258,
    "start_time": "2022-10-05T17:15:07.841Z"
   },
   {
    "duration": 261,
    "start_time": "2022-10-05T17:15:15.061Z"
   },
   {
    "duration": 403,
    "start_time": "2022-10-05T17:15:22.111Z"
   },
   {
    "duration": 196,
    "start_time": "2022-10-05T17:15:29.093Z"
   },
   {
    "duration": 180,
    "start_time": "2022-10-05T17:15:36.515Z"
   },
   {
    "duration": 291,
    "start_time": "2022-10-05T17:15:43.816Z"
   },
   {
    "duration": 269,
    "start_time": "2022-10-05T17:16:06.900Z"
   },
   {
    "duration": 292,
    "start_time": "2022-10-05T17:16:16.786Z"
   },
   {
    "duration": 441,
    "start_time": "2022-10-05T17:16:30.676Z"
   },
   {
    "duration": 237,
    "start_time": "2022-10-05T17:16:37.510Z"
   },
   {
    "duration": 211,
    "start_time": "2022-10-05T17:16:44.627Z"
   },
   {
    "duration": 222,
    "start_time": "2022-10-05T17:16:52.641Z"
   },
   {
    "duration": 209,
    "start_time": "2022-10-05T17:17:04.098Z"
   },
   {
    "duration": 103,
    "start_time": "2022-10-05T17:38:16.447Z"
   },
   {
    "duration": 5,
    "start_time": "2022-10-05T17:38:25.735Z"
   },
   {
    "duration": 4,
    "start_time": "2022-10-05T17:42:33.992Z"
   },
   {
    "duration": 12,
    "start_time": "2022-10-05T17:44:50.093Z"
   },
   {
    "duration": 10,
    "start_time": "2022-10-05T17:45:19.646Z"
   },
   {
    "duration": 1383,
    "start_time": "2022-10-05T17:45:37.525Z"
   },
   {
    "duration": 23,
    "start_time": "2022-10-05T17:45:38.910Z"
   },
   {
    "duration": 2406,
    "start_time": "2022-10-05T17:45:38.935Z"
   },
   {
    "duration": 10,
    "start_time": "2022-10-05T17:45:41.343Z"
   },
   {
    "duration": 11,
    "start_time": "2022-10-05T17:45:41.355Z"
   },
   {
    "duration": 50,
    "start_time": "2022-10-05T17:45:41.368Z"
   },
   {
    "duration": 4,
    "start_time": "2022-10-05T17:45:41.420Z"
   },
   {
    "duration": 11,
    "start_time": "2022-10-05T17:45:41.426Z"
   },
   {
    "duration": 10,
    "start_time": "2022-10-05T17:45:41.438Z"
   },
   {
    "duration": 9,
    "start_time": "2022-10-05T17:45:41.450Z"
   },
   {
    "duration": 35,
    "start_time": "2022-10-05T17:45:41.461Z"
   },
   {
    "duration": 6,
    "start_time": "2022-10-05T17:45:41.497Z"
   },
   {
    "duration": 21,
    "start_time": "2022-10-05T17:45:41.506Z"
   },
   {
    "duration": 9,
    "start_time": "2022-10-05T17:45:41.529Z"
   },
   {
    "duration": 4,
    "start_time": "2022-10-05T17:45:41.540Z"
   },
   {
    "duration": 56,
    "start_time": "2022-10-05T17:45:41.546Z"
   },
   {
    "duration": 17,
    "start_time": "2022-10-05T17:45:41.603Z"
   },
   {
    "duration": 4,
    "start_time": "2022-10-05T17:45:41.622Z"
   },
   {
    "duration": 18,
    "start_time": "2022-10-05T17:45:41.628Z"
   },
   {
    "duration": 16,
    "start_time": "2022-10-05T17:45:41.648Z"
   },
   {
    "duration": 24,
    "start_time": "2022-10-05T17:45:41.667Z"
   },
   {
    "duration": 21,
    "start_time": "2022-10-05T17:45:41.692Z"
   },
   {
    "duration": 5,
    "start_time": "2022-10-05T17:45:41.715Z"
   },
   {
    "duration": 9,
    "start_time": "2022-10-05T17:45:41.722Z"
   },
   {
    "duration": 14,
    "start_time": "2022-10-05T17:45:41.732Z"
   },
   {
    "duration": 3,
    "start_time": "2022-10-05T17:45:41.747Z"
   },
   {
    "duration": 454,
    "start_time": "2022-10-05T17:45:41.752Z"
   },
   {
    "duration": 4,
    "start_time": "2022-10-05T17:45:42.210Z"
   },
   {
    "duration": 10,
    "start_time": "2022-10-05T17:45:42.215Z"
   },
   {
    "duration": 34,
    "start_time": "2022-10-05T17:45:42.226Z"
   },
   {
    "duration": 279,
    "start_time": "2022-10-05T17:45:42.262Z"
   },
   {
    "duration": 236,
    "start_time": "2022-10-05T17:45:42.543Z"
   },
   {
    "duration": 248,
    "start_time": "2022-10-05T17:45:42.781Z"
   },
   {
    "duration": 328,
    "start_time": "2022-10-05T17:45:43.031Z"
   },
   {
    "duration": 352,
    "start_time": "2022-10-05T17:45:43.361Z"
   },
   {
    "duration": 202,
    "start_time": "2022-10-05T17:45:43.715Z"
   },
   {
    "duration": 312,
    "start_time": "2022-10-05T17:45:43.919Z"
   },
   {
    "duration": 307,
    "start_time": "2022-10-05T17:45:44.233Z"
   },
   {
    "duration": 271,
    "start_time": "2022-10-05T17:45:44.542Z"
   },
   {
    "duration": 259,
    "start_time": "2022-10-05T17:45:44.815Z"
   },
   {
    "duration": 261,
    "start_time": "2022-10-05T17:45:45.076Z"
   },
   {
    "duration": 254,
    "start_time": "2022-10-05T17:45:45.339Z"
   },
   {
    "duration": 13,
    "start_time": "2022-10-05T17:45:45.596Z"
   },
   {
    "duration": 14,
    "start_time": "2022-10-05T17:45:45.611Z"
   },
   {
    "duration": 75,
    "start_time": "2022-10-05T17:45:45.627Z"
   },
   {
    "duration": 216,
    "start_time": "2022-10-05T17:45:45.704Z"
   },
   {
    "duration": 285,
    "start_time": "2022-10-05T17:45:45.922Z"
   },
   {
    "duration": 208,
    "start_time": "2022-10-05T17:45:46.209Z"
   },
   {
    "duration": 181,
    "start_time": "2022-10-05T17:45:46.419Z"
   },
   {
    "duration": 212,
    "start_time": "2022-10-05T17:45:46.602Z"
   },
   {
    "duration": 200,
    "start_time": "2022-10-05T17:45:46.815Z"
   },
   {
    "duration": 207,
    "start_time": "2022-10-05T17:45:47.017Z"
   },
   {
    "duration": 8,
    "start_time": "2022-10-05T17:45:47.227Z"
   },
   {
    "duration": 227,
    "start_time": "2022-10-05T17:45:47.237Z"
   },
   {
    "duration": 6,
    "start_time": "2022-10-05T17:45:47.466Z"
   },
   {
    "duration": 56,
    "start_time": "2022-10-05T17:45:47.473Z"
   },
   {
    "duration": 736,
    "start_time": "2022-10-05T17:45:47.531Z"
   },
   {
    "duration": 1762,
    "start_time": "2022-10-05T17:45:48.269Z"
   },
   {
    "duration": 1324,
    "start_time": "2022-10-05T17:59:47.260Z"
   },
   {
    "duration": 8,
    "start_time": "2022-10-05T17:59:58.163Z"
   },
   {
    "duration": 255,
    "start_time": "2022-10-05T18:05:30.837Z"
   },
   {
    "duration": 10,
    "start_time": "2022-10-05T18:06:55.706Z"
   },
   {
    "duration": 259,
    "start_time": "2022-10-05T18:07:06.882Z"
   },
   {
    "duration": 15,
    "start_time": "2022-10-05T18:18:43.802Z"
   },
   {
    "duration": 10,
    "start_time": "2022-10-05T18:20:25.516Z"
   },
   {
    "duration": 1459,
    "start_time": "2022-10-05T18:21:10.731Z"
   },
   {
    "duration": 23,
    "start_time": "2022-10-05T18:21:12.193Z"
   },
   {
    "duration": 2551,
    "start_time": "2022-10-05T18:21:12.218Z"
   },
   {
    "duration": 9,
    "start_time": "2022-10-05T18:21:14.771Z"
   },
   {
    "duration": 15,
    "start_time": "2022-10-05T18:21:14.781Z"
   },
   {
    "duration": 46,
    "start_time": "2022-10-05T18:21:14.797Z"
   },
   {
    "duration": 4,
    "start_time": "2022-10-05T18:21:14.845Z"
   },
   {
    "duration": 12,
    "start_time": "2022-10-05T18:21:14.851Z"
   },
   {
    "duration": 26,
    "start_time": "2022-10-05T18:21:14.864Z"
   },
   {
    "duration": 9,
    "start_time": "2022-10-05T18:21:14.893Z"
   },
   {
    "duration": 10,
    "start_time": "2022-10-05T18:21:14.904Z"
   },
   {
    "duration": 30,
    "start_time": "2022-10-05T18:21:14.916Z"
   },
   {
    "duration": 41,
    "start_time": "2022-10-05T18:21:14.948Z"
   },
   {
    "duration": 16,
    "start_time": "2022-10-05T18:21:14.991Z"
   },
   {
    "duration": 18,
    "start_time": "2022-10-05T18:21:15.009Z"
   },
   {
    "duration": 30,
    "start_time": "2022-10-05T18:21:15.029Z"
   },
   {
    "duration": 20,
    "start_time": "2022-10-05T18:21:15.061Z"
   },
   {
    "duration": 16,
    "start_time": "2022-10-05T18:21:15.083Z"
   },
   {
    "duration": 26,
    "start_time": "2022-10-05T18:21:15.101Z"
   },
   {
    "duration": 5,
    "start_time": "2022-10-05T18:21:15.129Z"
   },
   {
    "duration": 14,
    "start_time": "2022-10-05T18:21:15.135Z"
   },
   {
    "duration": 22,
    "start_time": "2022-10-05T18:21:15.151Z"
   },
   {
    "duration": 3,
    "start_time": "2022-10-05T18:21:15.175Z"
   },
   {
    "duration": 422,
    "start_time": "2022-10-05T18:21:15.189Z"
   },
   {
    "duration": 4,
    "start_time": "2022-10-05T18:21:15.613Z"
   },
   {
    "duration": 22,
    "start_time": "2022-10-05T18:21:15.619Z"
   },
   {
    "duration": 38,
    "start_time": "2022-10-05T18:21:15.643Z"
   },
   {
    "duration": 313,
    "start_time": "2022-10-05T18:21:15.686Z"
   },
   {
    "duration": 257,
    "start_time": "2022-10-05T18:21:16.001Z"
   },
   {
    "duration": 269,
    "start_time": "2022-10-05T18:21:16.260Z"
   },
   {
    "duration": 315,
    "start_time": "2022-10-05T18:21:16.530Z"
   },
   {
    "duration": 219,
    "start_time": "2022-10-05T18:21:16.847Z"
   },
   {
    "duration": 359,
    "start_time": "2022-10-05T18:21:17.068Z"
   },
   {
    "duration": 310,
    "start_time": "2022-10-05T18:21:17.429Z"
   },
   {
    "duration": 296,
    "start_time": "2022-10-05T18:21:17.741Z"
   },
   {
    "duration": 292,
    "start_time": "2022-10-05T18:21:18.039Z"
   },
   {
    "duration": 256,
    "start_time": "2022-10-05T18:21:18.333Z"
   },
   {
    "duration": 246,
    "start_time": "2022-10-05T18:21:18.591Z"
   },
   {
    "duration": 234,
    "start_time": "2022-10-05T18:21:18.838Z"
   },
   {
    "duration": 24,
    "start_time": "2022-10-05T18:21:19.074Z"
   },
   {
    "duration": 13,
    "start_time": "2022-10-05T18:21:19.100Z"
   },
   {
    "duration": 54,
    "start_time": "2022-10-05T18:21:19.115Z"
   },
   {
    "duration": 228,
    "start_time": "2022-10-05T18:21:19.170Z"
   },
   {
    "duration": 188,
    "start_time": "2022-10-05T18:21:19.401Z"
   },
   {
    "duration": 287,
    "start_time": "2022-10-05T18:21:19.591Z"
   },
   {
    "duration": 193,
    "start_time": "2022-10-05T18:21:19.879Z"
   },
   {
    "duration": 214,
    "start_time": "2022-10-05T18:21:20.073Z"
   },
   {
    "duration": 203,
    "start_time": "2022-10-05T18:21:20.289Z"
   },
   {
    "duration": 200,
    "start_time": "2022-10-05T18:21:20.494Z"
   },
   {
    "duration": 7,
    "start_time": "2022-10-05T18:21:20.696Z"
   },
   {
    "duration": 232,
    "start_time": "2022-10-05T18:21:20.705Z"
   },
   {
    "duration": 6,
    "start_time": "2022-10-05T18:21:20.938Z"
   },
   {
    "duration": 45,
    "start_time": "2022-10-05T18:21:20.946Z"
   },
   {
    "duration": 691,
    "start_time": "2022-10-05T18:21:20.993Z"
   },
   {
    "duration": 1715,
    "start_time": "2022-10-05T18:21:21.688Z"
   },
   {
    "duration": 59,
    "start_time": "2022-10-06T14:37:20.335Z"
   },
   {
    "duration": 1901,
    "start_time": "2022-10-06T14:37:27.964Z"
   },
   {
    "duration": 26,
    "start_time": "2022-10-06T14:37:29.867Z"
   },
   {
    "duration": 2614,
    "start_time": "2022-10-06T14:37:29.894Z"
   },
   {
    "duration": 23,
    "start_time": "2022-10-06T14:37:32.511Z"
   },
   {
    "duration": 49,
    "start_time": "2022-10-06T14:37:32.536Z"
   },
   {
    "duration": 69,
    "start_time": "2022-10-06T14:37:32.587Z"
   },
   {
    "duration": 6,
    "start_time": "2022-10-06T14:37:32.660Z"
   },
   {
    "duration": 32,
    "start_time": "2022-10-06T14:37:32.667Z"
   },
   {
    "duration": 16,
    "start_time": "2022-10-06T14:37:32.701Z"
   },
   {
    "duration": 59,
    "start_time": "2022-10-06T14:37:32.720Z"
   },
   {
    "duration": 15,
    "start_time": "2022-10-06T14:37:32.781Z"
   },
   {
    "duration": 20,
    "start_time": "2022-10-06T14:37:32.798Z"
   },
   {
    "duration": 71,
    "start_time": "2022-10-06T14:37:32.820Z"
   },
   {
    "duration": 15,
    "start_time": "2022-10-06T14:37:32.892Z"
   },
   {
    "duration": 40,
    "start_time": "2022-10-06T14:37:32.909Z"
   },
   {
    "duration": 51,
    "start_time": "2022-10-06T14:37:32.951Z"
   },
   {
    "duration": 15,
    "start_time": "2022-10-06T14:37:33.004Z"
   },
   {
    "duration": 35,
    "start_time": "2022-10-06T14:37:33.022Z"
   },
   {
    "duration": 51,
    "start_time": "2022-10-06T14:37:33.058Z"
   },
   {
    "duration": 4,
    "start_time": "2022-10-06T14:37:33.111Z"
   },
   {
    "duration": 54,
    "start_time": "2022-10-06T14:37:33.117Z"
   },
   {
    "duration": 23,
    "start_time": "2022-10-06T14:37:33.172Z"
   },
   {
    "duration": 3,
    "start_time": "2022-10-06T14:37:33.197Z"
   },
   {
    "duration": 487,
    "start_time": "2022-10-06T14:37:33.201Z"
   },
   {
    "duration": 4,
    "start_time": "2022-10-06T14:37:33.691Z"
   },
   {
    "duration": 9,
    "start_time": "2022-10-06T14:37:33.697Z"
   },
   {
    "duration": 68,
    "start_time": "2022-10-06T14:37:33.707Z"
   },
   {
    "duration": 337,
    "start_time": "2022-10-06T14:37:33.780Z"
   },
   {
    "duration": 335,
    "start_time": "2022-10-06T14:37:34.118Z"
   },
   {
    "duration": 305,
    "start_time": "2022-10-06T14:37:34.455Z"
   },
   {
    "duration": 321,
    "start_time": "2022-10-06T14:37:34.767Z"
   },
   {
    "duration": 202,
    "start_time": "2022-10-06T14:37:35.094Z"
   },
   {
    "duration": 431,
    "start_time": "2022-10-06T14:37:35.298Z"
   },
   {
    "duration": 366,
    "start_time": "2022-10-06T14:37:35.730Z"
   },
   {
    "duration": 379,
    "start_time": "2022-10-06T14:37:36.102Z"
   },
   {
    "duration": 355,
    "start_time": "2022-10-06T14:37:36.483Z"
   },
   {
    "duration": 268,
    "start_time": "2022-10-06T14:37:36.843Z"
   },
   {
    "duration": 278,
    "start_time": "2022-10-06T14:37:37.113Z"
   },
   {
    "duration": 293,
    "start_time": "2022-10-06T14:37:37.393Z"
   },
   {
    "duration": 15,
    "start_time": "2022-10-06T14:37:37.687Z"
   },
   {
    "duration": 26,
    "start_time": "2022-10-06T14:37:37.730Z"
   },
   {
    "duration": 94,
    "start_time": "2022-10-06T14:37:37.765Z"
   },
   {
    "duration": 245,
    "start_time": "2022-10-06T14:37:37.861Z"
   },
   {
    "duration": 267,
    "start_time": "2022-10-06T14:37:38.108Z"
   },
   {
    "duration": 325,
    "start_time": "2022-10-06T14:37:38.377Z"
   },
   {
    "duration": 211,
    "start_time": "2022-10-06T14:37:38.703Z"
   },
   {
    "duration": 224,
    "start_time": "2022-10-06T14:37:38.916Z"
   },
   {
    "duration": 209,
    "start_time": "2022-10-06T14:37:39.146Z"
   },
   {
    "duration": 224,
    "start_time": "2022-10-06T14:37:39.357Z"
   },
   {
    "duration": 11,
    "start_time": "2022-10-06T14:37:39.583Z"
   },
   {
    "duration": 283,
    "start_time": "2022-10-06T14:37:39.596Z"
   },
   {
    "duration": 6,
    "start_time": "2022-10-06T14:37:39.881Z"
   },
   {
    "duration": 81,
    "start_time": "2022-10-06T14:37:39.888Z"
   },
   {
    "duration": 753,
    "start_time": "2022-10-06T14:37:39.974Z"
   },
   {
    "duration": 1954,
    "start_time": "2022-10-06T14:37:40.728Z"
   },
   {
    "duration": 213,
    "start_time": "2022-10-06T14:38:13.093Z"
   },
   {
    "duration": 231,
    "start_time": "2022-10-06T14:38:31.622Z"
   },
   {
    "duration": 251,
    "start_time": "2022-10-06T14:39:19.810Z"
   },
   {
    "duration": 232,
    "start_time": "2022-10-06T14:40:05.851Z"
   },
   {
    "duration": 244,
    "start_time": "2022-10-06T14:41:56.823Z"
   },
   {
    "duration": 171,
    "start_time": "2022-10-06T14:42:03.973Z"
   },
   {
    "duration": 220,
    "start_time": "2022-10-06T14:42:09.558Z"
   },
   {
    "duration": 237,
    "start_time": "2022-10-06T14:43:21.264Z"
   },
   {
    "duration": 167,
    "start_time": "2022-10-06T14:45:34.420Z"
   },
   {
    "duration": 253,
    "start_time": "2022-10-06T14:45:44.040Z"
   },
   {
    "duration": 172,
    "start_time": "2022-10-06T14:46:59.479Z"
   },
   {
    "duration": 221,
    "start_time": "2022-10-06T14:47:07.770Z"
   },
   {
    "duration": 194,
    "start_time": "2022-10-06T14:48:58.009Z"
   },
   {
    "duration": 209,
    "start_time": "2022-10-06T14:51:57.404Z"
   },
   {
    "duration": 230,
    "start_time": "2022-10-06T14:52:08.058Z"
   },
   {
    "duration": 210,
    "start_time": "2022-10-06T14:52:14.941Z"
   },
   {
    "duration": 213,
    "start_time": "2022-10-06T14:52:38.086Z"
   },
   {
    "duration": 231,
    "start_time": "2022-10-06T14:53:26.537Z"
   },
   {
    "duration": 231,
    "start_time": "2022-10-06T14:53:32.308Z"
   },
   {
    "duration": 204,
    "start_time": "2022-10-06T14:55:40.892Z"
   },
   {
    "duration": 324,
    "start_time": "2022-10-06T14:55:51.717Z"
   },
   {
    "duration": 1448,
    "start_time": "2022-10-06T15:03:19.040Z"
   },
   {
    "duration": 21,
    "start_time": "2022-10-06T15:03:20.490Z"
   },
   {
    "duration": 2347,
    "start_time": "2022-10-06T15:03:20.528Z"
   },
   {
    "duration": 8,
    "start_time": "2022-10-06T15:03:22.877Z"
   },
   {
    "duration": 32,
    "start_time": "2022-10-06T15:03:22.887Z"
   },
   {
    "duration": 76,
    "start_time": "2022-10-06T15:03:22.921Z"
   },
   {
    "duration": 6,
    "start_time": "2022-10-06T15:03:22.999Z"
   },
   {
    "duration": 39,
    "start_time": "2022-10-06T15:03:23.007Z"
   },
   {
    "duration": 9,
    "start_time": "2022-10-06T15:03:23.050Z"
   },
   {
    "duration": 11,
    "start_time": "2022-10-06T15:03:23.062Z"
   },
   {
    "duration": 10,
    "start_time": "2022-10-06T15:03:23.075Z"
   },
   {
    "duration": 26,
    "start_time": "2022-10-06T15:03:23.086Z"
   },
   {
    "duration": 30,
    "start_time": "2022-10-06T15:03:23.114Z"
   },
   {
    "duration": 28,
    "start_time": "2022-10-06T15:03:23.146Z"
   },
   {
    "duration": 4,
    "start_time": "2022-10-06T15:03:23.175Z"
   },
   {
    "duration": 31,
    "start_time": "2022-10-06T15:03:23.181Z"
   },
   {
    "duration": 20,
    "start_time": "2022-10-06T15:03:23.213Z"
   },
   {
    "duration": 15,
    "start_time": "2022-10-06T15:03:23.236Z"
   },
   {
    "duration": 20,
    "start_time": "2022-10-06T15:03:23.253Z"
   },
   {
    "duration": 8,
    "start_time": "2022-10-06T15:03:23.274Z"
   },
   {
    "duration": 11,
    "start_time": "2022-10-06T15:03:23.283Z"
   },
   {
    "duration": 28,
    "start_time": "2022-10-06T15:03:23.296Z"
   },
   {
    "duration": 4,
    "start_time": "2022-10-06T15:03:23.325Z"
   },
   {
    "duration": 376,
    "start_time": "2022-10-06T15:03:23.331Z"
   },
   {
    "duration": 22,
    "start_time": "2022-10-06T15:03:23.709Z"
   },
   {
    "duration": 9,
    "start_time": "2022-10-06T15:03:23.734Z"
   },
   {
    "duration": 29,
    "start_time": "2022-10-06T15:03:23.747Z"
   },
   {
    "duration": 268,
    "start_time": "2022-10-06T15:03:23.778Z"
   },
   {
    "duration": 235,
    "start_time": "2022-10-06T15:03:24.048Z"
   },
   {
    "duration": 261,
    "start_time": "2022-10-06T15:03:24.285Z"
   },
   {
    "duration": 246,
    "start_time": "2022-10-06T15:03:24.547Z"
   },
   {
    "duration": 203,
    "start_time": "2022-10-06T15:03:24.795Z"
   },
   {
    "duration": 312,
    "start_time": "2022-10-06T15:03:25.000Z"
   },
   {
    "duration": 306,
    "start_time": "2022-10-06T15:03:25.330Z"
   },
   {
    "duration": 297,
    "start_time": "2022-10-06T15:03:25.638Z"
   },
   {
    "duration": 354,
    "start_time": "2022-10-06T15:03:25.939Z"
   },
   {
    "duration": 270,
    "start_time": "2022-10-06T15:03:26.294Z"
   },
   {
    "duration": 248,
    "start_time": "2022-10-06T15:03:26.566Z"
   },
   {
    "duration": 255,
    "start_time": "2022-10-06T15:03:26.821Z"
   },
   {
    "duration": 275,
    "start_time": "2022-10-06T15:03:27.078Z"
   },
   {
    "duration": 233,
    "start_time": "2022-10-06T15:03:27.364Z"
   },
   {
    "duration": 28,
    "start_time": "2022-10-06T15:03:27.599Z"
   },
   {
    "duration": 18,
    "start_time": "2022-10-06T15:03:27.632Z"
   },
   {
    "duration": 78,
    "start_time": "2022-10-06T15:03:27.652Z"
   },
   {
    "duration": 307,
    "start_time": "2022-10-06T15:03:27.734Z"
   },
   {
    "duration": 152,
    "start_time": "2022-10-06T15:03:28.043Z"
   },
   {
    "duration": 202,
    "start_time": "2022-10-06T15:03:28.197Z"
   },
   {
    "duration": 187,
    "start_time": "2022-10-06T15:03:28.400Z"
   },
   {
    "duration": 201,
    "start_time": "2022-10-06T15:03:28.589Z"
   },
   {
    "duration": 192,
    "start_time": "2022-10-06T15:03:28.791Z"
   },
   {
    "duration": 194,
    "start_time": "2022-10-06T15:03:28.985Z"
   },
   {
    "duration": 208,
    "start_time": "2022-10-06T15:03:29.181Z"
   },
   {
    "duration": 202,
    "start_time": "2022-10-06T15:03:29.391Z"
   },
   {
    "duration": 7,
    "start_time": "2022-10-06T15:03:29.595Z"
   },
   {
    "duration": 235,
    "start_time": "2022-10-06T15:03:29.605Z"
   },
   {
    "duration": 5,
    "start_time": "2022-10-06T15:03:29.842Z"
   },
   {
    "duration": 36,
    "start_time": "2022-10-06T15:03:29.848Z"
   },
   {
    "duration": 788,
    "start_time": "2022-10-06T15:03:29.886Z"
   },
   {
    "duration": 1616,
    "start_time": "2022-10-06T15:03:30.676Z"
   },
   {
    "duration": 1292,
    "start_time": "2022-10-06T20:01:42.950Z"
   },
   {
    "duration": 20,
    "start_time": "2022-10-06T20:01:44.243Z"
   },
   {
    "duration": 2078,
    "start_time": "2022-10-06T20:01:44.265Z"
   },
   {
    "duration": 8,
    "start_time": "2022-10-06T20:01:46.345Z"
   },
   {
    "duration": 15,
    "start_time": "2022-10-06T20:01:46.354Z"
   },
   {
    "duration": 51,
    "start_time": "2022-10-06T20:01:46.370Z"
   },
   {
    "duration": 4,
    "start_time": "2022-10-06T20:01:46.422Z"
   },
   {
    "duration": 12,
    "start_time": "2022-10-06T20:01:46.427Z"
   },
   {
    "duration": 11,
    "start_time": "2022-10-06T20:01:46.441Z"
   },
   {
    "duration": 12,
    "start_time": "2022-10-06T20:01:46.454Z"
   },
   {
    "duration": 26,
    "start_time": "2022-10-06T20:01:46.468Z"
   },
   {
    "duration": 30,
    "start_time": "2022-10-06T20:01:46.496Z"
   },
   {
    "duration": 17,
    "start_time": "2022-10-06T20:01:46.527Z"
   },
   {
    "duration": 19,
    "start_time": "2022-10-06T20:01:46.545Z"
   },
   {
    "duration": 11,
    "start_time": "2022-10-06T20:01:46.566Z"
   },
   {
    "duration": 45,
    "start_time": "2022-10-06T20:01:46.579Z"
   },
   {
    "duration": 24,
    "start_time": "2022-10-06T20:01:46.626Z"
   },
   {
    "duration": 34,
    "start_time": "2022-10-06T20:01:46.651Z"
   },
   {
    "duration": 15,
    "start_time": "2022-10-06T20:01:46.686Z"
   },
   {
    "duration": 7,
    "start_time": "2022-10-06T20:01:46.703Z"
   },
   {
    "duration": 15,
    "start_time": "2022-10-06T20:01:46.712Z"
   },
   {
    "duration": 13,
    "start_time": "2022-10-06T20:01:46.729Z"
   },
   {
    "duration": 10,
    "start_time": "2022-10-06T20:01:46.744Z"
   },
   {
    "duration": 418,
    "start_time": "2022-10-06T20:01:46.755Z"
   },
   {
    "duration": 4,
    "start_time": "2022-10-06T20:01:47.175Z"
   },
   {
    "duration": 7,
    "start_time": "2022-10-06T20:01:47.180Z"
   },
   {
    "duration": 35,
    "start_time": "2022-10-06T20:01:47.188Z"
   },
   {
    "duration": 249,
    "start_time": "2022-10-06T20:01:47.226Z"
   },
   {
    "duration": 223,
    "start_time": "2022-10-06T20:01:47.476Z"
   },
   {
    "duration": 227,
    "start_time": "2022-10-06T20:01:47.700Z"
   },
   {
    "duration": 240,
    "start_time": "2022-10-06T20:01:47.928Z"
   },
   {
    "duration": 184,
    "start_time": "2022-10-06T20:01:48.169Z"
   },
   {
    "duration": 273,
    "start_time": "2022-10-06T20:01:48.354Z"
   },
   {
    "duration": 262,
    "start_time": "2022-10-06T20:01:48.628Z"
   },
   {
    "duration": 262,
    "start_time": "2022-10-06T20:01:48.892Z"
   },
   {
    "duration": 237,
    "start_time": "2022-10-06T20:01:49.155Z"
   },
   {
    "duration": 208,
    "start_time": "2022-10-06T20:01:49.393Z"
   },
   {
    "duration": 207,
    "start_time": "2022-10-06T20:01:49.602Z"
   },
   {
    "duration": 234,
    "start_time": "2022-10-06T20:01:49.811Z"
   },
   {
    "duration": 196,
    "start_time": "2022-10-06T20:01:50.046Z"
   },
   {
    "duration": 186,
    "start_time": "2022-10-06T20:01:50.244Z"
   },
   {
    "duration": 12,
    "start_time": "2022-10-06T20:01:50.431Z"
   },
   {
    "duration": 14,
    "start_time": "2022-10-06T20:01:50.445Z"
   },
   {
    "duration": 74,
    "start_time": "2022-10-06T20:01:50.461Z"
   },
   {
    "duration": 264,
    "start_time": "2022-10-06T20:01:50.537Z"
   },
   {
    "duration": 163,
    "start_time": "2022-10-06T20:01:50.803Z"
   },
   {
    "duration": 180,
    "start_time": "2022-10-06T20:01:50.968Z"
   },
   {
    "duration": 166,
    "start_time": "2022-10-06T20:01:51.150Z"
   },
   {
    "duration": 184,
    "start_time": "2022-10-06T20:01:51.318Z"
   },
   {
    "duration": 179,
    "start_time": "2022-10-06T20:01:51.504Z"
   },
   {
    "duration": 174,
    "start_time": "2022-10-06T20:01:51.685Z"
   },
   {
    "duration": 183,
    "start_time": "2022-10-06T20:01:51.861Z"
   },
   {
    "duration": 163,
    "start_time": "2022-10-06T20:01:52.046Z"
   },
   {
    "duration": 8,
    "start_time": "2022-10-06T20:01:52.210Z"
   },
   {
    "duration": 206,
    "start_time": "2022-10-06T20:01:52.219Z"
   },
   {
    "duration": 6,
    "start_time": "2022-10-06T20:01:52.426Z"
   },
   {
    "duration": 32,
    "start_time": "2022-10-06T20:01:52.433Z"
   },
   {
    "duration": 775,
    "start_time": "2022-10-06T20:01:52.467Z"
   },
   {
    "duration": 1530,
    "start_time": "2022-10-06T20:01:53.244Z"
   },
   {
    "duration": 2062,
    "start_time": "2022-10-07T12:03:16.158Z"
   },
   {
    "duration": 27,
    "start_time": "2022-10-07T12:03:18.222Z"
   },
   {
    "duration": 2190,
    "start_time": "2022-10-07T12:03:18.251Z"
   },
   {
    "duration": 8,
    "start_time": "2022-10-07T12:03:20.443Z"
   },
   {
    "duration": 13,
    "start_time": "2022-10-07T12:03:20.453Z"
   },
   {
    "duration": 40,
    "start_time": "2022-10-07T12:03:20.468Z"
   },
   {
    "duration": 4,
    "start_time": "2022-10-07T12:03:20.510Z"
   },
   {
    "duration": 9,
    "start_time": "2022-10-07T12:03:20.532Z"
   },
   {
    "duration": 9,
    "start_time": "2022-10-07T12:03:20.542Z"
   },
   {
    "duration": 7,
    "start_time": "2022-10-07T12:03:20.552Z"
   },
   {
    "duration": 8,
    "start_time": "2022-10-07T12:03:20.561Z"
   },
   {
    "duration": 18,
    "start_time": "2022-10-07T12:03:20.570Z"
   },
   {
    "duration": 47,
    "start_time": "2022-10-07T12:03:20.589Z"
   },
   {
    "duration": 13,
    "start_time": "2022-10-07T12:03:20.639Z"
   },
   {
    "duration": 3,
    "start_time": "2022-10-07T12:03:20.654Z"
   },
   {
    "duration": 26,
    "start_time": "2022-10-07T12:03:20.658Z"
   },
   {
    "duration": 19,
    "start_time": "2022-10-07T12:03:20.685Z"
   },
   {
    "duration": 12,
    "start_time": "2022-10-07T12:03:20.705Z"
   },
   {
    "duration": 16,
    "start_time": "2022-10-07T12:03:20.718Z"
   },
   {
    "duration": 3,
    "start_time": "2022-10-07T12:03:20.736Z"
   },
   {
    "duration": 22,
    "start_time": "2022-10-07T12:03:20.741Z"
   },
   {
    "duration": 17,
    "start_time": "2022-10-07T12:03:20.764Z"
   },
   {
    "duration": 11,
    "start_time": "2022-10-07T12:03:20.782Z"
   },
   {
    "duration": 350,
    "start_time": "2022-10-07T12:03:20.794Z"
   },
   {
    "duration": 4,
    "start_time": "2022-10-07T12:03:21.146Z"
   },
   {
    "duration": 7,
    "start_time": "2022-10-07T12:03:21.152Z"
   },
   {
    "duration": 38,
    "start_time": "2022-10-07T12:03:21.161Z"
   },
   {
    "duration": 261,
    "start_time": "2022-10-07T12:03:21.200Z"
   },
   {
    "duration": 234,
    "start_time": "2022-10-07T12:03:21.463Z"
   },
   {
    "duration": 247,
    "start_time": "2022-10-07T12:03:21.698Z"
   },
   {
    "duration": 264,
    "start_time": "2022-10-07T12:03:21.947Z"
   },
   {
    "duration": 196,
    "start_time": "2022-10-07T12:03:22.213Z"
   },
   {
    "duration": 296,
    "start_time": "2022-10-07T12:03:22.411Z"
   },
   {
    "duration": 304,
    "start_time": "2022-10-07T12:03:22.709Z"
   },
   {
    "duration": 287,
    "start_time": "2022-10-07T12:03:23.014Z"
   },
   {
    "duration": 231,
    "start_time": "2022-10-07T12:03:23.302Z"
   },
   {
    "duration": 219,
    "start_time": "2022-10-07T12:03:23.534Z"
   },
   {
    "duration": 223,
    "start_time": "2022-10-07T12:03:23.755Z"
   },
   {
    "duration": 226,
    "start_time": "2022-10-07T12:03:23.980Z"
   },
   {
    "duration": 207,
    "start_time": "2022-10-07T12:03:24.208Z"
   },
   {
    "duration": 188,
    "start_time": "2022-10-07T12:03:24.419Z"
   },
   {
    "duration": 12,
    "start_time": "2022-10-07T12:03:24.609Z"
   },
   {
    "duration": 14,
    "start_time": "2022-10-07T12:03:24.634Z"
   },
   {
    "duration": 45,
    "start_time": "2022-10-07T12:03:24.649Z"
   },
   {
    "duration": 284,
    "start_time": "2022-10-07T12:03:24.696Z"
   },
   {
    "duration": 163,
    "start_time": "2022-10-07T12:03:24.981Z"
   },
   {
    "duration": 180,
    "start_time": "2022-10-07T12:03:25.146Z"
   },
   {
    "duration": 166,
    "start_time": "2022-10-07T12:03:25.327Z"
   },
   {
    "duration": 203,
    "start_time": "2022-10-07T12:03:25.494Z"
   },
   {
    "duration": 178,
    "start_time": "2022-10-07T12:03:25.699Z"
   },
   {
    "duration": 184,
    "start_time": "2022-10-07T12:03:25.879Z"
   },
   {
    "duration": 229,
    "start_time": "2022-10-07T12:03:26.065Z"
   },
   {
    "duration": 228,
    "start_time": "2022-10-07T12:03:26.298Z"
   },
   {
    "duration": 9,
    "start_time": "2022-10-07T12:03:26.528Z"
   },
   {
    "duration": 206,
    "start_time": "2022-10-07T12:03:26.538Z"
   },
   {
    "duration": 6,
    "start_time": "2022-10-07T12:03:26.745Z"
   },
   {
    "duration": 36,
    "start_time": "2022-10-07T12:03:26.753Z"
   },
   {
    "duration": 755,
    "start_time": "2022-10-07T12:03:26.791Z"
   },
   {
    "duration": 1507,
    "start_time": "2022-10-07T12:03:27.547Z"
   },
   {
    "duration": 1522,
    "start_time": "2022-10-10T09:31:03.012Z"
   },
   {
    "duration": 20,
    "start_time": "2022-10-10T09:31:04.536Z"
   },
   {
    "duration": 2054,
    "start_time": "2022-10-10T09:31:04.557Z"
   },
   {
    "duration": 7,
    "start_time": "2022-10-10T09:31:06.614Z"
   },
   {
    "duration": 9,
    "start_time": "2022-10-10T09:31:06.623Z"
   },
   {
    "duration": 37,
    "start_time": "2022-10-10T09:31:06.634Z"
   },
   {
    "duration": 4,
    "start_time": "2022-10-10T09:31:06.673Z"
   },
   {
    "duration": 33,
    "start_time": "2022-10-10T09:31:06.678Z"
   },
   {
    "duration": 7,
    "start_time": "2022-10-10T09:31:06.713Z"
   },
   {
    "duration": 8,
    "start_time": "2022-10-10T09:31:06.722Z"
   },
   {
    "duration": 8,
    "start_time": "2022-10-10T09:31:06.732Z"
   },
   {
    "duration": 16,
    "start_time": "2022-10-10T09:31:06.741Z"
   },
   {
    "duration": 17,
    "start_time": "2022-10-10T09:31:06.758Z"
   },
   {
    "duration": 14,
    "start_time": "2022-10-10T09:31:06.804Z"
   },
   {
    "duration": 4,
    "start_time": "2022-10-10T09:31:06.819Z"
   },
   {
    "duration": 14,
    "start_time": "2022-10-10T09:31:06.824Z"
   },
   {
    "duration": 10,
    "start_time": "2022-10-10T09:31:06.840Z"
   },
   {
    "duration": 10,
    "start_time": "2022-10-10T09:31:06.851Z"
   },
   {
    "duration": 14,
    "start_time": "2022-10-10T09:31:06.863Z"
   },
   {
    "duration": 5,
    "start_time": "2022-10-10T09:31:06.879Z"
   },
   {
    "duration": 8,
    "start_time": "2022-10-10T09:31:06.905Z"
   },
   {
    "duration": 17,
    "start_time": "2022-10-10T09:31:06.914Z"
   },
   {
    "duration": 3,
    "start_time": "2022-10-10T09:31:06.933Z"
   },
   {
    "duration": 357,
    "start_time": "2022-10-10T09:31:06.937Z"
   },
   {
    "duration": 4,
    "start_time": "2022-10-10T09:31:07.296Z"
   },
   {
    "duration": 5,
    "start_time": "2022-10-10T09:31:07.304Z"
   },
   {
    "duration": 35,
    "start_time": "2022-10-10T09:31:07.310Z"
   },
   {
    "duration": 313,
    "start_time": "2022-10-10T09:31:07.349Z"
   },
   {
    "duration": 229,
    "start_time": "2022-10-10T09:31:07.663Z"
   },
   {
    "duration": 256,
    "start_time": "2022-10-10T09:31:07.894Z"
   },
   {
    "duration": 236,
    "start_time": "2022-10-10T09:31:08.151Z"
   },
   {
    "duration": 176,
    "start_time": "2022-10-10T09:31:08.388Z"
   },
   {
    "duration": 277,
    "start_time": "2022-10-10T09:31:08.566Z"
   },
   {
    "duration": 281,
    "start_time": "2022-10-10T09:31:08.845Z"
   },
   {
    "duration": 279,
    "start_time": "2022-10-10T09:31:09.128Z"
   },
   {
    "duration": 236,
    "start_time": "2022-10-10T09:31:09.409Z"
   },
   {
    "duration": 224,
    "start_time": "2022-10-10T09:31:09.646Z"
   },
   {
    "duration": 208,
    "start_time": "2022-10-10T09:31:09.871Z"
   },
   {
    "duration": 229,
    "start_time": "2022-10-10T09:31:10.080Z"
   },
   {
    "duration": 215,
    "start_time": "2022-10-10T09:31:10.311Z"
   },
   {
    "duration": 178,
    "start_time": "2022-10-10T09:31:10.527Z"
   },
   {
    "duration": 11,
    "start_time": "2022-10-10T09:31:10.707Z"
   },
   {
    "duration": 44,
    "start_time": "2022-10-10T09:31:10.719Z"
   },
   {
    "duration": 44,
    "start_time": "2022-10-10T09:31:10.764Z"
   },
   {
    "duration": 244,
    "start_time": "2022-10-10T09:31:10.809Z"
   },
   {
    "duration": 144,
    "start_time": "2022-10-10T09:31:11.055Z"
   },
   {
    "duration": 165,
    "start_time": "2022-10-10T09:31:11.200Z"
   },
   {
    "duration": 159,
    "start_time": "2022-10-10T09:31:11.366Z"
   },
   {
    "duration": 214,
    "start_time": "2022-10-10T09:31:11.527Z"
   },
   {
    "duration": 162,
    "start_time": "2022-10-10T09:31:11.743Z"
   },
   {
    "duration": 166,
    "start_time": "2022-10-10T09:31:11.907Z"
   },
   {
    "duration": 175,
    "start_time": "2022-10-10T09:31:12.074Z"
   },
   {
    "duration": 162,
    "start_time": "2022-10-10T09:31:12.251Z"
   },
   {
    "duration": 8,
    "start_time": "2022-10-10T09:31:12.415Z"
   },
   {
    "duration": 189,
    "start_time": "2022-10-10T09:31:12.424Z"
   },
   {
    "duration": 5,
    "start_time": "2022-10-10T09:31:12.615Z"
   },
   {
    "duration": 31,
    "start_time": "2022-10-10T09:31:12.621Z"
   },
   {
    "duration": 702,
    "start_time": "2022-10-10T09:31:12.653Z"
   },
   {
    "duration": 1375,
    "start_time": "2022-10-10T09:31:13.357Z"
   },
   {
    "duration": 90,
    "start_time": "2022-10-10T09:31:52.807Z"
   },
   {
    "duration": 268,
    "start_time": "2022-10-10T09:32:01.111Z"
   },
   {
    "duration": 9,
    "start_time": "2022-10-10T09:32:38.108Z"
   },
   {
    "duration": 213,
    "start_time": "2022-10-10T09:32:45.834Z"
   },
   {
    "duration": 117,
    "start_time": "2022-10-10T09:33:54.044Z"
   },
   {
    "duration": 284,
    "start_time": "2022-10-10T09:34:01.784Z"
   },
   {
    "duration": 1562,
    "start_time": "2022-10-13T10:24:02.414Z"
   },
   {
    "duration": 20,
    "start_time": "2022-10-13T10:24:03.977Z"
   },
   {
    "duration": 2261,
    "start_time": "2022-10-13T10:24:03.999Z"
   },
   {
    "duration": 9,
    "start_time": "2022-10-13T10:24:06.263Z"
   },
   {
    "duration": 12,
    "start_time": "2022-10-13T10:24:06.274Z"
   },
   {
    "duration": 57,
    "start_time": "2022-10-13T10:24:06.288Z"
   },
   {
    "duration": 5,
    "start_time": "2022-10-13T10:24:06.347Z"
   },
   {
    "duration": 25,
    "start_time": "2022-10-13T10:24:06.353Z"
   },
   {
    "duration": 9,
    "start_time": "2022-10-13T10:24:06.379Z"
   },
   {
    "duration": 13,
    "start_time": "2022-10-13T10:24:06.390Z"
   },
   {
    "duration": 26,
    "start_time": "2022-10-13T10:24:06.405Z"
   },
   {
    "duration": 19,
    "start_time": "2022-10-13T10:24:06.433Z"
   },
   {
    "duration": 19,
    "start_time": "2022-10-13T10:24:06.454Z"
   },
   {
    "duration": 14,
    "start_time": "2022-10-13T10:24:06.475Z"
   },
   {
    "duration": 41,
    "start_time": "2022-10-13T10:24:06.491Z"
   },
   {
    "duration": 42,
    "start_time": "2022-10-13T10:24:06.534Z"
   },
   {
    "duration": 61,
    "start_time": "2022-10-13T10:24:06.578Z"
   },
   {
    "duration": 39,
    "start_time": "2022-10-13T10:24:06.640Z"
   },
   {
    "duration": 38,
    "start_time": "2022-10-13T10:24:06.680Z"
   },
   {
    "duration": 21,
    "start_time": "2022-10-13T10:24:06.720Z"
   },
   {
    "duration": 28,
    "start_time": "2022-10-13T10:24:06.743Z"
   },
   {
    "duration": 29,
    "start_time": "2022-10-13T10:24:06.773Z"
   },
   {
    "duration": 15,
    "start_time": "2022-10-13T10:24:06.804Z"
   },
   {
    "duration": 430,
    "start_time": "2022-10-13T10:24:06.821Z"
   },
   {
    "duration": 4,
    "start_time": "2022-10-13T10:24:07.253Z"
   },
   {
    "duration": 18,
    "start_time": "2022-10-13T10:24:07.259Z"
   },
   {
    "duration": 56,
    "start_time": "2022-10-13T10:24:07.279Z"
   },
   {
    "duration": 282,
    "start_time": "2022-10-13T10:24:07.340Z"
   },
   {
    "duration": 269,
    "start_time": "2022-10-13T10:24:07.623Z"
   },
   {
    "duration": 255,
    "start_time": "2022-10-13T10:24:07.893Z"
   },
   {
    "duration": 260,
    "start_time": "2022-10-13T10:24:08.150Z"
   },
   {
    "duration": 247,
    "start_time": "2022-10-13T10:24:08.412Z"
   },
   {
    "duration": 344,
    "start_time": "2022-10-13T10:24:08.660Z"
   },
   {
    "duration": 293,
    "start_time": "2022-10-13T10:24:09.005Z"
   },
   {
    "duration": 282,
    "start_time": "2022-10-13T10:24:09.299Z"
   },
   {
    "duration": 234,
    "start_time": "2022-10-13T10:24:09.582Z"
   },
   {
    "duration": 217,
    "start_time": "2022-10-13T10:24:09.821Z"
   },
   {
    "duration": 233,
    "start_time": "2022-10-13T10:24:10.040Z"
   },
   {
    "duration": 276,
    "start_time": "2022-10-13T10:24:10.275Z"
   },
   {
    "duration": 280,
    "start_time": "2022-10-13T10:24:10.553Z"
   },
   {
    "duration": 237,
    "start_time": "2022-10-13T10:24:10.835Z"
   },
   {
    "duration": 14,
    "start_time": "2022-10-13T10:24:11.074Z"
   },
   {
    "duration": 39,
    "start_time": "2022-10-13T10:24:11.091Z"
   },
   {
    "duration": 120,
    "start_time": "2022-10-13T10:24:11.134Z"
   },
   {
    "duration": 303,
    "start_time": "2022-10-13T10:24:11.256Z"
   },
   {
    "duration": 172,
    "start_time": "2022-10-13T10:24:11.560Z"
   },
   {
    "duration": 243,
    "start_time": "2022-10-13T10:24:11.741Z"
   },
   {
    "duration": 167,
    "start_time": "2022-10-13T10:24:11.986Z"
   },
   {
    "duration": 222,
    "start_time": "2022-10-13T10:24:12.155Z"
   },
   {
    "duration": 191,
    "start_time": "2022-10-13T10:24:12.379Z"
   },
   {
    "duration": 173,
    "start_time": "2022-10-13T10:24:12.572Z"
   },
   {
    "duration": 193,
    "start_time": "2022-10-13T10:24:12.747Z"
   },
   {
    "duration": 163,
    "start_time": "2022-10-13T10:24:12.941Z"
   },
   {
    "duration": 22,
    "start_time": "2022-10-13T10:24:13.105Z"
   },
   {
    "duration": 187,
    "start_time": "2022-10-13T10:24:13.131Z"
   },
   {
    "duration": 11,
    "start_time": "2022-10-13T10:24:13.325Z"
   },
   {
    "duration": 48,
    "start_time": "2022-10-13T10:24:13.338Z"
   },
   {
    "duration": 706,
    "start_time": "2022-10-13T10:24:13.388Z"
   },
   {
    "duration": 1467,
    "start_time": "2022-10-13T10:24:14.096Z"
   },
   {
    "duration": 728,
    "start_time": "2022-10-13T10:25:35.215Z"
   }
  ],
  "kernelspec": {
   "display_name": "Python 3 (ipykernel)",
   "language": "python",
   "name": "python3"
  },
  "language_info": {
   "codemirror_mode": {
    "name": "ipython",
    "version": 3
   },
   "file_extension": ".py",
   "mimetype": "text/x-python",
   "name": "python",
   "nbconvert_exporter": "python",
   "pygments_lexer": "ipython3",
   "version": "3.9.5"
  },
  "toc": {
   "base_numbering": 1,
   "nav_menu": {},
   "number_sections": true,
   "sideBar": true,
   "skip_h1_title": true,
   "title_cell": "Table of Contents",
   "title_sidebar": "Contents",
   "toc_cell": false,
   "toc_position": {},
   "toc_section_display": true,
   "toc_window_display": false
  }
 },
 "nbformat": 4,
 "nbformat_minor": 2
}
